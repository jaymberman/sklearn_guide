{
 "cells": [
  {
   "cell_type": "markdown",
   "metadata": {},
   "source": [
    "# Sklearn guide\n",
    "\n",
    "Scikit-learn's clean and consistent API makes it popular for machine learning. It comes with toy data sets, a plethora of utilities for preprocessing, many different models, utilities to train models, define pipelines, test hyperparmeter sets, and evaluate model performance."
   ]
  },
  {
   "cell_type": "code",
   "execution_count": 69,
   "metadata": {},
   "outputs": [],
   "source": [
    "from sklearn import datasets\n",
    "iris = datasets.load_iris() #for classification\n",
    "digits = datasets.load_digits() #for classification\n",
    "boston = datasets.load_boston() #for regression"
   ]
  },
  {
   "cell_type": "code",
   "execution_count": 2,
   "metadata": {},
   "outputs": [
    {
     "name": "stdout",
     "output_type": "stream",
     "text": [
      ".. _iris_dataset:\n",
      "\n",
      "Iris plants dataset\n",
      "--------------------\n",
      "\n",
      "**Data Set Characteristics:**\n",
      "\n",
      "    :Number of Instances: 150 (50 in each of three classes)\n",
      "    :Number of Attributes: 4 numeric, predictive attributes and the class\n",
      "    :Attribute Information:\n",
      "        - sepal length in cm\n",
      "        - sepal width in cm\n",
      "        - petal length in cm\n",
      "        - petal width in cm\n",
      "        - class:\n",
      "                - Iris-Setosa\n",
      "                - Iris-Versicolour\n",
      "                - Iris-Virginica\n",
      "                \n",
      "    :Summary Statistics:\n",
      "\n",
      "    ============== ==== ==== ======= ===== ====================\n",
      "                    Min  Max   Mean    SD   Class Correlation\n",
      "    ============== ==== ==== ======= ===== ====================\n",
      "    sepal length:   4.3  7.9   5.84   0.83    0.7826\n",
      "    sepal width:    2.0  4.4   3.05   0.43   -0.4194\n",
      "    petal length:   1.0  6.9   3.76   1.76    0.9490  (high!)\n",
      "    petal width:    0.1  2.5   1.20   0.76    0.9565  (high!)\n",
      "    ============== ==== ==== ======= ===== ====================\n",
      "\n",
      "    :Missing Attribute Values: None\n",
      "    :Class Distribution: 33.3% for each of 3 classes.\n",
      "    :Creator: R.A. Fisher\n",
      "    :Donor: Michael Marshall (MARSHALL%PLU@io.arc.nasa.gov)\n",
      "    :Date: July, 1988\n",
      "\n",
      "The famous Iris database, first used by Sir R.A. Fisher. The dataset is taken\n",
      "from Fisher's paper. Note that it's the same as in R, but not as in the UCI\n",
      "Machine Learning Repository, which has two wrong data points.\n",
      "\n",
      "This is perhaps the best known database to be found in the\n",
      "pattern recognition literature.  Fisher's paper is a classic in the field and\n",
      "is referenced frequently to this day.  (See Duda & Hart, for example.)  The\n",
      "data set contains 3 classes of 50 instances each, where each class refers to a\n",
      "type of iris plant.  One class is linearly separable from the other 2; the\n",
      "latter are NOT linearly separable from each other.\n",
      "\n",
      ".. topic:: References\n",
      "\n",
      "   - Fisher, R.A. \"The use of multiple measurements in taxonomic problems\"\n",
      "     Annual Eugenics, 7, Part II, 179-188 (1936); also in \"Contributions to\n",
      "     Mathematical Statistics\" (John Wiley, NY, 1950).\n",
      "   - Duda, R.O., & Hart, P.E. (1973) Pattern Classification and Scene Analysis.\n",
      "     (Q327.D83) John Wiley & Sons.  ISBN 0-471-22361-1.  See page 218.\n",
      "   - Dasarathy, B.V. (1980) \"Nosing Around the Neighborhood: A New System\n",
      "     Structure and Classification Rule for Recognition in Partially Exposed\n",
      "     Environments\".  IEEE Transactions on Pattern Analysis and Machine\n",
      "     Intelligence, Vol. PAMI-2, No. 1, 67-71.\n",
      "   - Gates, G.W. (1972) \"The Reduced Nearest Neighbor Rule\".  IEEE Transactions\n",
      "     on Information Theory, May 1972, 431-433.\n",
      "   - See also: 1988 MLC Proceedings, 54-64.  Cheeseman et al\"s AUTOCLASS II\n",
      "     conceptual clustering system finds 3 classes in the data.\n",
      "   - Many, many more ...\n",
      "\n",
      "\n",
      ".. _digits_dataset:\n",
      "\n",
      "Optical recognition of handwritten digits dataset\n",
      "--------------------------------------------------\n",
      "\n",
      "**Data Set Characteristics:**\n",
      "\n",
      "    :Number of Instances: 5620\n",
      "    :Number of Attributes: 64\n",
      "    :Attribute Information: 8x8 image of integer pixels in the range 0..16.\n",
      "    :Missing Attribute Values: None\n",
      "    :Creator: E. Alpaydin (alpaydin '@' boun.edu.tr)\n",
      "    :Date: July; 1998\n",
      "\n",
      "This is a copy of the test set of the UCI ML hand-written digits datasets\n",
      "https://archive.ics.uci.edu/ml/datasets/Optical+Recognition+of+Handwritten+Digits\n",
      "\n",
      "The data set contains images of hand-written digits: 10 classes where\n",
      "each class refers to a digit.\n",
      "\n",
      "Preprocessing programs made available by NIST were used to extract\n",
      "normalized bitmaps of handwritten digits from a preprinted form. From a\n",
      "total of 43 people, 30 contributed to the training set and different 13\n",
      "to the test set. 32x32 bitmaps are divided into nonoverlapping blocks of\n",
      "4x4 and the number of on pixels are counted in each block. This generates\n",
      "an input matrix of 8x8 where each element is an integer in the range\n",
      "0..16. This reduces dimensionality and gives invariance to small\n",
      "distortions.\n",
      "\n",
      "For info on NIST preprocessing routines, see M. D. Garris, J. L. Blue, G.\n",
      "T. Candela, D. L. Dimmick, J. Geist, P. J. Grother, S. A. Janet, and C.\n",
      "L. Wilson, NIST Form-Based Handprint Recognition System, NISTIR 5469,\n",
      "1994.\n",
      "\n",
      ".. topic:: References\n",
      "\n",
      "  - C. Kaynak (1995) Methods of Combining Multiple Classifiers and Their\n",
      "    Applications to Handwritten Digit Recognition, MSc Thesis, Institute of\n",
      "    Graduate Studies in Science and Engineering, Bogazici University.\n",
      "  - E. Alpaydin, C. Kaynak (1998) Cascading Classifiers, Kybernetika.\n",
      "  - Ken Tang and Ponnuthurai N. Suganthan and Xi Yao and A. Kai Qin.\n",
      "    Linear dimensionalityreduction using relevance weighted LDA. School of\n",
      "    Electrical and Electronic Engineering Nanyang Technological University.\n",
      "    2005.\n",
      "  - Claudio Gentile. A New Approximate Maximal Margin Classification\n",
      "    Algorithm. NIPS. 2000.\n",
      "\n",
      "\n",
      ".. _boston_dataset:\n",
      "\n",
      "Boston house prices dataset\n",
      "---------------------------\n",
      "\n",
      "**Data Set Characteristics:**  \n",
      "\n",
      "    :Number of Instances: 506 \n",
      "\n",
      "    :Number of Attributes: 13 numeric/categorical predictive. Median Value (attribute 14) is usually the target.\n",
      "\n",
      "    :Attribute Information (in order):\n",
      "        - CRIM     per capita crime rate by town\n",
      "        - ZN       proportion of residential land zoned for lots over 25,000 sq.ft.\n",
      "        - INDUS    proportion of non-retail business acres per town\n",
      "        - CHAS     Charles River dummy variable (= 1 if tract bounds river; 0 otherwise)\n",
      "        - NOX      nitric oxides concentration (parts per 10 million)\n",
      "        - RM       average number of rooms per dwelling\n",
      "        - AGE      proportion of owner-occupied units built prior to 1940\n",
      "        - DIS      weighted distances to five Boston employment centres\n",
      "        - RAD      index of accessibility to radial highways\n",
      "        - TAX      full-value property-tax rate per $10,000\n",
      "        - PTRATIO  pupil-teacher ratio by town\n",
      "        - B        1000(Bk - 0.63)^2 where Bk is the proportion of blacks by town\n",
      "        - LSTAT    % lower status of the population\n",
      "        - MEDV     Median value of owner-occupied homes in $1000's\n",
      "\n",
      "    :Missing Attribute Values: None\n",
      "\n",
      "    :Creator: Harrison, D. and Rubinfeld, D.L.\n",
      "\n",
      "This is a copy of UCI ML housing dataset.\n",
      "https://archive.ics.uci.edu/ml/machine-learning-databases/housing/\n",
      "\n",
      "\n",
      "This dataset was taken from the StatLib library which is maintained at Carnegie Mellon University.\n",
      "\n",
      "The Boston house-price data of Harrison, D. and Rubinfeld, D.L. 'Hedonic\n",
      "prices and the demand for clean air', J. Environ. Economics & Management,\n",
      "vol.5, 81-102, 1978.   Used in Belsley, Kuh & Welsch, 'Regression diagnostics\n",
      "...', Wiley, 1980.   N.B. Various transformations are used in the table on\n",
      "pages 244-261 of the latter.\n",
      "\n",
      "The Boston house-price data has been used in many machine learning papers that address regression\n",
      "problems.   \n",
      "     \n",
      ".. topic:: References\n",
      "\n",
      "   - Belsley, Kuh & Welsch, 'Regression diagnostics: Identifying Influential Data and Sources of Collinearity', Wiley, 1980. 244-261.\n",
      "   - Quinlan,R. (1993). Combining Instance-Based and Model-Based Learning. In Proceedings on the Tenth International Conference of Machine Learning, 236-243, University of Massachusetts, Amherst. Morgan Kaufmann.\n",
      "\n"
     ]
    }
   ],
   "source": [
    "print(iris.DESCR + '\\n\\n\\n' + digits.DESCR + '\\n\\n\\n' + boston.DESCR)"
   ]
  },
  {
   "cell_type": "code",
   "execution_count": 3,
   "metadata": {},
   "outputs": [
    {
     "data": {
      "text/plain": [
       "dict_keys(['data', 'target', 'frame', 'feature_names', 'target_names', 'images', 'DESCR'])"
      ]
     },
     "execution_count": 3,
     "metadata": {},
     "output_type": "execute_result"
    }
   ],
   "source": [
    "digits.keys()"
   ]
  },
  {
   "cell_type": "code",
   "execution_count": 4,
   "metadata": {},
   "outputs": [],
   "source": [
    "import matplotlib.pyplot as plt"
   ]
  },
  {
   "cell_type": "code",
   "execution_count": 5,
   "metadata": {},
   "outputs": [
    {
     "data": {
      "text/plain": [
       "<matplotlib.image.AxesImage at 0x7f9608318e50>"
      ]
     },
     "execution_count": 5,
     "metadata": {},
     "output_type": "execute_result"
    },
    {
     "data": {
      "image/png": "[encoded data removed]",
      "text/plain": [
       "<Figure size 432x288 with 1 Axes>"
      ]
     },
     "metadata": {
      "needs_background": "light"
     },
     "output_type": "display_data"
    }
   ],
   "source": [
    "plt.imshow(digits.images[15])"
   ]
  },
  {
   "cell_type": "code",
   "execution_count": 6,
   "metadata": {},
   "outputs": [
    {
     "data": {
      "text/plain": [
       "dict_keys(['data', 'target', 'frame', 'target_names', 'DESCR', 'feature_names', 'filename'])"
      ]
     },
     "execution_count": 6,
     "metadata": {},
     "output_type": "execute_result"
    }
   ],
   "source": [
    "iris.keys()"
   ]
  },
  {
   "cell_type": "code",
   "execution_count": 7,
   "metadata": {},
   "outputs": [
    {
     "data": {
      "text/plain": [
       "array([[5.1, 3.5, 1.4, 0.2],\n",
       "       [4.9, 3. , 1.4, 0.2],\n",
       "       [4.7, 3.2, 1.3, 0.2],\n",
       "       [4.6, 3.1, 1.5, 0.2],\n",
       "       [5. , 3.6, 1.4, 0.2],\n",
       "       [5.4, 3.9, 1.7, 0.4],\n",
       "       [4.6, 3.4, 1.4, 0.3],\n",
       "       [5. , 3.4, 1.5, 0.2],\n",
       "       [4.4, 2.9, 1.4, 0.2],\n",
       "       [4.9, 3.1, 1.5, 0.1],\n",
       "       [5.4, 3.7, 1.5, 0.2],\n",
       "       [4.8, 3.4, 1.6, 0.2],\n",
       "       [4.8, 3. , 1.4, 0.1],\n",
       "       [4.3, 3. , 1.1, 0.1],\n",
       "       [5.8, 4. , 1.2, 0.2],\n",
       "       [5.7, 4.4, 1.5, 0.4],\n",
       "       [5.4, 3.9, 1.3, 0.4],\n",
       "       [5.1, 3.5, 1.4, 0.3],\n",
       "       [5.7, 3.8, 1.7, 0.3],\n",
       "       [5.1, 3.8, 1.5, 0.3],\n",
       "       [5.4, 3.4, 1.7, 0.2],\n",
       "       [5.1, 3.7, 1.5, 0.4],\n",
       "       [4.6, 3.6, 1. , 0.2],\n",
       "       [5.1, 3.3, 1.7, 0.5],\n",
       "       [4.8, 3.4, 1.9, 0.2],\n",
       "       [5. , 3. , 1.6, 0.2],\n",
       "       [5. , 3.4, 1.6, 0.4],\n",
       "       [5.2, 3.5, 1.5, 0.2],\n",
       "       [5.2, 3.4, 1.4, 0.2],\n",
       "       [4.7, 3.2, 1.6, 0.2],\n",
       "       [4.8, 3.1, 1.6, 0.2],\n",
       "       [5.4, 3.4, 1.5, 0.4],\n",
       "       [5.2, 4.1, 1.5, 0.1],\n",
       "       [5.5, 4.2, 1.4, 0.2],\n",
       "       [4.9, 3.1, 1.5, 0.2],\n",
       "       [5. , 3.2, 1.2, 0.2],\n",
       "       [5.5, 3.5, 1.3, 0.2],\n",
       "       [4.9, 3.6, 1.4, 0.1],\n",
       "       [4.4, 3. , 1.3, 0.2],\n",
       "       [5.1, 3.4, 1.5, 0.2],\n",
       "       [5. , 3.5, 1.3, 0.3],\n",
       "       [4.5, 2.3, 1.3, 0.3],\n",
       "       [4.4, 3.2, 1.3, 0.2],\n",
       "       [5. , 3.5, 1.6, 0.6],\n",
       "       [5.1, 3.8, 1.9, 0.4],\n",
       "       [4.8, 3. , 1.4, 0.3],\n",
       "       [5.1, 3.8, 1.6, 0.2],\n",
       "       [4.6, 3.2, 1.4, 0.2],\n",
       "       [5.3, 3.7, 1.5, 0.2],\n",
       "       [5. , 3.3, 1.4, 0.2],\n",
       "       [7. , 3.2, 4.7, 1.4],\n",
       "       [6.4, 3.2, 4.5, 1.5],\n",
       "       [6.9, 3.1, 4.9, 1.5],\n",
       "       [5.5, 2.3, 4. , 1.3],\n",
       "       [6.5, 2.8, 4.6, 1.5],\n",
       "       [5.7, 2.8, 4.5, 1.3],\n",
       "       [6.3, 3.3, 4.7, 1.6],\n",
       "       [4.9, 2.4, 3.3, 1. ],\n",
       "       [6.6, 2.9, 4.6, 1.3],\n",
       "       [5.2, 2.7, 3.9, 1.4],\n",
       "       [5. , 2. , 3.5, 1. ],\n",
       "       [5.9, 3. , 4.2, 1.5],\n",
       "       [6. , 2.2, 4. , 1. ],\n",
       "       [6.1, 2.9, 4.7, 1.4],\n",
       "       [5.6, 2.9, 3.6, 1.3],\n",
       "       [6.7, 3.1, 4.4, 1.4],\n",
       "       [5.6, 3. , 4.5, 1.5],\n",
       "       [5.8, 2.7, 4.1, 1. ],\n",
       "       [6.2, 2.2, 4.5, 1.5],\n",
       "       [5.6, 2.5, 3.9, 1.1],\n",
       "       [5.9, 3.2, 4.8, 1.8],\n",
       "       [6.1, 2.8, 4. , 1.3],\n",
       "       [6.3, 2.5, 4.9, 1.5],\n",
       "       [6.1, 2.8, 4.7, 1.2],\n",
       "       [6.4, 2.9, 4.3, 1.3],\n",
       "       [6.6, 3. , 4.4, 1.4],\n",
       "       [6.8, 2.8, 4.8, 1.4],\n",
       "       [6.7, 3. , 5. , 1.7],\n",
       "       [6. , 2.9, 4.5, 1.5],\n",
       "       [5.7, 2.6, 3.5, 1. ],\n",
       "       [5.5, 2.4, 3.8, 1.1],\n",
       "       [5.5, 2.4, 3.7, 1. ],\n",
       "       [5.8, 2.7, 3.9, 1.2],\n",
       "       [6. , 2.7, 5.1, 1.6],\n",
       "       [5.4, 3. , 4.5, 1.5],\n",
       "       [6. , 3.4, 4.5, 1.6],\n",
       "       [6.7, 3.1, 4.7, 1.5],\n",
       "       [6.3, 2.3, 4.4, 1.3],\n",
       "       [5.6, 3. , 4.1, 1.3],\n",
       "       [5.5, 2.5, 4. , 1.3],\n",
       "       [5.5, 2.6, 4.4, 1.2],\n",
       "       [6.1, 3. , 4.6, 1.4],\n",
       "       [5.8, 2.6, 4. , 1.2],\n",
       "       [5. , 2.3, 3.3, 1. ],\n",
       "       [5.6, 2.7, 4.2, 1.3],\n",
       "       [5.7, 3. , 4.2, 1.2],\n",
       "       [5.7, 2.9, 4.2, 1.3],\n",
       "       [6.2, 2.9, 4.3, 1.3],\n",
       "       [5.1, 2.5, 3. , 1.1],\n",
       "       [5.7, 2.8, 4.1, 1.3],\n",
       "       [6.3, 3.3, 6. , 2.5],\n",
       "       [5.8, 2.7, 5.1, 1.9],\n",
       "       [7.1, 3. , 5.9, 2.1],\n",
       "       [6.3, 2.9, 5.6, 1.8],\n",
       "       [6.5, 3. , 5.8, 2.2],\n",
       "       [7.6, 3. , 6.6, 2.1],\n",
       "       [4.9, 2.5, 4.5, 1.7],\n",
       "       [7.3, 2.9, 6.3, 1.8],\n",
       "       [6.7, 2.5, 5.8, 1.8],\n",
       "       [7.2, 3.6, 6.1, 2.5],\n",
       "       [6.5, 3.2, 5.1, 2. ],\n",
       "       [6.4, 2.7, 5.3, 1.9],\n",
       "       [6.8, 3. , 5.5, 2.1],\n",
       "       [5.7, 2.5, 5. , 2. ],\n",
       "       [5.8, 2.8, 5.1, 2.4],\n",
       "       [6.4, 3.2, 5.3, 2.3],\n",
       "       [6.5, 3. , 5.5, 1.8],\n",
       "       [7.7, 3.8, 6.7, 2.2],\n",
       "       [7.7, 2.6, 6.9, 2.3],\n",
       "       [6. , 2.2, 5. , 1.5],\n",
       "       [6.9, 3.2, 5.7, 2.3],\n",
       "       [5.6, 2.8, 4.9, 2. ],\n",
       "       [7.7, 2.8, 6.7, 2. ],\n",
       "       [6.3, 2.7, 4.9, 1.8],\n",
       "       [6.7, 3.3, 5.7, 2.1],\n",
       "       [7.2, 3.2, 6. , 1.8],\n",
       "       [6.2, 2.8, 4.8, 1.8],\n",
       "       [6.1, 3. , 4.9, 1.8],\n",
       "       [6.4, 2.8, 5.6, 2.1],\n",
       "       [7.2, 3. , 5.8, 1.6],\n",
       "       [7.4, 2.8, 6.1, 1.9],\n",
       "       [7.9, 3.8, 6.4, 2. ],\n",
       "       [6.4, 2.8, 5.6, 2.2],\n",
       "       [6.3, 2.8, 5.1, 1.5],\n",
       "       [6.1, 2.6, 5.6, 1.4],\n",
       "       [7.7, 3. , 6.1, 2.3],\n",
       "       [6.3, 3.4, 5.6, 2.4],\n",
       "       [6.4, 3.1, 5.5, 1.8],\n",
       "       [6. , 3. , 4.8, 1.8],\n",
       "       [6.9, 3.1, 5.4, 2.1],\n",
       "       [6.7, 3.1, 5.6, 2.4],\n",
       "       [6.9, 3.1, 5.1, 2.3],\n",
       "       [5.8, 2.7, 5.1, 1.9],\n",
       "       [6.8, 3.2, 5.9, 2.3],\n",
       "       [6.7, 3.3, 5.7, 2.5],\n",
       "       [6.7, 3. , 5.2, 2.3],\n",
       "       [6.3, 2.5, 5. , 1.9],\n",
       "       [6.5, 3. , 5.2, 2. ],\n",
       "       [6.2, 3.4, 5.4, 2.3],\n",
       "       [5.9, 3. , 5.1, 1.8]])"
      ]
     },
     "execution_count": 7,
     "metadata": {},
     "output_type": "execute_result"
    }
   ],
   "source": [
    "iris.data"
   ]
  },
  {
   "cell_type": "code",
   "execution_count": 8,
   "metadata": {},
   "outputs": [
    {
     "data": {
      "text/plain": [
       "150"
      ]
     },
     "execution_count": 8,
     "metadata": {},
     "output_type": "execute_result"
    }
   ],
   "source": [
    "len(iris.data)"
   ]
  },
  {
   "cell_type": "markdown",
   "metadata": {},
   "source": [
    "As a first example in the sklearn API lets check out the iris dataset. In order to determine which model to use, we'll simply follow the flowchart given by sklearn:\n",
    "\n",
    "<img src=\"sklearn-model-selection-flowchart.png\">\n",
    "\n",
    "Following the chart, we choose SVC first (linearSVC exactly), and then perhaps KNN and finally ensemble SVC.\n",
    "\n",
    "Next we go to the [sklearn documentation page](https://scikit-learn.org/stable/modules/svm.html) for SVC. \n",
    "\n",
    "From a cursory reading we establish that the features should have mean 0 and variance 1. We then go to the [documentation for LinearSVC](https://scikit-learn.org/stable/modules/generated/sklearn.svm.LinearSVC.html#sklearn.svm.LinearSVC) and read about reasonable parameter choices, which we consider in our grid search.\n",
    "\n"
   ]
  },
  {
   "cell_type": "code",
   "execution_count": 81,
   "metadata": {},
   "outputs": [],
   "source": [
    "from sklearn.model_selection import train_test_split\n",
    "from sklearn.metrics import classification_report\n",
    "from sklearn.preprocessing import StandardScaler\n",
    "from sklearn.svm import LinearSVC\n",
    "from sklearn.model_selection import GridSearchCV"
   ]
  },
  {
   "cell_type": "code",
   "execution_count": 82,
   "metadata": {},
   "outputs": [
    {
     "name": "stdout",
     "output_type": "stream",
     "text": [
      "Fitting 5 folds for each of 36 candidates, totalling 180 fits\n"
     ]
    },
    {
     "name": "stderr",
     "output_type": "stream",
     "text": [
      "[Parallel(n_jobs=-1)]: Using backend LokyBackend with 12 concurrent workers.\n",
      "[Parallel(n_jobs=-1)]: Done  26 tasks      | elapsed:    0.7s\n",
      "[Parallel(n_jobs=-1)]: Done 180 out of 180 | elapsed:    0.7s finished\n",
      "/home/jared/anaconda3/envs/ds/lib/python3.8/site-packages/sklearn/svm/_base.py:976: ConvergenceWarning: Liblinear failed to converge, increase the number of iterations.\n",
      "  warnings.warn(\"Liblinear failed to converge, increase \"\n"
     ]
    },
    {
     "data": {
      "text/plain": [
       "GridSearchCV(cv=5, estimator=LinearSVC(random_state=0), n_jobs=-1,\n",
       "             param_grid={'C': [1, 2, 10], 'dual': [True, False],\n",
       "                         'loss': ['hinge', 'squared-hinge'],\n",
       "                         'tol': [0.001, 0.0001, 1e-05]},\n",
       "             scoring='accuracy', verbose=True)"
      ]
     },
     "execution_count": 82,
     "metadata": {},
     "output_type": "execute_result"
    }
   ],
   "source": [
    "scalar = StandardScaler()\n",
    "data = scalar.fit_transform(iris.data)\n",
    "X_train, X_test, y_train, y_test = train_test_split(data, iris.target, random_state = 42)\n",
    "\n",
    "param_grid = {'loss': ['hinge', 'squared-hinge'],\n",
    "              'dual': [True, False],\n",
    "              'tol': [1e-3, 1e-4, 1e-5],\n",
    "              'C': [1, 2, 10]}\n",
    "\n",
    "clf = GridSearchCV(LinearSVC(random_state = 0), \n",
    "                   param_grid = param_grid, \n",
    "                   scoring = 'accuracy', \n",
    "                   n_jobs = -1, \n",
    "                   cv = 5, \n",
    "                   verbose = True)\n",
    "\n",
    "clf.fit(X_train, y_train)"
   ]
  },
  {
   "cell_type": "code",
   "execution_count": 83,
   "metadata": {},
   "outputs": [
    {
     "data": {
      "text/plain": [
       "{'C': 10, 'dual': True, 'loss': 'hinge', 'tol': 0.0001}"
      ]
     },
     "execution_count": 83,
     "metadata": {},
     "output_type": "execute_result"
    }
   ],
   "source": [
    "clf.best_params_"
   ]
  },
  {
   "cell_type": "code",
   "execution_count": 12,
   "metadata": {},
   "outputs": [],
   "source": [
    "y_pred = clf.predict(X_test)"
   ]
  },
  {
   "cell_type": "code",
   "execution_count": 13,
   "metadata": {},
   "outputs": [
    {
     "name": "stdout",
     "output_type": "stream",
     "text": [
      "              precision    recall  f1-score   support\n",
      "\n",
      "           0       1.00      1.00      1.00        15\n",
      "           1       1.00      0.91      0.95        11\n",
      "           2       0.92      1.00      0.96        12\n",
      "\n",
      "    accuracy                           0.97        38\n",
      "   macro avg       0.97      0.97      0.97        38\n",
      "weighted avg       0.98      0.97      0.97        38\n",
      "\n"
     ]
    }
   ],
   "source": [
    "print(classification_report(y_test, y_pred))"
   ]
  },
  {
   "cell_type": "markdown",
   "metadata": {},
   "source": [
    "This was a very brief tour of a basic experiment workflow using sklearn. We use preprocessing functions and usually call `fit_transform()` to process the x_data (the fit implies that something is computed - in the case of StandardScalar the mean and variance of each column is computed, and the transform implies that we are performing the centering and scaling to the feature columns). We then use a function like `train_test_split()`, pick a parameter grid over which to search, and finally train the model using the model's `fit()` method and then `predict()` method for performance evaluation (in this case we gave GridSearchCV the model and, after it trains on the data, it can be used to make the predictions). Of course many steps were left out of this summary - we have to know which model type to choose, which hyperparameters make sense, which preprocessing steps are needed, which training method to use in terms of optimizer or penalty, and which metrics to use to evaluate model performance.\n",
    "\n",
    "<hr>\n",
    "Here I briefly review the preprocessing steps used in this experiment.\n",
    "\n",
    "[StandardScaler](https://scikit-learn.org/stable/modules/generated/sklearn.preprocessing.StandardScaler.html) is pretty straight forward - it normalizes the samples by setting the mean to 0 and variance to 1. One useful parameter to pass if the data were \"large\" would be `copy = False`, which normalizes the data in-place. \n",
    "\n",
    "[train_test_split](https://scikit-learn.org/stable/modules/generated/sklearn.model_selection.train_test_split.html) has parameters to control the test test (as a percentage or cardinality), whether or not to shuffle the dataset first, `random_state`, etc.\n",
    "\n",
    "[GridSearchCV](https://scikit-learn.org/stable/modules/generated/sklearn.model_selection.GridSearchCV.html) itself has many parameters e.g. how to score the different models, how many cross-validation folds to use, how many cores to use, etc.\n",
    "\n",
    "\n",
    "\n",
    "\n",
    "\n",
    "\n",
    "\n"
   ]
  },
  {
   "cell_type": "markdown",
   "metadata": {},
   "source": [
    "## Machine Learning Workflow Overview\n",
    "\n",
    "Here are presented some examples using key methods to automate modeling. I'll use the boston data set and demonstrate a regression, as classification tasks are more involved."
   ]
  },
  {
   "cell_type": "markdown",
   "metadata": {},
   "source": [
    "### Learn about the data"
   ]
  },
  {
   "cell_type": "code",
   "execution_count": 20,
   "metadata": {},
   "outputs": [
    {
     "name": "stdout",
     "output_type": "stream",
     "text": [
      ".. _boston_dataset:\n",
      "\n",
      "Boston house prices dataset\n",
      "---------------------------\n",
      "\n",
      "**Data Set Characteristics:**  \n",
      "\n",
      "    :Number of Instances: 506 \n",
      "\n",
      "    :Number of Attributes: 13 numeric/categorical predictive. Median Value (attribute 14) is usually the target.\n",
      "\n",
      "    :Attribute Information (in order):\n",
      "        - CRIM     per capita crime rate by town\n",
      "        - ZN       proportion of residential land zoned for lots over 25,000 sq.ft.\n",
      "        - INDUS    proportion of non-retail business acres per town\n",
      "        - CHAS     Charles River dummy variable (= 1 if tract bounds river; 0 otherwise)\n",
      "        - NOX      nitric oxides concentration (parts per 10 million)\n",
      "        - RM       average number of rooms per dwelling\n",
      "        - AGE      proportion of owner-occupied units built prior to 1940\n",
      "        - DIS      weighted distances to five Boston employment centres\n",
      "        - RAD      index of accessibility to radial highways\n",
      "        - TAX      full-value property-tax rate per $10,000\n",
      "        - PTRATIO  pupil-teacher ratio by town\n",
      "        - B        1000(Bk - 0.63)^2 where Bk is the proportion of blacks by town\n",
      "        - LSTAT    % lower status of the population\n",
      "        - MEDV     Median value of owner-occupied homes in $1000's\n",
      "\n",
      "    :Missing Attribute Values: None\n",
      "\n",
      "    :Creator: Harrison, D. and Rubinfeld, D.L.\n",
      "\n",
      "This is a copy of UCI ML housing dataset.\n",
      "https://archive.ics.uci.edu/ml/machine-learning-databases/housing/\n",
      "\n",
      "\n",
      "This dataset was taken from the StatLib library which is maintained at Carnegie Mellon University.\n",
      "\n",
      "The Boston house-price data of Harrison, D. and Rubinfeld, D.L. 'Hedonic\n",
      "prices and the demand for clean air', J. Environ. Economics & Management,\n",
      "vol.5, 81-102, 1978.   Used in Belsley, Kuh & Welsch, 'Regression diagnostics\n",
      "...', Wiley, 1980.   N.B. Various transformations are used in the table on\n",
      "pages 244-261 of the latter.\n",
      "\n",
      "The Boston house-price data has been used in many machine learning papers that address regression\n",
      "problems.   \n",
      "     \n",
      ".. topic:: References\n",
      "\n",
      "   - Belsley, Kuh & Welsch, 'Regression diagnostics: Identifying Influential Data and Sources of Collinearity', Wiley, 1980. 244-261.\n",
      "   - Quinlan,R. (1993). Combining Instance-Based and Model-Based Learning. In Proceedings on the Tenth International Conference of Machine Learning, 236-243, University of Massachusetts, Amherst. Morgan Kaufmann.\n",
      "\n"
     ]
    }
   ],
   "source": [
    "print(boston.DESCR)"
   ]
  },
  {
   "cell_type": "code",
   "execution_count": 73,
   "metadata": {},
   "outputs": [],
   "source": [
    "import pandas as pd\n",
    "attribs = list(boston['feature_names'])\n",
    "df = pd.DataFrame(boston.data, columns=attribs)\n",
    "df['MED_VALUE'] = boston.target"
   ]
  },
  {
   "cell_type": "code",
   "execution_count": 74,
   "metadata": {},
   "outputs": [
    {
     "data": {
      "text/html": [
       "<div>\n",
       "<style scoped>\n",
       "    .dataframe tbody tr th:only-of-type {\n",
       "        vertical-align: middle;\n",
       "    }\n",
       "\n",
       "    .dataframe tbody tr th {\n",
       "        vertical-align: top;\n",
       "    }\n",
       "\n",
       "    .dataframe thead th {\n",
       "        text-align: right;\n",
       "    }\n",
       "</style>\n",
       "<table border=\"1\" class=\"dataframe\">\n",
       "  <thead>\n",
       "    <tr style=\"text-align: right;\">\n",
       "      <th></th>\n",
       "      <th>CRIM</th>\n",
       "      <th>ZN</th>\n",
       "      <th>INDUS</th>\n",
       "      <th>CHAS</th>\n",
       "      <th>NOX</th>\n",
       "      <th>RM</th>\n",
       "      <th>AGE</th>\n",
       "      <th>DIS</th>\n",
       "      <th>RAD</th>\n",
       "      <th>TAX</th>\n",
       "      <th>PTRATIO</th>\n",
       "      <th>B</th>\n",
       "      <th>LSTAT</th>\n",
       "      <th>MED_VALUE</th>\n",
       "    </tr>\n",
       "  </thead>\n",
       "  <tbody>\n",
       "    <tr>\n",
       "      <th>0</th>\n",
       "      <td>0.00632</td>\n",
       "      <td>18.0</td>\n",
       "      <td>2.31</td>\n",
       "      <td>0.0</td>\n",
       "      <td>0.538</td>\n",
       "      <td>6.575</td>\n",
       "      <td>65.2</td>\n",
       "      <td>4.0900</td>\n",
       "      <td>1.0</td>\n",
       "      <td>296.0</td>\n",
       "      <td>15.3</td>\n",
       "      <td>396.90</td>\n",
       "      <td>4.98</td>\n",
       "      <td>24.0</td>\n",
       "    </tr>\n",
       "    <tr>\n",
       "      <th>1</th>\n",
       "      <td>0.02731</td>\n",
       "      <td>0.0</td>\n",
       "      <td>7.07</td>\n",
       "      <td>0.0</td>\n",
       "      <td>0.469</td>\n",
       "      <td>6.421</td>\n",
       "      <td>78.9</td>\n",
       "      <td>4.9671</td>\n",
       "      <td>2.0</td>\n",
       "      <td>242.0</td>\n",
       "      <td>17.8</td>\n",
       "      <td>396.90</td>\n",
       "      <td>9.14</td>\n",
       "      <td>21.6</td>\n",
       "    </tr>\n",
       "    <tr>\n",
       "      <th>2</th>\n",
       "      <td>0.02729</td>\n",
       "      <td>0.0</td>\n",
       "      <td>7.07</td>\n",
       "      <td>0.0</td>\n",
       "      <td>0.469</td>\n",
       "      <td>7.185</td>\n",
       "      <td>61.1</td>\n",
       "      <td>4.9671</td>\n",
       "      <td>2.0</td>\n",
       "      <td>242.0</td>\n",
       "      <td>17.8</td>\n",
       "      <td>392.83</td>\n",
       "      <td>4.03</td>\n",
       "      <td>34.7</td>\n",
       "    </tr>\n",
       "    <tr>\n",
       "      <th>3</th>\n",
       "      <td>0.03237</td>\n",
       "      <td>0.0</td>\n",
       "      <td>2.18</td>\n",
       "      <td>0.0</td>\n",
       "      <td>0.458</td>\n",
       "      <td>6.998</td>\n",
       "      <td>45.8</td>\n",
       "      <td>6.0622</td>\n",
       "      <td>3.0</td>\n",
       "      <td>222.0</td>\n",
       "      <td>18.7</td>\n",
       "      <td>394.63</td>\n",
       "      <td>2.94</td>\n",
       "      <td>33.4</td>\n",
       "    </tr>\n",
       "    <tr>\n",
       "      <th>4</th>\n",
       "      <td>0.06905</td>\n",
       "      <td>0.0</td>\n",
       "      <td>2.18</td>\n",
       "      <td>0.0</td>\n",
       "      <td>0.458</td>\n",
       "      <td>7.147</td>\n",
       "      <td>54.2</td>\n",
       "      <td>6.0622</td>\n",
       "      <td>3.0</td>\n",
       "      <td>222.0</td>\n",
       "      <td>18.7</td>\n",
       "      <td>396.90</td>\n",
       "      <td>5.33</td>\n",
       "      <td>36.2</td>\n",
       "    </tr>\n",
       "    <tr>\n",
       "      <th>...</th>\n",
       "      <td>...</td>\n",
       "      <td>...</td>\n",
       "      <td>...</td>\n",
       "      <td>...</td>\n",
       "      <td>...</td>\n",
       "      <td>...</td>\n",
       "      <td>...</td>\n",
       "      <td>...</td>\n",
       "      <td>...</td>\n",
       "      <td>...</td>\n",
       "      <td>...</td>\n",
       "      <td>...</td>\n",
       "      <td>...</td>\n",
       "      <td>...</td>\n",
       "    </tr>\n",
       "    <tr>\n",
       "      <th>501</th>\n",
       "      <td>0.06263</td>\n",
       "      <td>0.0</td>\n",
       "      <td>11.93</td>\n",
       "      <td>0.0</td>\n",
       "      <td>0.573</td>\n",
       "      <td>6.593</td>\n",
       "      <td>69.1</td>\n",
       "      <td>2.4786</td>\n",
       "      <td>1.0</td>\n",
       "      <td>273.0</td>\n",
       "      <td>21.0</td>\n",
       "      <td>391.99</td>\n",
       "      <td>9.67</td>\n",
       "      <td>22.4</td>\n",
       "    </tr>\n",
       "    <tr>\n",
       "      <th>502</th>\n",
       "      <td>0.04527</td>\n",
       "      <td>0.0</td>\n",
       "      <td>11.93</td>\n",
       "      <td>0.0</td>\n",
       "      <td>0.573</td>\n",
       "      <td>6.120</td>\n",
       "      <td>76.7</td>\n",
       "      <td>2.2875</td>\n",
       "      <td>1.0</td>\n",
       "      <td>273.0</td>\n",
       "      <td>21.0</td>\n",
       "      <td>396.90</td>\n",
       "      <td>9.08</td>\n",
       "      <td>20.6</td>\n",
       "    </tr>\n",
       "    <tr>\n",
       "      <th>503</th>\n",
       "      <td>0.06076</td>\n",
       "      <td>0.0</td>\n",
       "      <td>11.93</td>\n",
       "      <td>0.0</td>\n",
       "      <td>0.573</td>\n",
       "      <td>6.976</td>\n",
       "      <td>91.0</td>\n",
       "      <td>2.1675</td>\n",
       "      <td>1.0</td>\n",
       "      <td>273.0</td>\n",
       "      <td>21.0</td>\n",
       "      <td>396.90</td>\n",
       "      <td>5.64</td>\n",
       "      <td>23.9</td>\n",
       "    </tr>\n",
       "    <tr>\n",
       "      <th>504</th>\n",
       "      <td>0.10959</td>\n",
       "      <td>0.0</td>\n",
       "      <td>11.93</td>\n",
       "      <td>0.0</td>\n",
       "      <td>0.573</td>\n",
       "      <td>6.794</td>\n",
       "      <td>89.3</td>\n",
       "      <td>2.3889</td>\n",
       "      <td>1.0</td>\n",
       "      <td>273.0</td>\n",
       "      <td>21.0</td>\n",
       "      <td>393.45</td>\n",
       "      <td>6.48</td>\n",
       "      <td>22.0</td>\n",
       "    </tr>\n",
       "    <tr>\n",
       "      <th>505</th>\n",
       "      <td>0.04741</td>\n",
       "      <td>0.0</td>\n",
       "      <td>11.93</td>\n",
       "      <td>0.0</td>\n",
       "      <td>0.573</td>\n",
       "      <td>6.030</td>\n",
       "      <td>80.8</td>\n",
       "      <td>2.5050</td>\n",
       "      <td>1.0</td>\n",
       "      <td>273.0</td>\n",
       "      <td>21.0</td>\n",
       "      <td>396.90</td>\n",
       "      <td>7.88</td>\n",
       "      <td>11.9</td>\n",
       "    </tr>\n",
       "  </tbody>\n",
       "</table>\n",
       "<p>506 rows × 14 columns</p>\n",
       "</div>"
      ],
      "text/plain": [
       "        CRIM    ZN  INDUS  CHAS    NOX     RM   AGE     DIS  RAD    TAX  \\\n",
       "0    0.00632  18.0   2.31   0.0  0.538  6.575  65.2  4.0900  1.0  296.0   \n",
       "1    0.02731   0.0   7.07   0.0  0.469  6.421  78.9  4.9671  2.0  242.0   \n",
       "2    0.02729   0.0   7.07   0.0  0.469  7.185  61.1  4.9671  2.0  242.0   \n",
       "3    0.03237   0.0   2.18   0.0  0.458  6.998  45.8  6.0622  3.0  222.0   \n",
       "4    0.06905   0.0   2.18   0.0  0.458  7.147  54.2  6.0622  3.0  222.0   \n",
       "..       ...   ...    ...   ...    ...    ...   ...     ...  ...    ...   \n",
       "501  0.06263   0.0  11.93   0.0  0.573  6.593  69.1  2.4786  1.0  273.0   \n",
       "502  0.04527   0.0  11.93   0.0  0.573  6.120  76.7  2.2875  1.0  273.0   \n",
       "503  0.06076   0.0  11.93   0.0  0.573  6.976  91.0  2.1675  1.0  273.0   \n",
       "504  0.10959   0.0  11.93   0.0  0.573  6.794  89.3  2.3889  1.0  273.0   \n",
       "505  0.04741   0.0  11.93   0.0  0.573  6.030  80.8  2.5050  1.0  273.0   \n",
       "\n",
       "     PTRATIO       B  LSTAT  MED_VALUE  \n",
       "0       15.3  396.90   4.98       24.0  \n",
       "1       17.8  396.90   9.14       21.6  \n",
       "2       17.8  392.83   4.03       34.7  \n",
       "3       18.7  394.63   2.94       33.4  \n",
       "4       18.7  396.90   5.33       36.2  \n",
       "..       ...     ...    ...        ...  \n",
       "501     21.0  391.99   9.67       22.4  \n",
       "502     21.0  396.90   9.08       20.6  \n",
       "503     21.0  396.90   5.64       23.9  \n",
       "504     21.0  393.45   6.48       22.0  \n",
       "505     21.0  396.90   7.88       11.9  \n",
       "\n",
       "[506 rows x 14 columns]"
      ]
     },
     "execution_count": 74,
     "metadata": {},
     "output_type": "execute_result"
    }
   ],
   "source": [
    "df"
   ]
  },
  {
   "cell_type": "code",
   "execution_count": 36,
   "metadata": {},
   "outputs": [
    {
     "name": "stdout",
     "output_type": "stream",
     "text": [
      "<class 'pandas.core.frame.DataFrame'>\n",
      "RangeIndex: 506 entries, 0 to 505\n",
      "Data columns (total 14 columns):\n",
      " #   Column     Non-Null Count  Dtype  \n",
      "---  ------     --------------  -----  \n",
      " 0   CRIM       506 non-null    float64\n",
      " 1   ZN         506 non-null    float64\n",
      " 2   INDUS      506 non-null    float64\n",
      " 3   CHAS       506 non-null    float64\n",
      " 4   NOX        506 non-null    float64\n",
      " 5   RM         506 non-null    float64\n",
      " 6   AGE        506 non-null    float64\n",
      " 7   DIS        506 non-null    float64\n",
      " 8   RAD        506 non-null    float64\n",
      " 9   TAX        506 non-null    float64\n",
      " 10  PTRAT      506 non-null    float64\n",
      " 11  B          506 non-null    float64\n",
      " 12  LSTAT      506 non-null    float64\n",
      " 13  MED_VALUE  506 non-null    float64\n",
      "dtypes: float64(14)\n",
      "memory usage: 55.5 KB\n"
     ]
    }
   ],
   "source": [
    "df.info()"
   ]
  },
  {
   "cell_type": "code",
   "execution_count": 37,
   "metadata": {},
   "outputs": [
    {
     "data": {
      "text/html": [
       "<div>\n",
       "<style scoped>\n",
       "    .dataframe tbody tr th:only-of-type {\n",
       "        vertical-align: middle;\n",
       "    }\n",
       "\n",
       "    .dataframe tbody tr th {\n",
       "        vertical-align: top;\n",
       "    }\n",
       "\n",
       "    .dataframe thead th {\n",
       "        text-align: right;\n",
       "    }\n",
       "</style>\n",
       "<table border=\"1\" class=\"dataframe\">\n",
       "  <thead>\n",
       "    <tr style=\"text-align: right;\">\n",
       "      <th></th>\n",
       "      <th>CRIM</th>\n",
       "      <th>ZN</th>\n",
       "      <th>INDUS</th>\n",
       "      <th>CHAS</th>\n",
       "      <th>NOX</th>\n",
       "      <th>RM</th>\n",
       "      <th>AGE</th>\n",
       "      <th>DIS</th>\n",
       "      <th>RAD</th>\n",
       "      <th>TAX</th>\n",
       "      <th>PTRAT</th>\n",
       "      <th>B</th>\n",
       "      <th>LSTAT</th>\n",
       "      <th>MED_VALUE</th>\n",
       "    </tr>\n",
       "  </thead>\n",
       "  <tbody>\n",
       "    <tr>\n",
       "      <th>count</th>\n",
       "      <td>506.000000</td>\n",
       "      <td>506.000000</td>\n",
       "      <td>506.000000</td>\n",
       "      <td>506.000000</td>\n",
       "      <td>506.000000</td>\n",
       "      <td>506.000000</td>\n",
       "      <td>506.000000</td>\n",
       "      <td>506.000000</td>\n",
       "      <td>506.000000</td>\n",
       "      <td>506.000000</td>\n",
       "      <td>506.000000</td>\n",
       "      <td>506.000000</td>\n",
       "      <td>506.000000</td>\n",
       "      <td>506.000000</td>\n",
       "    </tr>\n",
       "    <tr>\n",
       "      <th>mean</th>\n",
       "      <td>3.613524</td>\n",
       "      <td>11.363636</td>\n",
       "      <td>11.136779</td>\n",
       "      <td>0.069170</td>\n",
       "      <td>0.554695</td>\n",
       "      <td>6.284634</td>\n",
       "      <td>68.574901</td>\n",
       "      <td>3.795043</td>\n",
       "      <td>9.549407</td>\n",
       "      <td>408.237154</td>\n",
       "      <td>18.455534</td>\n",
       "      <td>356.674032</td>\n",
       "      <td>12.653063</td>\n",
       "      <td>22.532806</td>\n",
       "    </tr>\n",
       "    <tr>\n",
       "      <th>std</th>\n",
       "      <td>8.601545</td>\n",
       "      <td>23.322453</td>\n",
       "      <td>6.860353</td>\n",
       "      <td>0.253994</td>\n",
       "      <td>0.115878</td>\n",
       "      <td>0.702617</td>\n",
       "      <td>28.148861</td>\n",
       "      <td>2.105710</td>\n",
       "      <td>8.707259</td>\n",
       "      <td>168.537116</td>\n",
       "      <td>2.164946</td>\n",
       "      <td>91.294864</td>\n",
       "      <td>7.141062</td>\n",
       "      <td>9.197104</td>\n",
       "    </tr>\n",
       "    <tr>\n",
       "      <th>min</th>\n",
       "      <td>0.006320</td>\n",
       "      <td>0.000000</td>\n",
       "      <td>0.460000</td>\n",
       "      <td>0.000000</td>\n",
       "      <td>0.385000</td>\n",
       "      <td>3.561000</td>\n",
       "      <td>2.900000</td>\n",
       "      <td>1.129600</td>\n",
       "      <td>1.000000</td>\n",
       "      <td>187.000000</td>\n",
       "      <td>12.600000</td>\n",
       "      <td>0.320000</td>\n",
       "      <td>1.730000</td>\n",
       "      <td>5.000000</td>\n",
       "    </tr>\n",
       "    <tr>\n",
       "      <th>25%</th>\n",
       "      <td>0.082045</td>\n",
       "      <td>0.000000</td>\n",
       "      <td>5.190000</td>\n",
       "      <td>0.000000</td>\n",
       "      <td>0.449000</td>\n",
       "      <td>5.885500</td>\n",
       "      <td>45.025000</td>\n",
       "      <td>2.100175</td>\n",
       "      <td>4.000000</td>\n",
       "      <td>279.000000</td>\n",
       "      <td>17.400000</td>\n",
       "      <td>375.377500</td>\n",
       "      <td>6.950000</td>\n",
       "      <td>17.025000</td>\n",
       "    </tr>\n",
       "    <tr>\n",
       "      <th>50%</th>\n",
       "      <td>0.256510</td>\n",
       "      <td>0.000000</td>\n",
       "      <td>9.690000</td>\n",
       "      <td>0.000000</td>\n",
       "      <td>0.538000</td>\n",
       "      <td>6.208500</td>\n",
       "      <td>77.500000</td>\n",
       "      <td>3.207450</td>\n",
       "      <td>5.000000</td>\n",
       "      <td>330.000000</td>\n",
       "      <td>19.050000</td>\n",
       "      <td>391.440000</td>\n",
       "      <td>11.360000</td>\n",
       "      <td>21.200000</td>\n",
       "    </tr>\n",
       "    <tr>\n",
       "      <th>75%</th>\n",
       "      <td>3.677083</td>\n",
       "      <td>12.500000</td>\n",
       "      <td>18.100000</td>\n",
       "      <td>0.000000</td>\n",
       "      <td>0.624000</td>\n",
       "      <td>6.623500</td>\n",
       "      <td>94.075000</td>\n",
       "      <td>5.188425</td>\n",
       "      <td>24.000000</td>\n",
       "      <td>666.000000</td>\n",
       "      <td>20.200000</td>\n",
       "      <td>396.225000</td>\n",
       "      <td>16.955000</td>\n",
       "      <td>25.000000</td>\n",
       "    </tr>\n",
       "    <tr>\n",
       "      <th>max</th>\n",
       "      <td>88.976200</td>\n",
       "      <td>100.000000</td>\n",
       "      <td>27.740000</td>\n",
       "      <td>1.000000</td>\n",
       "      <td>0.871000</td>\n",
       "      <td>8.780000</td>\n",
       "      <td>100.000000</td>\n",
       "      <td>12.126500</td>\n",
       "      <td>24.000000</td>\n",
       "      <td>711.000000</td>\n",
       "      <td>22.000000</td>\n",
       "      <td>396.900000</td>\n",
       "      <td>37.970000</td>\n",
       "      <td>50.000000</td>\n",
       "    </tr>\n",
       "  </tbody>\n",
       "</table>\n",
       "</div>"
      ],
      "text/plain": [
       "             CRIM          ZN       INDUS        CHAS         NOX          RM  \\\n",
       "count  506.000000  506.000000  506.000000  506.000000  506.000000  506.000000   \n",
       "mean     3.613524   11.363636   11.136779    0.069170    0.554695    6.284634   \n",
       "std      8.601545   23.322453    6.860353    0.253994    0.115878    0.702617   \n",
       "min      0.006320    0.000000    0.460000    0.000000    0.385000    3.561000   \n",
       "25%      0.082045    0.000000    5.190000    0.000000    0.449000    5.885500   \n",
       "50%      0.256510    0.000000    9.690000    0.000000    0.538000    6.208500   \n",
       "75%      3.677083   12.500000   18.100000    0.000000    0.624000    6.623500   \n",
       "max     88.976200  100.000000   27.740000    1.000000    0.871000    8.780000   \n",
       "\n",
       "              AGE         DIS         RAD         TAX       PTRAT           B  \\\n",
       "count  506.000000  506.000000  506.000000  506.000000  506.000000  506.000000   \n",
       "mean    68.574901    3.795043    9.549407  408.237154   18.455534  356.674032   \n",
       "std     28.148861    2.105710    8.707259  168.537116    2.164946   91.294864   \n",
       "min      2.900000    1.129600    1.000000  187.000000   12.600000    0.320000   \n",
       "25%     45.025000    2.100175    4.000000  279.000000   17.400000  375.377500   \n",
       "50%     77.500000    3.207450    5.000000  330.000000   19.050000  391.440000   \n",
       "75%     94.075000    5.188425   24.000000  666.000000   20.200000  396.225000   \n",
       "max    100.000000   12.126500   24.000000  711.000000   22.000000  396.900000   \n",
       "\n",
       "            LSTAT   MED_VALUE  \n",
       "count  506.000000  506.000000  \n",
       "mean    12.653063   22.532806  \n",
       "std      7.141062    9.197104  \n",
       "min      1.730000    5.000000  \n",
       "25%      6.950000   17.025000  \n",
       "50%     11.360000   21.200000  \n",
       "75%     16.955000   25.000000  \n",
       "max     37.970000   50.000000  "
      ]
     },
     "execution_count": 37,
     "metadata": {},
     "output_type": "execute_result"
    }
   ],
   "source": [
    "df.describe()"
   ]
  },
  {
   "cell_type": "code",
   "execution_count": 38,
   "metadata": {},
   "outputs": [
    {
     "data": {
      "text/plain": [
       "0.0    471\n",
       "1.0     35\n",
       "Name: CHAS, dtype: int64"
      ]
     },
     "execution_count": 38,
     "metadata": {},
     "output_type": "execute_result"
    }
   ],
   "source": [
    "df['CHAS'].value_counts()"
   ]
  },
  {
   "cell_type": "code",
   "execution_count": 40,
   "metadata": {},
   "outputs": [
    {
     "data": {
      "text/html": [
       "<div>\n",
       "<style scoped>\n",
       "    .dataframe tbody tr th:only-of-type {\n",
       "        vertical-align: middle;\n",
       "    }\n",
       "\n",
       "    .dataframe tbody tr th {\n",
       "        vertical-align: top;\n",
       "    }\n",
       "\n",
       "    .dataframe thead th {\n",
       "        text-align: right;\n",
       "    }\n",
       "</style>\n",
       "<table border=\"1\" class=\"dataframe\">\n",
       "  <thead>\n",
       "    <tr style=\"text-align: right;\">\n",
       "      <th></th>\n",
       "      <th>CRIM</th>\n",
       "      <th>ZN</th>\n",
       "      <th>INDUS</th>\n",
       "      <th>CHAS</th>\n",
       "      <th>NOX</th>\n",
       "      <th>RM</th>\n",
       "      <th>AGE</th>\n",
       "      <th>DIS</th>\n",
       "      <th>RAD</th>\n",
       "      <th>TAX</th>\n",
       "      <th>PTRAT</th>\n",
       "      <th>B</th>\n",
       "      <th>LSTAT</th>\n",
       "      <th>MED_VALUE</th>\n",
       "    </tr>\n",
       "  </thead>\n",
       "  <tbody>\n",
       "    <tr>\n",
       "      <th>CRIM</th>\n",
       "      <td>1.000000</td>\n",
       "      <td>-0.200469</td>\n",
       "      <td>0.406583</td>\n",
       "      <td>-0.055892</td>\n",
       "      <td>0.420972</td>\n",
       "      <td>-0.219247</td>\n",
       "      <td>0.352734</td>\n",
       "      <td>-0.379670</td>\n",
       "      <td>0.625505</td>\n",
       "      <td>0.582764</td>\n",
       "      <td>0.289946</td>\n",
       "      <td>-0.385064</td>\n",
       "      <td>0.455621</td>\n",
       "      <td>-0.388305</td>\n",
       "    </tr>\n",
       "    <tr>\n",
       "      <th>ZN</th>\n",
       "      <td>-0.200469</td>\n",
       "      <td>1.000000</td>\n",
       "      <td>-0.533828</td>\n",
       "      <td>-0.042697</td>\n",
       "      <td>-0.516604</td>\n",
       "      <td>0.311991</td>\n",
       "      <td>-0.569537</td>\n",
       "      <td>0.664408</td>\n",
       "      <td>-0.311948</td>\n",
       "      <td>-0.314563</td>\n",
       "      <td>-0.391679</td>\n",
       "      <td>0.175520</td>\n",
       "      <td>-0.412995</td>\n",
       "      <td>0.360445</td>\n",
       "    </tr>\n",
       "    <tr>\n",
       "      <th>INDUS</th>\n",
       "      <td>0.406583</td>\n",
       "      <td>-0.533828</td>\n",
       "      <td>1.000000</td>\n",
       "      <td>0.062938</td>\n",
       "      <td>0.763651</td>\n",
       "      <td>-0.391676</td>\n",
       "      <td>0.644779</td>\n",
       "      <td>-0.708027</td>\n",
       "      <td>0.595129</td>\n",
       "      <td>0.720760</td>\n",
       "      <td>0.383248</td>\n",
       "      <td>-0.356977</td>\n",
       "      <td>0.603800</td>\n",
       "      <td>-0.483725</td>\n",
       "    </tr>\n",
       "    <tr>\n",
       "      <th>CHAS</th>\n",
       "      <td>-0.055892</td>\n",
       "      <td>-0.042697</td>\n",
       "      <td>0.062938</td>\n",
       "      <td>1.000000</td>\n",
       "      <td>0.091203</td>\n",
       "      <td>0.091251</td>\n",
       "      <td>0.086518</td>\n",
       "      <td>-0.099176</td>\n",
       "      <td>-0.007368</td>\n",
       "      <td>-0.035587</td>\n",
       "      <td>-0.121515</td>\n",
       "      <td>0.048788</td>\n",
       "      <td>-0.053929</td>\n",
       "      <td>0.175260</td>\n",
       "    </tr>\n",
       "    <tr>\n",
       "      <th>NOX</th>\n",
       "      <td>0.420972</td>\n",
       "      <td>-0.516604</td>\n",
       "      <td>0.763651</td>\n",
       "      <td>0.091203</td>\n",
       "      <td>1.000000</td>\n",
       "      <td>-0.302188</td>\n",
       "      <td>0.731470</td>\n",
       "      <td>-0.769230</td>\n",
       "      <td>0.611441</td>\n",
       "      <td>0.668023</td>\n",
       "      <td>0.188933</td>\n",
       "      <td>-0.380051</td>\n",
       "      <td>0.590879</td>\n",
       "      <td>-0.427321</td>\n",
       "    </tr>\n",
       "    <tr>\n",
       "      <th>RM</th>\n",
       "      <td>-0.219247</td>\n",
       "      <td>0.311991</td>\n",
       "      <td>-0.391676</td>\n",
       "      <td>0.091251</td>\n",
       "      <td>-0.302188</td>\n",
       "      <td>1.000000</td>\n",
       "      <td>-0.240265</td>\n",
       "      <td>0.205246</td>\n",
       "      <td>-0.209847</td>\n",
       "      <td>-0.292048</td>\n",
       "      <td>-0.355501</td>\n",
       "      <td>0.128069</td>\n",
       "      <td>-0.613808</td>\n",
       "      <td>0.695360</td>\n",
       "    </tr>\n",
       "    <tr>\n",
       "      <th>AGE</th>\n",
       "      <td>0.352734</td>\n",
       "      <td>-0.569537</td>\n",
       "      <td>0.644779</td>\n",
       "      <td>0.086518</td>\n",
       "      <td>0.731470</td>\n",
       "      <td>-0.240265</td>\n",
       "      <td>1.000000</td>\n",
       "      <td>-0.747881</td>\n",
       "      <td>0.456022</td>\n",
       "      <td>0.506456</td>\n",
       "      <td>0.261515</td>\n",
       "      <td>-0.273534</td>\n",
       "      <td>0.602339</td>\n",
       "      <td>-0.376955</td>\n",
       "    </tr>\n",
       "    <tr>\n",
       "      <th>DIS</th>\n",
       "      <td>-0.379670</td>\n",
       "      <td>0.664408</td>\n",
       "      <td>-0.708027</td>\n",
       "      <td>-0.099176</td>\n",
       "      <td>-0.769230</td>\n",
       "      <td>0.205246</td>\n",
       "      <td>-0.747881</td>\n",
       "      <td>1.000000</td>\n",
       "      <td>-0.494588</td>\n",
       "      <td>-0.534432</td>\n",
       "      <td>-0.232471</td>\n",
       "      <td>0.291512</td>\n",
       "      <td>-0.496996</td>\n",
       "      <td>0.249929</td>\n",
       "    </tr>\n",
       "    <tr>\n",
       "      <th>RAD</th>\n",
       "      <td>0.625505</td>\n",
       "      <td>-0.311948</td>\n",
       "      <td>0.595129</td>\n",
       "      <td>-0.007368</td>\n",
       "      <td>0.611441</td>\n",
       "      <td>-0.209847</td>\n",
       "      <td>0.456022</td>\n",
       "      <td>-0.494588</td>\n",
       "      <td>1.000000</td>\n",
       "      <td>0.910228</td>\n",
       "      <td>0.464741</td>\n",
       "      <td>-0.444413</td>\n",
       "      <td>0.488676</td>\n",
       "      <td>-0.381626</td>\n",
       "    </tr>\n",
       "    <tr>\n",
       "      <th>TAX</th>\n",
       "      <td>0.582764</td>\n",
       "      <td>-0.314563</td>\n",
       "      <td>0.720760</td>\n",
       "      <td>-0.035587</td>\n",
       "      <td>0.668023</td>\n",
       "      <td>-0.292048</td>\n",
       "      <td>0.506456</td>\n",
       "      <td>-0.534432</td>\n",
       "      <td>0.910228</td>\n",
       "      <td>1.000000</td>\n",
       "      <td>0.460853</td>\n",
       "      <td>-0.441808</td>\n",
       "      <td>0.543993</td>\n",
       "      <td>-0.468536</td>\n",
       "    </tr>\n",
       "    <tr>\n",
       "      <th>PTRAT</th>\n",
       "      <td>0.289946</td>\n",
       "      <td>-0.391679</td>\n",
       "      <td>0.383248</td>\n",
       "      <td>-0.121515</td>\n",
       "      <td>0.188933</td>\n",
       "      <td>-0.355501</td>\n",
       "      <td>0.261515</td>\n",
       "      <td>-0.232471</td>\n",
       "      <td>0.464741</td>\n",
       "      <td>0.460853</td>\n",
       "      <td>1.000000</td>\n",
       "      <td>-0.177383</td>\n",
       "      <td>0.374044</td>\n",
       "      <td>-0.507787</td>\n",
       "    </tr>\n",
       "    <tr>\n",
       "      <th>B</th>\n",
       "      <td>-0.385064</td>\n",
       "      <td>0.175520</td>\n",
       "      <td>-0.356977</td>\n",
       "      <td>0.048788</td>\n",
       "      <td>-0.380051</td>\n",
       "      <td>0.128069</td>\n",
       "      <td>-0.273534</td>\n",
       "      <td>0.291512</td>\n",
       "      <td>-0.444413</td>\n",
       "      <td>-0.441808</td>\n",
       "      <td>-0.177383</td>\n",
       "      <td>1.000000</td>\n",
       "      <td>-0.366087</td>\n",
       "      <td>0.333461</td>\n",
       "    </tr>\n",
       "    <tr>\n",
       "      <th>LSTAT</th>\n",
       "      <td>0.455621</td>\n",
       "      <td>-0.412995</td>\n",
       "      <td>0.603800</td>\n",
       "      <td>-0.053929</td>\n",
       "      <td>0.590879</td>\n",
       "      <td>-0.613808</td>\n",
       "      <td>0.602339</td>\n",
       "      <td>-0.496996</td>\n",
       "      <td>0.488676</td>\n",
       "      <td>0.543993</td>\n",
       "      <td>0.374044</td>\n",
       "      <td>-0.366087</td>\n",
       "      <td>1.000000</td>\n",
       "      <td>-0.737663</td>\n",
       "    </tr>\n",
       "    <tr>\n",
       "      <th>MED_VALUE</th>\n",
       "      <td>-0.388305</td>\n",
       "      <td>0.360445</td>\n",
       "      <td>-0.483725</td>\n",
       "      <td>0.175260</td>\n",
       "      <td>-0.427321</td>\n",
       "      <td>0.695360</td>\n",
       "      <td>-0.376955</td>\n",
       "      <td>0.249929</td>\n",
       "      <td>-0.381626</td>\n",
       "      <td>-0.468536</td>\n",
       "      <td>-0.507787</td>\n",
       "      <td>0.333461</td>\n",
       "      <td>-0.737663</td>\n",
       "      <td>1.000000</td>\n",
       "    </tr>\n",
       "  </tbody>\n",
       "</table>\n",
       "</div>"
      ],
      "text/plain": [
       "               CRIM        ZN     INDUS      CHAS       NOX        RM  \\\n",
       "CRIM       1.000000 -0.200469  0.406583 -0.055892  0.420972 -0.219247   \n",
       "ZN        -0.200469  1.000000 -0.533828 -0.042697 -0.516604  0.311991   \n",
       "INDUS      0.406583 -0.533828  1.000000  0.062938  0.763651 -0.391676   \n",
       "CHAS      -0.055892 -0.042697  0.062938  1.000000  0.091203  0.091251   \n",
       "NOX        0.420972 -0.516604  0.763651  0.091203  1.000000 -0.302188   \n",
       "RM        -0.219247  0.311991 -0.391676  0.091251 -0.302188  1.000000   \n",
       "AGE        0.352734 -0.569537  0.644779  0.086518  0.731470 -0.240265   \n",
       "DIS       -0.379670  0.664408 -0.708027 -0.099176 -0.769230  0.205246   \n",
       "RAD        0.625505 -0.311948  0.595129 -0.007368  0.611441 -0.209847   \n",
       "TAX        0.582764 -0.314563  0.720760 -0.035587  0.668023 -0.292048   \n",
       "PTRAT      0.289946 -0.391679  0.383248 -0.121515  0.188933 -0.355501   \n",
       "B         -0.385064  0.175520 -0.356977  0.048788 -0.380051  0.128069   \n",
       "LSTAT      0.455621 -0.412995  0.603800 -0.053929  0.590879 -0.613808   \n",
       "MED_VALUE -0.388305  0.360445 -0.483725  0.175260 -0.427321  0.695360   \n",
       "\n",
       "                AGE       DIS       RAD       TAX     PTRAT         B  \\\n",
       "CRIM       0.352734 -0.379670  0.625505  0.582764  0.289946 -0.385064   \n",
       "ZN        -0.569537  0.664408 -0.311948 -0.314563 -0.391679  0.175520   \n",
       "INDUS      0.644779 -0.708027  0.595129  0.720760  0.383248 -0.356977   \n",
       "CHAS       0.086518 -0.099176 -0.007368 -0.035587 -0.121515  0.048788   \n",
       "NOX        0.731470 -0.769230  0.611441  0.668023  0.188933 -0.380051   \n",
       "RM        -0.240265  0.205246 -0.209847 -0.292048 -0.355501  0.128069   \n",
       "AGE        1.000000 -0.747881  0.456022  0.506456  0.261515 -0.273534   \n",
       "DIS       -0.747881  1.000000 -0.494588 -0.534432 -0.232471  0.291512   \n",
       "RAD        0.456022 -0.494588  1.000000  0.910228  0.464741 -0.444413   \n",
       "TAX        0.506456 -0.534432  0.910228  1.000000  0.460853 -0.441808   \n",
       "PTRAT      0.261515 -0.232471  0.464741  0.460853  1.000000 -0.177383   \n",
       "B         -0.273534  0.291512 -0.444413 -0.441808 -0.177383  1.000000   \n",
       "LSTAT      0.602339 -0.496996  0.488676  0.543993  0.374044 -0.366087   \n",
       "MED_VALUE -0.376955  0.249929 -0.381626 -0.468536 -0.507787  0.333461   \n",
       "\n",
       "              LSTAT  MED_VALUE  \n",
       "CRIM       0.455621  -0.388305  \n",
       "ZN        -0.412995   0.360445  \n",
       "INDUS      0.603800  -0.483725  \n",
       "CHAS      -0.053929   0.175260  \n",
       "NOX        0.590879  -0.427321  \n",
       "RM        -0.613808   0.695360  \n",
       "AGE        0.602339  -0.376955  \n",
       "DIS       -0.496996   0.249929  \n",
       "RAD        0.488676  -0.381626  \n",
       "TAX        0.543993  -0.468536  \n",
       "PTRAT      0.374044  -0.507787  \n",
       "B         -0.366087   0.333461  \n",
       "LSTAT      1.000000  -0.737663  \n",
       "MED_VALUE -0.737663   1.000000  "
      ]
     },
     "execution_count": 40,
     "metadata": {},
     "output_type": "execute_result"
    }
   ],
   "source": [
    "corr = df.corr()\n",
    "corr"
   ]
  },
  {
   "cell_type": "code",
   "execution_count": 41,
   "metadata": {},
   "outputs": [
    {
     "data": {
      "text/plain": [
       "CRIM        -0.388305\n",
       "ZN           0.360445\n",
       "INDUS       -0.483725\n",
       "CHAS         0.175260\n",
       "NOX         -0.427321\n",
       "RM           0.695360\n",
       "AGE         -0.376955\n",
       "DIS          0.249929\n",
       "RAD         -0.381626\n",
       "TAX         -0.468536\n",
       "PTRAT       -0.507787\n",
       "B            0.333461\n",
       "LSTAT       -0.737663\n",
       "MED_VALUE    1.000000\n",
       "Name: MED_VALUE, dtype: float64"
      ]
     },
     "execution_count": 41,
     "metadata": {},
     "output_type": "execute_result"
    }
   ],
   "source": [
    "corr['MED_VALUE']"
   ]
  },
  {
   "cell_type": "code",
   "execution_count": 47,
   "metadata": {},
   "outputs": [
    {
     "data": {
      "text/plain": [
       "array([[<matplotlib.axes._subplots.AxesSubplot object at 0x7f95fe1fd9d0>,\n",
       "        <matplotlib.axes._subplots.AxesSubplot object at 0x7f95ff061e20>,\n",
       "        <matplotlib.axes._subplots.AxesSubplot object at 0x7f95fe947d00>,\n",
       "        <matplotlib.axes._subplots.AxesSubplot object at 0x7f95fe7b1df0>],\n",
       "       [<matplotlib.axes._subplots.AxesSubplot object at 0x7f95fe5f9370>,\n",
       "        <matplotlib.axes._subplots.AxesSubplot object at 0x7f95fe1c5df0>,\n",
       "        <matplotlib.axes._subplots.AxesSubplot object at 0x7f95fe1c5c70>,\n",
       "        <matplotlib.axes._subplots.AxesSubplot object at 0x7f95fe255fa0>],\n",
       "       [<matplotlib.axes._subplots.AxesSubplot object at 0x7f95fdff8550>,\n",
       "        <matplotlib.axes._subplots.AxesSubplot object at 0x7f95fe0259a0>,\n",
       "        <matplotlib.axes._subplots.AxesSubplot object at 0x7f95fdfd3df0>,\n",
       "        <matplotlib.axes._subplots.AxesSubplot object at 0x7f95fdf8c280>],\n",
       "       [<matplotlib.axes._subplots.AxesSubplot object at 0x7f95fdf376d0>,\n",
       "        <matplotlib.axes._subplots.AxesSubplot object at 0x7f95fdf64b20>,\n",
       "        <matplotlib.axes._subplots.AxesSubplot object at 0x7f95fdf11040>,\n",
       "        <matplotlib.axes._subplots.AxesSubplot object at 0x7f95fdebf4f0>]],\n",
       "      dtype=object)"
      ]
     },
     "execution_count": 47,
     "metadata": {},
     "output_type": "execute_result"
    },
    {
     "data": {
      "image/png": "[encoded data removed]",
      "text/plain": [
       "<Figure size 1440x720 with 16 Axes>"
      ]
     },
     "metadata": {
      "needs_background": "light"
     },
     "output_type": "display_data"
    }
   ],
   "source": [
    "df.hist(bins=30, figsize=(20,10))"
   ]
  },
  {
   "cell_type": "code",
   "execution_count": 5,
   "metadata": {},
   "outputs": [
    {
     "data": {
      "text/plain": [
       "array([[<matplotlib.axes._subplots.AxesSubplot object at 0x7f99f57c58b0>,\n",
       "        <matplotlib.axes._subplots.AxesSubplot object at 0x7f99f4f78610>,\n",
       "        <matplotlib.axes._subplots.AxesSubplot object at 0x7f99f4fa5a90>,\n",
       "        <matplotlib.axes._subplots.AxesSubplot object at 0x7f99f4f55f10>],\n",
       "       [<matplotlib.axes._subplots.AxesSubplot object at 0x7f99f4f0b3a0>,\n",
       "        <matplotlib.axes._subplots.AxesSubplot object at 0x7f99f4eb7730>,\n",
       "        <matplotlib.axes._subplots.AxesSubplot object at 0x7f99f4eb7820>,\n",
       "        <matplotlib.axes._subplots.AxesSubplot object at 0x7f99f4ee5cd0>],\n",
       "       [<matplotlib.axes._subplots.AxesSubplot object at 0x7f99f4e4b520>,\n",
       "        <matplotlib.axes._subplots.AxesSubplot object at 0x7f99f4df7970>,\n",
       "        <matplotlib.axes._subplots.AxesSubplot object at 0x7f99f4e23df0>,\n",
       "        <matplotlib.axes._subplots.AxesSubplot object at 0x7f99f4dda280>],\n",
       "       [<matplotlib.axes._subplots.AxesSubplot object at 0x7f99f4d866d0>,\n",
       "        <matplotlib.axes._subplots.AxesSubplot object at 0x7f99f4d32b20>,\n",
       "        <matplotlib.axes._subplots.AxesSubplot object at 0x7f99f4d5ff70>,\n",
       "        <matplotlib.axes._subplots.AxesSubplot object at 0x7f99f4d18430>]],\n",
       "      dtype=object)"
      ]
     },
     "execution_count": 5,
     "metadata": {},
     "output_type": "execute_result"
    },
    {
     "data": {
      "image/png": "[encoded data removed]",
      "text/plain": [
       "<Figure size 864x576 with 16 Axes>"
      ]
     },
     "metadata": {
      "needs_background": "light"
     },
     "output_type": "display_data"
    }
   ],
   "source": [
    "from pandas.plotting import scatter_matrix\n",
    "\n",
    "#visualize the correlations for all or some of the attributes\n",
    "attribs = ['MED_VALUE', 'CHAS', 'DIS', 'LSTAT']\n",
    "scatter_matrix(df[attribs], figsize=(12,8))"
   ]
  },
  {
   "cell_type": "markdown",
   "metadata": {},
   "source": [
    "#### Set aside a test set until the very end of model building process"
   ]
  },
  {
   "cell_type": "code",
   "execution_count": 84,
   "metadata": {},
   "outputs": [],
   "source": [
    "from sklearn.model_selection import train_test_split\n",
    "\n",
    "#it's best to stratify when classes are imbalanced. But numerical columns can be (and in this case are)\n",
    "#imbalanced as well. In such cases, we can bin then using pd.cut() into categorical columns,\n",
    "#startify them via their corresponding categorical columns, and then drop the categoprical columns\n",
    "#(because they aren't part of the original dataset). I don't do that here for simnplicity.\n",
    "X_train, X_test, y_train, y_test = train_test_split(boston.data, boston.target, random_state=42,\n",
    "                                                    stratify=boston.data[:,3])"
   ]
  },
  {
   "cell_type": "markdown",
   "metadata": {},
   "source": [
    "### Make pipelines for preprocessing and shortlist the best model from a bunch"
   ]
  },
  {
   "cell_type": "code",
   "execution_count": 85,
   "metadata": {},
   "outputs": [],
   "source": [
    "from sklearn.base import BaseEstimator, TransformerMixin, RegressorMixin\n",
    "from sklearn.pipeline import Pipeline\n",
    "from sklearn.preprocessing import StandardScaler\n",
    "from sklearn.linear_model import LinearRegression\n",
    "from sklearn.svm import SVR\n",
    "from sklearn.ensemble import RandomForestRegressor\n",
    "from sklearn.metrics import mean_squared_error\n",
    "from sklearn.decomposition import PCA\n",
    "from sklearn.model_selection import GridSearchCV\n",
    "import numpy as np\n",
    "from sklearn.utils.validation import check_X_y, check_array\n",
    "from sklearn.preprocessing import PolynomialFeatures\n",
    "from sklearn.compose import ColumnTransformer"
   ]
  },
  {
   "cell_type": "code",
   "execution_count": 86,
   "metadata": {},
   "outputs": [],
   "source": [
    "class NumericalFeatureTransformer(BaseEstimator, TransformerMixin):\n",
    "    def __init__(self, feature_degree=1, pca=0, scale=True):\n",
    "        self.feature_degree = feature_degree\n",
    "        self.pca = pca\n",
    "        self.scale = scale\n",
    "        \n",
    "    def fit(self, X, y=None):\n",
    "        return self\n",
    "    \n",
    "    def transform(self, X, y=None):\n",
    "        if self.feature_degree > 1:\n",
    "            poly = PolynomialFeatures(self.feature_degree, include_bias=False)\n",
    "            X = poly.fit_transform(X)\n",
    "                 \n",
    "        if self.scale:\n",
    "            scaler = StandardScaler()\n",
    "            X = scaler.fit_transform(X)\n",
    "        \n",
    "        if self.pca > 0:\n",
    "            pca = PCA(n_components=self.pca)\n",
    "            X = pca.fit_transform(X)\n",
    "            \n",
    "        return X\n",
    "    \n",
    "    \n",
    "    \n",
    "class NaHandler(BaseEstimator, TransformerMixin):\n",
    "    def __init__(self, impute=None):\n",
    "        assert impute is None or impute in ['median', 'mean']\n",
    "        self.impute = impute\n",
    "        \n",
    "    def fit(self, X, y=None):\n",
    "        return self\n",
    "    \n",
    "    def transform(self, X, y=None):\n",
    "        \n",
    "        # There are no NA values in this dataset, but\n",
    "        # if there were then this transformer class would implement\n",
    "        # ways to deal with them by dropping or imputing, which we could try out in\n",
    "        # a pipeline\n",
    "        \n",
    "        return X\n",
    "        \n",
    "        \n",
    "    \n",
    "class ModelTryout(BaseEstimator, RegressorMixin):\n",
    "    def __init__(self, model=\"linear\"):\n",
    "        self.model = model\n",
    "        \n",
    "    def fit(self, X, y):\n",
    "        X, y = check_X_y(X, y)\n",
    "        \n",
    "        self.estimator = None \n",
    "        \n",
    "        if self.model == \"linear\":\n",
    "            self.estimator = LinearRegression()\n",
    "        elif self.model == \"svr\":\n",
    "            self.estimator = SVR()\n",
    "        elif self.model == \"random_forest\":\n",
    "            self.estimator = RandomForestRegressor()\n",
    "            \n",
    "        self.estimator.fit(X, y)\n",
    "        \n",
    "        return self\n",
    "    \n",
    "    def predict(self, X):\n",
    "        \n",
    "        X = check_array(X)\n",
    "        \n",
    "        return self.estimator.predict(X)\n",
    "        "
   ]
  },
  {
   "cell_type": "code",
   "execution_count": 137,
   "metadata": {},
   "outputs": [
    {
     "name": "stdout",
     "output_type": "stream",
     "text": [
      "Fitting 5 folds for each of 90 candidates, totalling 450 fits\n"
     ]
    },
    {
     "name": "stderr",
     "output_type": "stream",
     "text": [
      "[Parallel(n_jobs=-1)]: Using backend LokyBackend with 12 concurrent workers.\n",
      "[Parallel(n_jobs=-1)]: Done  26 tasks      | elapsed:    1.2s\n",
      "[Parallel(n_jobs=-1)]: Done 427 out of 450 | elapsed:   11.4s remaining:    0.6s\n",
      "[Parallel(n_jobs=-1)]: Done 450 out of 450 | elapsed:   11.9s finished\n"
     ]
    },
    {
     "data": {
      "text/plain": [
       "GridSearchCV(estimator=Pipeline(steps=[('preprocessing',\n",
       "                                        ColumnTransformer(remainder='passthrough',\n",
       "                                                          transformers=[('num',\n",
       "                                                                         Pipeline(steps=[('na_handler',\n",
       "                                                                                          NaHandler()),\n",
       "                                                                                         ('transformations',\n",
       "                                                                                          NumericalFeatureTransformer())]),\n",
       "                                                                         [0, 1,\n",
       "                                                                          2, 4,\n",
       "                                                                          5, 6,\n",
       "                                                                          7, 8,\n",
       "                                                                          9, 10,\n",
       "                                                                          11,\n",
       "                                                                          12])])),\n",
       "                                       ('modeling', ModelTryout())]),\n",
       "             n_jobs=-1,\n",
       "             param_grid={'modeling__model': ['linear', 'svr', 'random_forest'],\n",
       "                         'preprocessing__num__transformations__feature_degree': [1,\n",
       "                                                                                 2,\n",
       "                                                                                 3],\n",
       "                         'preprocessing__num__transformations__pca': [0, 1, 3,\n",
       "                                                                      5, 9],\n",
       "                         'preprocessing__num__transformations__scale': [True,\n",
       "                                                                        False]},\n",
       "             scoring='neg_root_mean_squared_error', verbose=1)"
      ]
     },
     "execution_count": 137,
     "metadata": {},
     "output_type": "execute_result"
    }
   ],
   "source": [
    "num_attribs = list(range(13))\n",
    "num_attribs.remove(3)\n",
    "\n",
    "\n",
    "num_pipeline = Pipeline([\n",
    "    ('na_handler', NaHandler()),\n",
    "    ('transformations', NumericalFeatureTransformer())\n",
    "])\n",
    "\n",
    "col_transformer = ColumnTransformer(transformers=[(\"num\", num_pipeline, num_attribs)], remainder='passthrough')\n",
    "\n",
    "\n",
    "### This is what it would have looked like if we had wanted to transform categortical columns, say by\n",
    "### one-hot encoding for instance.\n",
    "\n",
    "#cat_attribs = [indices of categorical columns]\n",
    "# cat_pipeline = Pipeline([\n",
    "#     (\"encode\", OneHotEncoder())\n",
    "# ])\n",
    "\n",
    "# col_transformer = ColumnTransformer([\n",
    "#     (\"num\", num_pipeline, num_attribs),\n",
    "#     (\"cat\", cat_pipeline, cat_attribs)\n",
    "# ])\n",
    "\n",
    "\n",
    "\n",
    "full_pipeline = Pipeline([\n",
    "    (\"preprocessing\", col_transformer),\n",
    "    (\"modeling\", ModelTryout())\n",
    "])\n",
    "\n",
    "param_grid = {\n",
    "    \"preprocessing__num__transformations__feature_degree\": [1, 2, 3],\n",
    "    \"preprocessing__num__transformations__scale\": [True, False],\n",
    "    \"preprocessing__num__transformations__pca\": [0, 1, 3, 5, 9],\n",
    "    \"modeling__model\": [\"linear\", \"svr\", \"random_forest\"]\n",
    "}\n",
    "\n",
    "search = GridSearchCV(full_pipeline, param_grid, n_jobs=-1, verbose=1, scoring=\"neg_root_mean_squared_error\")\n",
    "search.fit(X_train, y_train)"
   ]
  },
  {
   "cell_type": "code",
   "execution_count": 138,
   "metadata": {},
   "outputs": [
    {
     "name": "stdout",
     "output_type": "stream",
     "text": [
      "-3.3011093895568075\n",
      "{'modeling__model': 'random_forest', 'preprocessing__num__transformations__feature_degree': 3, 'preprocessing__num__transformations__pca': 0, 'preprocessing__num__transformations__scale': False}\n"
     ]
    }
   ],
   "source": [
    "print(search.best_score_)\n",
    "print(search.best_params_)"
   ]
  },
  {
   "cell_type": "code",
   "execution_count": 136,
   "metadata": {},
   "outputs": [
    {
     "name": "stdout",
     "output_type": "stream",
     "text": [
      "0.15011205120092647\n"
     ]
    }
   ],
   "source": [
    "print(-1 * search.best_score_ / np.mean(boston.target))"
   ]
  },
  {
   "cell_type": "markdown",
   "metadata": {},
   "source": [
    "#### It would seem that our best bet is a random forest without scaled features, with deg-3 feature interactions, and no pca."
   ]
  },
  {
   "cell_type": "markdown",
   "metadata": {},
   "source": [
    "### Fine tune the best model"
   ]
  },
  {
   "cell_type": "code",
   "execution_count": 144,
   "metadata": {},
   "outputs": [
    {
     "name": "stdout",
     "output_type": "stream",
     "text": [
      "Fitting 5 folds for each of 2000 candidates, totalling 10000 fits\n"
     ]
    },
    {
     "name": "stderr",
     "output_type": "stream",
     "text": [
      "[Parallel(n_jobs=-1)]: Using backend LokyBackend with 12 concurrent workers.\n",
      "[Parallel(n_jobs=-1)]: Done  26 tasks      | elapsed:    2.6s\n",
      "[Parallel(n_jobs=-1)]: Done 176 tasks      | elapsed:   18.1s\n",
      "[Parallel(n_jobs=-1)]: Done 426 tasks      | elapsed:   43.2s\n",
      "[Parallel(n_jobs=-1)]: Done 776 tasks      | elapsed:  2.0min\n",
      "[Parallel(n_jobs=-1)]: Done 1226 tasks      | elapsed:  3.1min\n",
      "[Parallel(n_jobs=-1)]: Done 1776 tasks      | elapsed:  4.5min\n",
      "[Parallel(n_jobs=-1)]: Done 2426 tasks      | elapsed:  7.0min\n",
      "[Parallel(n_jobs=-1)]: Done 3176 tasks      | elapsed:  9.0min\n",
      "[Parallel(n_jobs=-1)]: Done 4026 tasks      | elapsed: 12.6min\n",
      "[Parallel(n_jobs=-1)]: Done 4976 tasks      | elapsed: 15.2min\n",
      "[Parallel(n_jobs=-1)]: Done 6026 tasks      | elapsed: 17.1min\n",
      "[Parallel(n_jobs=-1)]: Done 7176 tasks      | elapsed: 21.2min\n",
      "[Parallel(n_jobs=-1)]: Done 8426 tasks      | elapsed: 26.8min\n",
      "[Parallel(n_jobs=-1)]: Done 9776 tasks      | elapsed: 31.9min\n",
      "[Parallel(n_jobs=-1)]: Done 10000 out of 10000 | elapsed: 32.9min finished\n"
     ]
    },
    {
     "data": {
      "text/plain": [
       "RandomizedSearchCV(estimator=Pipeline(steps=[('preprocessing',\n",
       "                                              ColumnTransformer(remainder='passthrough',\n",
       "                                                                transformers=[('num',\n",
       "                                                                               Pipeline(steps=[('na_handler',\n",
       "                                                                                                NaHandler()),\n",
       "                                                                                               ('transformations',\n",
       "                                                                                                NumericalFeatureTransformer())]),\n",
       "                                                                               [0,\n",
       "                                                                                1,\n",
       "                                                                                2,\n",
       "                                                                                4,\n",
       "                                                                                5,\n",
       "                                                                                6,\n",
       "                                                                                7,\n",
       "                                                                                8,\n",
       "                                                                                9,\n",
       "                                                                                10,\n",
       "                                                                                11,\n",
       "                                                                                12])])),\n",
       "                                             ('model',\n",
       "                                              RandomForestRegressor())]),\n",
       "                   n_iter=2000, n_jobs=-1,\n",
       "                   param_distributions={'model__bootstrap'...\n",
       "                                        'model__max_features': ['auto', 'sqrt'],\n",
       "                                        'model__min_samples_leaf': [1, 2, 4],\n",
       "                                        'model__min_samples_split': [2, 5, 10],\n",
       "                                        'model__n_estimators': [50, 100, 150,\n",
       "                                                                200, 250, 500],\n",
       "                                        'preprocessing__num__transformations__feature_degree': [1,\n",
       "                                                                                                2,\n",
       "                                                                                                3,\n",
       "                                                                                                4],\n",
       "                                        'preprocessing__num__transformations__pca': [0,\n",
       "                                                                                     1,\n",
       "                                                                                     3,\n",
       "                                                                                     5,\n",
       "                                                                                     9],\n",
       "                                        'preprocessing__num__transformations__scale': [True,\n",
       "                                                                                       False]},\n",
       "                   scoring='neg_root_mean_squared_error', verbose=1)"
      ]
     },
     "execution_count": 144,
     "metadata": {},
     "output_type": "execute_result"
    }
   ],
   "source": [
    "from sklearn.model_selection import RandomizedSearchCV\n",
    "\n",
    "num_attribs = list(range(13))\n",
    "num_attribs.remove(3)\n",
    "\n",
    "\n",
    "num_pipeline = Pipeline([\n",
    "    ('na_handler', NaHandler()),\n",
    "    ('transformations', NumericalFeatureTransformer())\n",
    "])\n",
    "\n",
    "col_transformer = ColumnTransformer(transformers=[(\"num\", num_pipeline, num_attribs)], remainder='passthrough')\n",
    "\n",
    "full_pipeline = Pipeline([\n",
    "    (\"preprocessing\", col_transformer),\n",
    "    (\"model\", RandomForestRegressor())\n",
    "])\n",
    "\n",
    "#we still want to try some of the preprocessing options. Since we had good results with the model's\n",
    "#default parameters before, it's reasonable to leave them in here.\n",
    "#We have 216000 fits to do here (43200 without 5-fold cv), so instead of searching the full\n",
    "#grid, we'll do a random search, which trades off time for performance\n",
    "param_grid = {\n",
    "    \"preprocessing__num__transformations__feature_degree\": [1, 2, 3, 4],\n",
    "    \"preprocessing__num__transformations__scale\": [True, False],\n",
    "    \"preprocessing__num__transformations__pca\": [0, 1, 3, 5, 9],\n",
    "    \"model__n_estimators\": [50, 100, 150, 200, 250, 500],\n",
    "    \"model__bootstrap\": [True, False],\n",
    "    \"model__max_depth\": [None, 5, 10, 25, 50],\n",
    "    \"model__max_features\": [\"auto\", \"sqrt\"],\n",
    "    \"model__min_samples_leaf\": [1, 2, 4],\n",
    "    \"model__min_samples_split\": [2, 5, 10],\n",
    "}\n",
    "\n",
    "search = RandomizedSearchCV(full_pipeline, param_grid, n_jobs=-1, verbose=1,\n",
    "                            n_iter = 2000,\n",
    "                            scoring=\"neg_root_mean_squared_error\")\n",
    "search.fit(X_train, y_train)"
   ]
  },
  {
   "cell_type": "code",
   "execution_count": 145,
   "metadata": {},
   "outputs": [
    {
     "name": "stdout",
     "output_type": "stream",
     "text": [
      "-3.183710048591871\n",
      "{'preprocessing__num__transformations__scale': False, 'preprocessing__num__transformations__pca': 0, 'preprocessing__num__transformations__feature_degree': 2, 'model__n_estimators': 250, 'model__min_samples_split': 2, 'model__min_samples_leaf': 1, 'model__max_features': 'sqrt', 'model__max_depth': 25, 'model__bootstrap': False}\n"
     ]
    }
   ],
   "source": [
    "print(search.best_score_)\n",
    "print(search.best_params_)"
   ]
  },
  {
   "cell_type": "code",
   "execution_count": 146,
   "metadata": {},
   "outputs": [
    {
     "name": "stdout",
     "output_type": "stream",
     "text": [
      "0.14129221202177644\n"
     ]
    }
   ],
   "source": [
    "print(-1 * search.best_score_ / np.mean(boston.target))"
   ]
  },
  {
   "cell_type": "markdown",
   "metadata": {},
   "source": [
    "#### This was a pretty successful learning experiment. We decreased our best score using the fine tuning approach, and we may see, hopefully, that our predictions are off by only about 14%. \n",
    "\n",
    "Next we'll do cross validation to get a good sense if this performance  evaluation is accurate.\n",
    "\n",
    "Finally we'll train the model one more time on the full training set, and evaluate its performance on the test set at last."
   ]
  },
  {
   "cell_type": "code",
   "execution_count": 89,
   "metadata": {},
   "outputs": [
    {
     "name": "stdout",
     "output_type": "stream",
     "text": [
      "Scores: [-3.10491863 -2.8788457  -5.05484386 -3.2024997  -2.98780117 -2.44589918\n",
      " -3.9258367  -3.03529157 -2.39042449 -2.87715182]\n",
      "Avg score: -3.1903512828140053\n",
      "Std of scores: 0.7402032957414887\n"
     ]
    }
   ],
   "source": [
    "from sklearn.model_selection import cross_val_score\n",
    "from sklearn.metrics import mean_squared_error\n",
    "\n",
    "model_proposed = RandomForestRegressor(n_estimators=250,\n",
    "                                       min_samples_split=2,\n",
    "                                       min_samples_leaf=1,\n",
    "                                       max_features=\"sqrt\",\n",
    "                                       max_depth=25,\n",
    "                                       bootstrap=False)\n",
    "\n",
    "num_pipeline = Pipeline([\n",
    "    ('transformations', NumericalFeatureTransformer(scale=False,\n",
    "                                                    pca=0,\n",
    "                                                    feature_degree=2))\n",
    "])\n",
    "\n",
    "preprocessing_proposed = ColumnTransformer(transformers=[(\"num\", num_pipeline, num_attribs)], \n",
    "                                           remainder='passthrough')\n",
    "\n",
    "X_train_processed = preprocessing_proposed.fit_transform(X_train)\n",
    "\n",
    "scores = cross_val_score(model_proposed, X_train_processed, y_train, cv=10, scoring=\"neg_root_mean_squared_error\")\n",
    "\n",
    "def display_scores(scores):\n",
    "    print(f\"Scores: {scores}\")\n",
    "    print(f\"Avg score: {np.mean(scores)}\")\n",
    "    print(f\"Std of scores: {np.std(scores)}\")\n",
    "    \n",
    "display_scores(scores)"
   ]
  },
  {
   "cell_type": "markdown",
   "metadata": {},
   "source": [
    "#### As we see, we have a decently accurate estimate of model performance\n",
    "\n",
    "Now to evaluate the model on the test set."
   ]
  },
  {
   "cell_type": "code",
   "execution_count": 90,
   "metadata": {},
   "outputs": [
    {
     "name": "stdout",
     "output_type": "stream",
     "text": [
      "2.970954848073483\n"
     ]
    }
   ],
   "source": [
    "model = RandomForestRegressor(n_estimators=250,\n",
    "                              min_samples_split=2,\n",
    "                              min_samples_leaf=1,\n",
    "                              max_features=\"sqrt\",\n",
    "                              max_depth=25,\n",
    "                              bootstrap=False)\n",
    "\n",
    "\n",
    "model.fit(X_train_processed, y_train)\n",
    "\n",
    "#do not refit this. Say we had used dimensionality reduction and found the best pca dimensions\n",
    "#on our train data. We do not want to recompute this for the test data, we just want to\n",
    "#project onto the dimensions we already learned\n",
    "X_test_processed = preprocessing_proposed.transform(X_test)\n",
    "\n",
    "y_pred = model.predict(X_test_processed)\n",
    "\n",
    "mse = mean_squared_error(y_test, y_pred)\n",
    "rmse = np.sqrt(mse)\n",
    "print(rmse)\n"
   ]
  },
  {
   "cell_type": "code",
   "execution_count": 92,
   "metadata": {},
   "outputs": [
    {
     "name": "stdout",
     "output_type": "stream",
     "text": [
      "-0.2976881889763843\n",
      "0.09504735592926442\n",
      "[2.11223059 3.63202799]\n"
     ]
    }
   ],
   "source": [
    "# The last thing we may way to do is assess our confidence in this test rmse, the mean of the errors,\n",
    "# and the average % deviance between target and prediction:\n",
    "\n",
    "from scipy import stats\n",
    "\n",
    "confidence = .95\n",
    "errors = (y_pred - y_test)\n",
    "squared_errors = errors ** 2\n",
    "print(errors.mean())\n",
    "print(np.mean(np.abs(errors / y_pred)))\n",
    "print(np.sqrt(stats.t.interval(confidence,\n",
    "                               len(squared_errors) -1,\n",
    "                               loc=squared_errors.mean(),\n",
    "                               scale=stats.sem(squared_errors))))"
   ]
  },
  {
   "cell_type": "markdown",
   "metadata": {},
   "source": [
    "## Classification Experiment Overview\n",
    "\n",
    "Classification experiments are similar to regression experiments, but the performance evaluation is more involved than just checking the RMSE, a single number. "
   ]
  },
  {
   "cell_type": "code",
   "execution_count": 1,
   "metadata": {},
   "outputs": [
    {
     "name": "stdout",
     "output_type": "stream",
     "text": [
      "**Author**: Yann LeCun, Corinna Cortes, Christopher J.C. Burges  \n",
      "**Source**: [MNIST Website](http://yann.lecun.com/exdb/mnist/) - Date unknown  \n",
      "**Please cite**:  \n",
      "\n",
      "The MNIST database of handwritten digits with 784 features, raw data available at: http://yann.lecun.com/exdb/mnist/. It can be split in a training set of the first 60,000 examples, and a test set of 10,000 examples  \n",
      "\n",
      "It is a subset of a larger set available from NIST. The digits have been size-normalized and centered in a fixed-size image. It is a good database for people who want to try learning techniques and pattern recognition methods on real-world data while spending minimal efforts on preprocessing and formatting. The original black and white (bilevel) images from NIST were size normalized to fit in a 20x20 pixel box while preserving their aspect ratio. The resulting images contain grey levels as a result of the anti-aliasing technique used by the normalization algorithm. the images were centered in a 28x28 image by computing the center of mass of the pixels, and translating the image so as to position this point at the center of the 28x28 field.  \n",
      "\n",
      "With some classification methods (particularly template-based methods, such as SVM and K-nearest neighbors), the error rate improves when the digits are centered by bounding box rather than center of mass. If you do this kind of pre-processing, you should report it in your publications. The MNIST database was constructed from NIST's NIST originally designated SD-3 as their training set and SD-1 as their test set. However, SD-3 is much cleaner and easier to recognize than SD-1. The reason for this can be found on the fact that SD-3 was collected among Census Bureau employees, while SD-1 was collected among high-school students. Drawing sensible conclusions from learning experiments requires that the result be independent of the choice of training set and test among the complete set of samples. Therefore it was necessary to build a new database by mixing NIST's datasets.  \n",
      "\n",
      "The MNIST training set is composed of 30,000 patterns from SD-3 and 30,000 patterns from SD-1. Our test set was composed of 5,000 patterns from SD-3 and 5,000 patterns from SD-1. The 60,000 pattern training set contained examples from approximately 250 writers. We made sure that the sets of writers of the training set and test set were disjoint. SD-1 contains 58,527 digit images written by 500 different writers. In contrast to SD-3, where blocks of data from each writer appeared in sequence, the data in SD-1 is scrambled. Writer identities for SD-1 is available and we used this information to unscramble the writers. We then split SD-1 in two: characters written by the first 250 writers went into our new training set. The remaining 250 writers were placed in our test set. Thus we had two sets with nearly 30,000 examples each. The new training set was completed with enough examples from SD-3, starting at pattern # 0, to make a full set of 60,000 training patterns. Similarly, the new test set was completed with SD-3 examples starting at pattern # 35,000 to make a full set with 60,000 test patterns. Only a subset of 10,000 test images (5,000 from SD-1 and 5,000 from SD-3) is available on this site. The full 60,000 sample training set is available.\n",
      "\n",
      "Downloaded from openml.org.\n"
     ]
    }
   ],
   "source": [
    "from sklearn.datasets import fetch_openml\n",
    "mnist = fetch_openml('mnist_784', version=1)\n",
    "\n",
    "print(mnist['DESCR'])"
   ]
  },
  {
   "cell_type": "code",
   "execution_count": 4,
   "metadata": {},
   "outputs": [
    {
     "data": {
      "text/plain": [
       "array(['5', '0', '4', ..., '4', '5', '6'], dtype=object)"
      ]
     },
     "execution_count": 4,
     "metadata": {},
     "output_type": "execute_result"
    }
   ],
   "source": [
    "mnist['target']"
   ]
  },
  {
   "cell_type": "code",
   "execution_count": 8,
   "metadata": {},
   "outputs": [
    {
     "data": {
      "text/plain": [
       "array([[0., 0., 0., ..., 0., 0., 0.],\n",
       "       [0., 0., 0., ..., 0., 0., 0.],\n",
       "       [0., 0., 0., ..., 0., 0., 0.],\n",
       "       ...,\n",
       "       [0., 0., 0., ..., 0., 0., 0.],\n",
       "       [0., 0., 0., ..., 0., 0., 0.],\n",
       "       [0., 0., 0., ..., 0., 0., 0.]])"
      ]
     },
     "execution_count": 8,
     "metadata": {},
     "output_type": "execute_result"
    }
   ],
   "source": [
    "mnist['data']"
   ]
  },
  {
   "cell_type": "code",
   "execution_count": 9,
   "metadata": {},
   "outputs": [
    {
     "data": {
      "text/plain": [
       "(70000, 784)"
      ]
     },
     "execution_count": 9,
     "metadata": {},
     "output_type": "execute_result"
    }
   ],
   "source": [
    "mnist.data.shape"
   ]
  },
  {
   "cell_type": "code",
   "execution_count": 2,
   "metadata": {},
   "outputs": [],
   "source": [
    "import numpy as np\n",
    "X, y = mnist['data'], mnist['target'].astype(np.uint8)\n",
    "X_train, X_test, y_train, y_test = X[:60000], X[60000:], y[:60000], y[60000:]"
   ]
  },
  {
   "cell_type": "code",
   "execution_count": 3,
   "metadata": {},
   "outputs": [],
   "source": [
    "from sklearn.metrics import accuracy_score, precision_score, recall_score, f1_score\n",
    "from sklearn.model_selection import cross_val_predict\n",
    "from sklearn.linear_model import SGDClassifier"
   ]
  },
  {
   "cell_type": "markdown",
   "metadata": {},
   "source": [
    "#### In the direction of training an assortment of models and shortlisting the best one(s), here are reviewed the ways in which we can assess the performance of a classification model. For simplicity we reduce the problem to binary classification. The extension to multiclass, multilabel, and multiclass-multilabel tasks is not difficult from this starting point.\n",
    "\n",
    "In binary classification tasks it's usually the case that we have 1 minority class, called the \"positive\" class. When this is the case it's important to assess more than just accuracy. If the classes are (nearly) perfectly balanced, than accuracy will suffice however. \n",
    "\n",
    "#### We can use the following metrics to examine how well a model performs:\n",
    "\n",
    "accuracy (% of the time the model is correct) = $\\frac{TN + TP}{TN + TP + FN + FP}$ \n",
    "\n",
    "precision (% of correct positive predictions) = $\\frac{TP}{TP + FP}$ \n",
    "\n",
    "recall (% of the time the model detects positive samples) = $\\frac{TP}{TP + FN}$ \n",
    "\n",
    "Finally, a useful way to summarize precision and recall with one number:\n",
    "\n",
    "f1 (a mean that gives more weight to smaller values) = harmonic_mean(precision, recall) "
   ]
  },
  {
   "cell_type": "code",
   "execution_count": 13,
   "metadata": {},
   "outputs": [
    {
     "name": "stdout",
     "output_type": "stream",
     "text": [
      "accuracy: 0.9570333333333333 \n",
      "precision: 0.8370879772350012 \n",
      "recall: 0.6511713705958311 \n",
      "f1: 0.7325171197343846\n"
     ]
    }
   ],
   "source": [
    "y_train_5 = (y_train == 5)\n",
    "\n",
    "sgd_clf_5 = SGDClassifier(random_state=42, n_jobs=-1)\n",
    "\n",
    "#this function does a cross val train of the model, but instead of then evaluating the\n",
    "#performance, it simply returns the predictions. That way, we get fresh predictions - \n",
    "#each prediction returned was made by a classifier that wasn't trained on that instance\n",
    "y_train_5_pred = cross_val_predict(sgd_clf_5, X_train, y_train_5, cv=3)\n",
    "\n",
    "accuracy = accuracy_score(y_train_5, y_train_5_pred)\n",
    "recall = recall_score(y_train_5, y_train_5_pred)\n",
    "precision = precision_score(y_train_5, y_train_5_pred)\n",
    "f1 = f1_score(y_train_5, y_train_5_pred)\n",
    "\n",
    "print(f\"accuracy: {accuracy} \\nprecision: {precision} \\nrecall: {recall} \\nf1: {f1}\")"
   ]
  },
  {
   "cell_type": "markdown",
   "metadata": {},
   "source": [
    "#### Usually a point estimate of these numbers is not sufficient and we'll want to compute some statistics about them, but that's for later in the model building process"
   ]
  },
  {
   "cell_type": "markdown",
   "metadata": {},
   "source": [
    "#### When any model is making class predictions, what happens under the hood is the model outputs a score for the input (or a probability, depending on the type of model), and then predicts the class of the input according as the score (or probability) is above or below a certain threshold. Sklearn doesn't let us choose the thresholds directly, but there is a workaround. Why would we want to choose a custom threshold? It depends whether precision or recall is more important for our application. A higher threshold would lead to greater precision and lower recall, while a lower threshold would lead to lower precision but greater recall. \n",
    "\n",
    "Below is a way to assess what threshold we need for our task, the precision-recall curve. Another plot is shown as\n",
    "well, the ROC curve."
   ]
  },
  {
   "cell_type": "code",
   "execution_count": 4,
   "metadata": {},
   "outputs": [],
   "source": [
    "from sklearn.metrics import precision_recall_curve\n",
    "import matplotlib.pyplot as plt\n",
    "from sklearn.metrics import roc_curve, roc_auc_score\n",
    "\n",
    "#we give this function the facility to evaluate and plot the performance of multiple models at one time\n",
    "#Assumes: models is a list of tuples: (\"modelname\", unfitted_sklearn_model_object)\n",
    "def plot_model_performance(models, X, y, prec_rec=True, roc=True):\n",
    "    for model in models:\n",
    "        try:\n",
    "            y_scores = cross_val_predict(model[1], X, y, cv=3, method=\"decision_function\")\n",
    "        except:\n",
    "            y_scores = cross_val_predict(model[1], X, y, cv=3, method=\"predict_proba\")\n",
    "            y_scores = y_scores[:,1]\n",
    "            \n",
    "        if prec_rec: \n",
    "            precisions, recalls, thresholds = precision_recall_curve(y, y_scores)\n",
    "            plt.figure(figsize=(20,10))\n",
    "            plt.rc('font', **{'size' : 20})\n",
    "            plt.plot(thresholds, precisions[:-1], label=f\"{model[0]} Precision: TP/(TP + FP)\")\n",
    "            plt.plot(thresholds, recalls[:-1], label=f\"{model[0]} Recall: TP/(TP + FN)\")\n",
    "            plt.xlabel(\"Threshold\")\n",
    "            plt.legend(loc=\"center left\")\n",
    "            plt.grid(True)\n",
    "            plt.show()\n",
    "            plt.clf()\n",
    "            \n",
    "        if roc:\n",
    "            plt.figure(figsize=(20,10))\n",
    "            plt.rc('font', **{'size' : 20})\n",
    "            auc = roc_auc_score(y, y_scores)\n",
    "            fpr, tpr, thresholds = roc_curve(y, y_scores)\n",
    "            plt.plot(fpr, tpr, linewidth=2, label=f\"{model[0]} ROC curve (AUC: {auc})\")\n",
    "            plt.xlabel(\"False Positive Rate : FP/(FP + TN)\")\n",
    "            plt.ylabel(\"True Positive Rate (Recall) : TP/(TP + FN)\")\n",
    "            plt.plot([0,1], [0,1], 'k--')\n",
    "            plt.legend()\n",
    "            plt.show()\n",
    "            plt.clf()\n"
   ]
  },
  {
   "cell_type": "code",
   "execution_count": 5,
   "metadata": {},
   "outputs": [],
   "source": [
    "from sklearn.ensemble import RandomForestClassifier"
   ]
  },
  {
   "cell_type": "code",
   "execution_count": 44,
   "metadata": {},
   "outputs": [
    {
     "data": {
      "image/png": "[encoded data removed]",
      "text/plain": [
       "<Figure size 1440x720 with 1 Axes>"
      ]
     },
     "metadata": {
      "needs_background": "light"
     },
     "output_type": "display_data"
    },
    {
     "data": {
      "text/plain": [
       "<Figure size 432x288 with 0 Axes>"
      ]
     },
     "metadata": {},
     "output_type": "display_data"
    },
    {
     "data": {
      "image/png": "[encoded data removed]",
      "text/plain": [
       "<Figure size 1440x720 with 1 Axes>"
      ]
     },
     "metadata": {
      "needs_background": "light"
     },
     "output_type": "display_data"
    },
    {
     "data": {
      "text/plain": [
       "<Figure size 432x288 with 0 Axes>"
      ]
     },
     "metadata": {},
     "output_type": "display_data"
    },
    {
     "data": {
      "image/png": "[encoded data removed]",
      "text/plain": [
       "<Figure size 1440x720 with 1 Axes>"
      ]
     },
     "metadata": {
      "needs_background": "light"
     },
     "output_type": "display_data"
    },
    {
     "data": {
      "text/plain": [
       "<Figure size 432x288 with 0 Axes>"
      ]
     },
     "metadata": {},
     "output_type": "display_data"
    },
    {
     "data": {
      "image/png": "[encoded data removed]",
      "text/plain": [
       "<Figure size 1440x720 with 1 Axes>"
      ]
     },
     "metadata": {
      "needs_background": "light"
     },
     "output_type": "display_data"
    },
    {
     "data": {
      "text/plain": [
       "<Figure size 432x288 with 0 Axes>"
      ]
     },
     "metadata": {},
     "output_type": "display_data"
    }
   ],
   "source": [
    "rf_clf_5 = RandomForestClassifier(random_state=42, n_jobs=-1)\n",
    "models = [(\"SGD\", sgd_clf_5), (\"RF\", rf_clf_5)]\n",
    "plot_model_performance(models, X_train, y_train_5)"
   ]
  },
  {
   "cell_type": "code",
   "execution_count": 45,
   "metadata": {},
   "outputs": [
    {
     "name": "stdout",
     "output_type": "stream",
     "text": [
      "0.5160266582037448\n",
      "0.8998339789706696\n",
      "-6861.032537940256\n"
     ]
    }
   ],
   "source": [
    "#suppose now that we need  a recall of at least 90% for the application. We see our\n",
    "#precision is then going to be around 50% if we choose SGD. Here's the workaround for making predictions with\n",
    "#our desired threshold\n",
    "\n",
    "#we use \"decision_function\" here because that's the member of SGDClassifier. Other models have a\n",
    "#\"predict_proba\" method instead\n",
    "y_train_5_scores = cross_val_predict(sgd_clf_5, X_train, y_train_5, method=\"decision_function\", cv=3)\n",
    "\n",
    "precisions, recalls, thresholds = precision_recall_curve(y_train_5, y_train_5_scores)\n",
    "\n",
    "first_index_recall_less_than_90 = np.argmin(recalls >= 0.90)\n",
    "threshold_90_recall = thresholds[first_index_recall_less_than_90]\n",
    "y_train_5_pred_90_recall = (y_train_5_scores >= threshold_90_recall)\n",
    "\n",
    "print(precision_score(y_train_5, y_train_5_pred_90_recall))\n",
    "print(recall_score(y_train_5, y_train_5_pred_90_recall))\n",
    "print(threshold_90_recall)"
   ]
  },
  {
   "cell_type": "markdown",
   "metadata": {},
   "source": [
    "#### So now we have seen ways to evaluate the performance of a classification model. According to the ML workflow what we now need is to try out many models and preprocessing combinations. The methodology here diverges a bit from that of a regression task. After this step, the process of  fine-tuning of the best model(s) from the previous stage, and assessing the performance of our final model, is virtually identical to that of a regression task. \n",
    "\n",
    "The methodology for trying out a bunch of different classification models is more complicated than that of regression models, for the following reason. In regression we are only trying to produce the best generalization error as measured by a single number, typically the RMSE. In classification on the other hand we are usually not just trying to optimize a single number, say generalization accuracy. But we are only not simply trying to singly optimize generalization recall or precision either. Instead what we are trying to do is find an acceptable tradeoff between recall and precision. Say we need a precision of 0.80; we can go about maximizing the recall for all such models with a precision above 0.80 and choose the best such model. But this is flawed - what if such a dumb algorithm winds up choosing a model with precision 0.80 and recall 0.60, while discounting a model with precision 0.75 and recall 0.70? This could be acceptable for our application and in fact be the best model in that sense. If we choose to singly maximize f1, we may never find a model with a score of 0.80. The best we may find is an f1 score of 0.71 arising from a model say with precision = 0.72 and recall = 0.70, and now the precision just plain isn't high enough for our application. \n",
    "What's more confounding, is that most realistic classification tasks will not be binary but multiclass. Here abounds the tradeoffs which we are trying to meet.\n",
    "\n",
    "This is not to be discouraging about classification tasks. This is only to say that finding the best model from a large collection of which is not as easy as setting up a single GridSearchCV with a single Pipeline whose last entry is a single ModelTryout object. What we can do instead for binary classification is a bunch of GridSearchCVs with different preprocessing pipelines and models, and for each GridSearchCV do a plot_model_performance() for the best_estimator_. What we can do for multiclass classification, is the above except replace plot_model_performance() with the techniques from the below section."
   ]
  },
  {
   "cell_type": "markdown",
   "metadata": {},
   "source": [
    "### Multiclass Classificaition\n",
    "\n",
    "When each data instance can belong to 1 of n > 2 classes (but not to more than 1 classes simultaneously), we have not 1 but n precisions and recalls to examine (one for each class). If we want to summarize these statistics we may look at the macro and weighted averages of the precisions and recalls. We would also be interested in the types of errors our model is making, i.e. are their biases in the errors, in other words when an instance of true class $i$ is wrongly classififed, is it more likely to be predicted as belonging to one class over another?"
   ]
  },
  {
   "cell_type": "code",
   "execution_count": 6,
   "metadata": {},
   "outputs": [],
   "source": [
    "from sklearn.metrics import plot_confusion_matrix, classification_report, confusion_matrix\n",
    "from sklearn.metrics import classification_report\n",
    "\n",
    "def plot_error_matrix(conf_mx):\n",
    "    row_sums = conf_mx.sum(axis=1, keepdims=True)\n",
    "    error_mx = conf_mx / row_sums\n",
    "    np.fill_diagonal(error_mx, 0)\n",
    "    \n",
    "    plt.matshow(error_mx, cmap=plt.cm.gray)\n",
    "    plt.colorbar()"
   ]
  },
  {
   "cell_type": "code",
   "execution_count": 55,
   "metadata": {},
   "outputs": [
    {
     "name": "stdout",
     "output_type": "stream",
     "text": [
      "              precision    recall  f1-score   support\n",
      "\n",
      "           0       0.94      0.95      0.95      5923\n",
      "           1       0.96      0.95      0.95      6742\n",
      "           2       0.86      0.87      0.86      5958\n",
      "           3       0.90      0.81      0.85      6131\n",
      "           4       0.85      0.91      0.88      5842\n",
      "           5       0.77      0.85      0.81      5421\n",
      "           6       0.90      0.95      0.93      5918\n",
      "           7       0.88      0.83      0.85      6265\n",
      "           8       0.81      0.80      0.80      5851\n",
      "           9       0.78      0.75      0.76      5949\n",
      "\n",
      "    accuracy                           0.87     60000\n",
      "   macro avg       0.87      0.87      0.87     60000\n",
      "weighted avg       0.87      0.87      0.87     60000\n",
      "\n",
      "[[5635    0   61   10   16   50   46    7   66   32]\n",
      " [   3 6393   95   21   16   47   15   27  109   16]\n",
      " [  72   56 5174   89   69   39  163   66  212   18]\n",
      " [  58   32  217 4941   23  441   32   56  216  115]\n",
      " [  11   26   46    6 5298   26   73   32   87  237]\n",
      " [  68   23   58  150   83 4606  174   26  152   81]\n",
      " [  40   13   56    6   22  113 5625    5   36    2]\n",
      " [  23   24  103   36  124   40   10 5228   75  602]\n",
      " [  40  101  158  122   49  457   77   35 4666  146]\n",
      " [  33   18   66   83  515  127    4  485  166 4452]]\n"
     ]
    },
    {
     "data": {
      "image/png": "[encoded data removed]",
      "text/plain": [
       "<Figure size 432x288 with 2 Axes>"
      ]
     },
     "metadata": {
      "needs_background": "light"
     },
     "output_type": "display_data"
    },
    {
     "data": {
      "image/png": "[encoded data removed]",
      "text/plain": [
       "<Figure size 288x288 with 2 Axes>"
      ]
     },
     "metadata": {
      "needs_background": "light"
     },
     "output_type": "display_data"
    }
   ],
   "source": [
    "sgd_clf = SGDClassifier(random_state=42, n_jobs=-1)\n",
    "\n",
    "#shows the precisions, recalls, f1s for each class, the averages of which, and the overall accuracy\n",
    "y_train_pred = cross_val_predict(sgd_clf, X_train, y_train, cv=3)\n",
    "print(classification_report(y_train, y_train_pred))\n",
    "\n",
    "sgd_clf.fit(X_train, y_train)\n",
    "#this function requires a fitted estimator\n",
    "plot_confusion_matrix(sgd_clf, X_train, y_train, include_values=False, cmap=\"gray\")\n",
    "\n",
    "#this dataset is balanced so we needn't normalize the rows of the confusion matrix by diving the rows through\n",
    "#by the number of instances in each class, but the below is how we would do as such\n",
    "#plot_confusion_matrix(sgd_clf, X_train, y_train, include_values=False, cmap=\"gray\", normalize=\"pred\")\n",
    "\n",
    "\n",
    "\n",
    "#We could example the confusion matrix directly in order to assess where the model is going wrong, but it\n",
    "#helps to have a visual aid as well, so we know where to look\n",
    "conf_mx = confusion_matrix(y_train, y_train_pred)\n",
    "plot_error_matrix(conf_mx)\n",
    "print(conf_mx)"
   ]
  },
  {
   "cell_type": "markdown",
   "metadata": {},
   "source": [
    "From the above output we easily see that our model is good at classes 0, 1, and 6, while being relatively bad at classes 5, 8, and 9. The values of the confusion matrix tell us the amount of errors made, while the visualization of the confusion matrix tells us right away that the sheer amount of errors is much smaller than that of correct classifications. Further, the error matrix gives us the insight that 9's and 7's are often mistaken for each other, 3's are often mistaken as 5's, and that when the model thinks something is a 5, it's in reality quite often a 3 or an 8, and that when the model thinks something is a 4, it's quite often a 9. The precision of class 8 is on the low side, but we see from the error matrix that there's not a clear pattern of mistaking 8 for something else. \n",
    "\n",
    "Now, this is not the best model (a RandomForestClassifier happens to perform better), and the inputs haven't even been preprocessed, but let's suppose that this were the best model, fine-tuned, and that the above output were the true analysis of its errors. There are a couple of things we can do to improve performance. Firstly, suppose that for the sake of the application, it were essential that 5's had a recall of 0.95. We're going to make a composite model. The first will be a binary classifier for the class of 5, which has recall of 0.95. After running a data instance through that model, if the prediction isn't 5, we then run it through the above hypothetical best model, the general model. Hence, the overall model is guaranteed to have a recall of at least 0.95 for the class 5. Next, suppose we needed a precision of at least .95 for the case of class 8. We train another binary classifier to have this property. Any time our general model predicts an 8, we send it through the 8-detector. If the 8-detector (with 0.95 precision) thinks its an 8, then it passes, else the prediction goes to the class with the second highest decision_function or predict_proba score. Lastly, we can do something about the fact that 9's and 7's are confused for each other. We train a binary model to recognize only 9's and 7's. After running a data instance through the first models, if the prediction is either 9 or 7, we run the instance through our 9-7 discriminator. We thus end up finally with a frankenstein of 4 models.\n",
    "\n",
    "Notice we would not be able to increase the *recall* of two of the classes. Once we set the recall of 5 to 0.95 in this fashion, we can not then hope to achieve 0.95 recall for class 8 - many of the 8 instances (and instances of other classes for that matter) are going to be wrongly classified as 5. Indeed, the recalls of many/all other classes are going to take a hit. Similarly, we can not hope to reliably increase the precision of more than one class. Raising the precision of class 8 will lead to the precisions of many/all other classes taking a hit."
   ]
  },
  {
   "cell_type": "code",
   "execution_count": 7,
   "metadata": {},
   "outputs": [],
   "source": [
    "from sklearn.base import BaseEstimator, ClassifierMixin"
   ]
  },
  {
   "cell_type": "code",
   "execution_count": 32,
   "metadata": {},
   "outputs": [],
   "source": [
    "def second_largest_index(container):\n",
    "    largest_index = 0\n",
    "    second_largest_index = 0\n",
    "    largest = container[0]\n",
    "    for i in range(1, len(container)):\n",
    "        if container[i] > largest:\n",
    "            second_largest_index = largest_index\n",
    "            highest = container[i]\n",
    "            largest_index = i\n",
    "            \n",
    "    return second_largest_index\n",
    "\n",
    "\n",
    "#Takes fitted estimators and predicts instance labels via the algorithm above\n",
    "class FrankenStein(BaseEstimator, ClassifierMixin):\n",
    "    def __init__(self, five_detector, general_model, eight_confirmer, seven_nine_discriminator):\n",
    "        self.five_detector = five_detector\n",
    "        self.general_model = general_model\n",
    "        self.eight_confirmer = eight_confirmer\n",
    "        self.seven_nine_discriminator  = seven_nine_discriminator\n",
    "        \n",
    "    def fit(self, X, y=None):\n",
    "        return self\n",
    "    \n",
    "    def predict(self, X):\n",
    "        y_pred = self.five_detector.predict(X)\n",
    "        \n",
    "        for i in range(y_pred.shape[0]):\n",
    "            if y_pred[i] != 5:\n",
    "                y_pred[i] = self.general_model.predict(X[i])\n",
    "                \n",
    "            if y_pred[i] == 8:\n",
    "                if self.eight_confirmer.predict(X[i]) != 8:\n",
    "                    y_pred[i] = second_largest_index(self.general_model.decision_function(X[i]))\n",
    "                    \n",
    "            if y_pred[i] == 7 or y_pred[i] == 9:\n",
    "                y_pred[i] = self.seven_nine_discriminator.predict(X[i])\n",
    "                \n",
    "        return y_pred\n",
    "                    \n",
    "                    \n"
   ]
  },
  {
   "cell_type": "markdown",
   "metadata": {},
   "source": [
    "### Multilabel and multiclass-multilabel tasks\n",
    "\n",
    "\n",
    "#### Multilabel:\n",
    "When instances can be associated with n > 1 binary labels, e.g. $((23.,4.5,-0.1,5.31), (1,0,1))$\n",
    "\n",
    "#### Multiclass-multilabel\n",
    "When instances can be associated with n > 1 multiclass labels e.g. $((23.,4.5,-0.1,5.31), (1,0,2))$\n",
    "\n",
    "*From now on both modes will be referred to as just \"multilabel\".*\n",
    "\n",
    "Note not all models natively support these prediction modes (and for that matter not all models natively support multiclass mode), but in many cases these modes can be implemented using techniques like OvR, OvO, etc.\n",
    "\n",
    "<img src=\"sklearn-classification-support.png\">\n",
    "\n",
    "\n",
    "\n",
    "A simple way to evaluate multilabel experiments is to treat them as iterated single-label experiments (in the evaluation phase, not in the training phase), and evaluate via the above methods each label column separately. But through this technique alone, though, one may miss interesting patterns in the errors. For instance, perhaps label_2 is more likely to be misclassified accross all classes when label_1 is misclassified, or clasified correctly, or belongs to class $k$ regardless of how it gets classified. Or perhaps, for a more specific scenario, label_2 is more likely to be misclassified as belonging to class $i$ (as opposed to class $j \\neq i$) strictly when label_1 belongs to class $k$ but gets predicted as class $p$.\n",
    "\n",
    "One could go about looking for these scenarios by computing \"conditional metrics\" i.e. the classification report of label_i, given that label_j is predicted as $k(j)$ and belongs to $p(j)$, for all $j \\neq i$. But these may be prohibitively numerous for a human to examine all of them:\n",
    "\n",
    "If there are $m$ labels and label $m$ has $c(m)$ classes, then there will be $\\sum_{i = 1}^{m} \\prod_{n \\neq m} c(n)^2$ conditional metrics.\n",
    "\n",
    "\n"
   ]
  },
  {
   "cell_type": "code",
   "execution_count": 17,
   "metadata": {},
   "outputs": [],
   "source": [
    "y_even = (y_train % 2)\n",
    "y_small = (y_train < 5)\n",
    "y_multilabel = np.c_[y_even, y_small].astype('float32')\n",
    "\n",
    "y_3 = (y_train % 3)\n",
    "y_multilabel_multiclass = np.c_[y_even, y_3].astype('float32')"
   ]
  },
  {
   "cell_type": "code",
   "execution_count": 26,
   "metadata": {},
   "outputs": [
    {
     "data": {
      "text/plain": [
       "array([[1., 2.],\n",
       "       [0., 0.],\n",
       "       [0., 1.],\n",
       "       ...,\n",
       "       [1., 2.],\n",
       "       [0., 0.],\n",
       "       [0., 2.]], dtype=float32)"
      ]
     },
     "execution_count": 26,
     "metadata": {},
     "output_type": "execute_result"
    }
   ],
   "source": [
    "y_multilabel_multiclass"
   ]
  },
  {
   "cell_type": "code",
   "execution_count": 29,
   "metadata": {},
   "outputs": [],
   "source": [
    "from sklearn.neighbors import KNeighborsClassifier"
   ]
  },
  {
   "cell_type": "code",
   "execution_count": 31,
   "metadata": {},
   "outputs": [
    {
     "name": "stdout",
     "output_type": "stream",
     "text": [
      "              precision    recall  f1-score   support\n",
      "\n",
      "         0.0       0.99      0.97      0.98     29492\n",
      "         1.0       0.98      0.99      0.98     30508\n",
      "\n",
      "    accuracy                           0.98     60000\n",
      "   macro avg       0.98      0.98      0.98     60000\n",
      "weighted avg       0.98      0.98      0.98     60000\n",
      "\n",
      "              precision    recall  f1-score   support\n",
      "\n",
      "         0.0       0.97      0.98      0.98     23921\n",
      "         1.0       0.97      0.99      0.98     18849\n",
      "         2.0       0.99      0.96      0.97     17230\n",
      "\n",
      "    accuracy                           0.98     60000\n",
      "   macro avg       0.98      0.98      0.98     60000\n",
      "weighted avg       0.98      0.98      0.98     60000\n",
      "\n"
     ]
    }
   ],
   "source": [
    "kn_clf = KNeighborsClassifier(n_jobs=-1)\n",
    "y_pred = cross_val_predict(kn_clf, X_train, y_multilabel_multiclass)\n",
    "print(classification_report(y_multilabel_multiclass[:,0], y_pred[:,0]))\n",
    "print(classification_report(y_multilabel_multiclass[:,1], y_pred[:,1]))"
   ]
  },
  {
   "cell_type": "code",
   "execution_count": 65,
   "metadata": {},
   "outputs": [
    {
     "name": "stdout",
     "output_type": "stream",
     "text": [
      "              precision    recall  f1-score   support\n",
      "\n",
      "         0.0       0.03      0.19      0.05        48\n",
      "         1.0       0.26      0.43      0.33       206\n",
      "         2.0       0.82      0.22      0.35       498\n",
      "\n",
      "    accuracy                           0.28       752\n",
      "   macro avg       0.37      0.28      0.24       752\n",
      "weighted avg       0.62      0.28      0.32       752\n",
      "\n"
     ]
    },
    {
     "data": {
      "image/png": "[encoded data removed]",
      "text/plain": [
       "<Figure size 288x288 with 2 Axes>"
      ]
     },
     "metadata": {
      "needs_background": "light"
     },
     "output_type": "display_data"
    }
   ],
   "source": [
    "# Here's a way to implement the conditional metrics described above.\n",
    "# Let's look at the metrics for the second label, given some conditions for the first label\n",
    "\n",
    "first_label_is_0 = y_multilabel_multiclass[:,0] == 0\n",
    "first_label_pred_1 = y_pred[:,0] == 1\n",
    "\n",
    "bool_array = np.all([first_label_is_0, first_label_pred_1], axis=0)\n",
    "y_mm_conditional = y_multilabel_multiclass[:,1][bool_array]\n",
    "y_pred_conditional = y_pred[:,1][bool_array]\n",
    "conf_mx = confusion_matrix(y_mm_conditional, y_pred_conditional)\n",
    "print(classification_report(y_mm_conditional, y_pred_conditional))\n",
    "plot_error_matrix(conf_mx)"
   ]
  },
  {
   "cell_type": "markdown",
   "metadata": {},
   "source": [
    "We see from the above reports for instance that, given the number is even but the model predicts odd, the model is then also terrible at predicting its value modulo 3 when the number is 0 or 6 (target is 0 mod 3), but fairly precise when the number is 2 or 8 (target is 2 mod 3).\n",
    "\n",
    "Now let's look at the conditional metrics for the second label, given that the first label was classified correctly."
   ]
  },
  {
   "cell_type": "code",
   "execution_count": 66,
   "metadata": {},
   "outputs": [
    {
     "name": "stdout",
     "output_type": "stream",
     "text": [
      "              precision    recall  f1-score   support\n",
      "\n",
      "         0.0       0.99      1.00      0.99     11793\n",
      "         1.0       0.99      1.00      0.99      5636\n",
      "         2.0       1.00      0.99      0.99     11311\n",
      "\n",
      "    accuracy                           0.99     28740\n",
      "   macro avg       0.99      0.99      0.99     28740\n",
      "weighted avg       0.99      0.99      0.99     28740\n",
      "\n"
     ]
    },
    {
     "data": {
      "image/png": "[encoded data removed]",
      "text/plain": [
       "<Figure size 288x288 with 2 Axes>"
      ]
     },
     "metadata": {
      "needs_background": "light"
     },
     "output_type": "display_data"
    }
   ],
   "source": [
    "first_label_pred_0 = y_pred[:,0] == 0\n",
    "\n",
    "bool_array = np.all([first_label_is_0, first_label_pred_0], axis=0)\n",
    "y_mm_conditional = y_multilabel_multiclass[:,1][bool_array]\n",
    "y_pred_conditional = y_pred[:,1][bool_array]\n",
    "conf_mx = confusion_matrix(y_mm_conditional, y_pred_conditional)\n",
    "print(classification_report(y_mm_conditional, y_pred_conditional))\n",
    "plot_error_matrix(conf_mx)"
   ]
  },
  {
   "cell_type": "markdown",
   "metadata": {},
   "source": [
    "In this case the model performs quite well. Let's examine the conditional metrics one more time, this time\n",
    "when the first label is incorrectly classified, but in the opposite way as in the first example"
   ]
  },
  {
   "cell_type": "code",
   "execution_count": 67,
   "metadata": {},
   "outputs": [
    {
     "name": "stdout",
     "output_type": "stream",
     "text": [
      "              precision    recall  f1-score   support\n",
      "\n",
      "         0.0       0.28      0.20      0.23       168\n",
      "         1.0       0.21      0.33      0.26        45\n",
      "         2.0       0.14      0.17      0.15       102\n",
      "\n",
      "    accuracy                           0.21       315\n",
      "   macro avg       0.21      0.23      0.21       315\n",
      "weighted avg       0.22      0.21      0.21       315\n",
      "\n"
     ]
    },
    {
     "data": {
      "image/png": "[encoded data removed]",
      "text/plain": [
       "<Figure size 288x288 with 2 Axes>"
      ]
     },
     "metadata": {
      "needs_background": "light"
     },
     "output_type": "display_data"
    }
   ],
   "source": [
    "first_label_is_1 = y_multilabel_multiclass[:,0] == 1\n",
    "first_label_pred_0 = y_pred[:,0] == 0\n",
    "\n",
    "bool_array = np.all([first_label_is_1, first_label_pred_0], axis=0)\n",
    "y_mm_conditional = y_multilabel_multiclass[:,1][bool_array]\n",
    "y_pred_conditional = y_pred[:,1][bool_array]\n",
    "conf_mx = confusion_matrix(y_mm_conditional, y_pred_conditional)\n",
    "print(classification_report(y_mm_conditional, y_pred_conditional))\n",
    "plot_error_matrix(conf_mx)"
   ]
  },
  {
   "cell_type": "markdown",
   "metadata": {},
   "source": [
    "The patterns in the errors are completely different than in the earlier scenario."
   ]
  },
  {
   "cell_type": "markdown",
   "metadata": {},
   "source": [
    "Finally, supposing we have our final model in hand, here is what we can do to get a true sense of its performance."
   ]
  },
  {
   "cell_type": "code",
   "execution_count": 93,
   "metadata": {},
   "outputs": [],
   "source": [
    "from sklearn.model_selection import cross_val_score"
   ]
  },
  {
   "cell_type": "code",
   "execution_count": 16,
   "metadata": {},
   "outputs": [
    {
     "name": "stdout",
     "output_type": "stream",
     "text": [
      "mean accuracy: 0.9635333333333334 \n",
      "std accuracy: 0.0038273866918419556 \n",
      "mean f1: 0.7844754961558148 \n",
      "std f1: 0.03721329682010556\n"
     ]
    }
   ],
   "source": [
    "accs = cross_val_score(sgd_clf_5, X_train, y_train_5, scoring=\"accuracy\", cv=10)\n",
    "f1s = cross_val_score(sgd_clf_5, X_train, y_train_5, scoring=\"f1\", cv=10)\n",
    "print(f\"mean accuracy: {np.mean(accs)} \\nstd accuracy: {np.std(accs)} \\nmean f1: {np.mean(f1s)} \\nstd f1: {np.std(f1s)}\")\n"
   ]
  },
  {
   "cell_type": "markdown",
   "metadata": {},
   "source": [
    "<hr>\n",
    "\n",
    "# SVM Overview\n",
    "\n",
    "SVM attempts to find a function $f$  mapping instances $x$ to one of two classes according as $f(x) \\geq 0$ or not. The function takes the form $f(x) = w^Tx+b$, where $w$ is the weight vector and $b \\in R$ is a bias term. These are the parameters to be learned. Hence, the function is a hyperplane - a plane in space 1 dimension higher than the feature space. \n",
    "\n",
    "Not only does the function seek to separate points in this way, but it seeks separate them \"well\", in the following sense. If the labels $y_i$ are considered to be in $\\{1, -1\\}$, then we seek $f$ such that $y_i(w^Tx_i + b) \\geq 1,  \\forall i$. This ensures that not only are the instances correctly classified, but also that they're not close to the boundary - the (affine) set of $x \\in R^{\\textrm{#features}}$ such that $f(x) = 0$. The qualtity 1 is chosen arbitrarily but 1 is convenient value. But not *only* do we want the instances far from the margin: we also want the margin to be as wide as possible. The wideness of the margin is controlled by the slope of the hyperplane, which is in turn controlled by the magnitude $||w||$ of $w$. Hence, in the hard-margin formulation (no instances allowed in the margin), we have the following optimization problem:\n",
    "\n",
    "minimize $\\frac{1}{2}w^tw$\n",
    "\n",
    "subject to $y_i(w^Tx_i + b) \\geq 1, \\forall i$\n",
    "\n",
    "while in the soft-margin (some instances allowed in the margin) formulation, we have the following optimization problem:\n",
    "\n",
    "minimize $\\frac{1}{2}w^tw + C\\sum_i \\eta_i$\n",
    "\n",
    "subject to $y_i(w^Tx_i + b) \\geq 1 - \\eta_i, \\eta_i \\geq 0, \\forall i$\n",
    "\n",
    "where here the $C$ is a hyperparameter adjusting the penalty of margin violations. Higher $C$ results in more penalty, hence fewer (and smaller) margin violations, by virtue of finding a smaller margin (steeper hyperplane), and we are searching for optimal $\\eta's$ as well (they are parameters not hyperparameters). In practice we can set the summation to other loss functions, e.g. `'hinge'`.\n",
    "\n",
    "<img src=\"svm-hyperplane.png\">\n",
    "\n",
    "Note that the soft-margin formulation is always feasible, because if data isn't linearly separable, then what happens is those problem instances wind up with large $\\eta's$.\n",
    "\n",
    "This is a quadratic programming problem with a convex objective function and guaranteed feasible solutions. There exist optimized libraries and interfaces to solve such problems. Sklearn uses the libsvm library. \n",
    "\n",
    "The above is the *primal* formulation. We can also derive a *dual* formulation from the primal. These are concepts from optimization which are out of scope here. But here are the crucial considerations of the dual problem.\n",
    "\n",
    "**The dual formulation will be faster than the primal when the number of instances is less than the number of features. All we have to do is set the `dual` hyperparameter to `True`.**\n",
    "\n",
    "**The dual formulation allows us to make use of the *kernel trick* - using a function to implicitly map the instances to a higher dimensional feature space, where they may be linear separable even if they aren't so in the original feature space.**\n",
    "\n",
    "Note that use the dual formulation and kernel trick is different than useing sklearn's `PolynomialFeatures` for several reasons. One, the kernel trick doesn't actually produce more features, so there's no necessary curse-of-dimensionality/overfitting problem as there would be by truely transforming the instances to have more features (overfitting is a problem however depending on how the hyperparameters concerning the choice of kernel function are set. If we use a polynomial kernel with high degree for instance, we may still overfit). Secondly, there are kernels other than polynomial kernels. The kernel trick relies on the fact that in the dual formulation, we only need the inner product of the instances, not the instances nor their features themselves.\n",
    "\n",
    "Practically speaking, if we use one of sklearn's svm classes other than LinearSVC, the formulation will be the dual with a nonlinear kernel automatically. Also, in practice we never use hard-margin formulation because it's sensitive to outliers and may not always have a feasible solution.\n",
    "\n",
    "In the model exploration phase, what we want to do is try out different kernels (including linear i.e. dual formulation with a linear mapping that doesn't send the instances to a higher dimensional space) with different sets of their own hyperparameters, with different $C$ values and different loss functions. \n",
    "\n",
    "Note lastly that online SVM is possible, for instance using the `SGDClassifier` class in online mode, which solves\n",
    "the optimization problem iteratively in mini batches used gradient descent. This is much slower than using exact QP methods, but of course this can only be used when the data fits in memory.\n",
    "\n",
    "<img src=\"svm-pros-cons.png\">\n",
    "\n",
    "\n",
    "Here is the use case for SVMs. Suppose that we have 2-class categorical data $\\{ (x_1, y_i) | y_i \\in \\{ -1,1 \\} \\}$ which is linearly separable through a hyperplane in the feature space (there's a functional $l$ on the feature space for which $l(x_i)$ > 0 iff $y_i = 1$). The decision boundary is the set of vectors such that $l(x) = 0$. Clearly there are infinite solutions. SVMs find the solution which maximizes the minimum distance between the decision boundary and the closest point to which. There are legitimate probabilistic arguments demonstrating such a technique provides for a low generalization error. The mathematical development of the problem and its solution is quite complicated. \n",
    "\n",
    "Then, to extend to multi-class problems, the OvR or OvO approaches are taken.\n",
    "\n",
    "Another common use of SVMs is for anomaly detection.\n",
    "\n",
    "Keep in mind that SVMs are not designed to give probabilities of a sample belonging to a class (they can be through of as purely decision engines), but there are some [workarounds](https://scikit-learn.org/stable/modules/svm.html#scores-and-probabilities) that sklearn suggests, but they're expensive.\n",
    "\n",
    "sklearn provides 3 SVM implementations: [LinearSVC](https://scikit-learn.org/stable/modules/generated/sklearn.svm.LinearSVC.html#sklearn.svm.LinearSVC), [SVC](https://scikit-learn.org/stable/modules/generated/sklearn.svm.SVC.html#sklearn.svm.SVC), and [NuSVC](https://scikit-learn.org/stable/modules/generated/sklearn.svm.NuSVC.html#sklearn.svm.NuSVC).\n",
    "\n",
    "In terms of complexity, with number of samples $n$ and features $m$, the first is $O(mn)$ (but doesn't support nonlinear kernels), while the later two are between $O(mn^2)$ and $O(mn^3)$ depending on qualities of the data. Therefore, LinearSVC is preferred when linear kernel gives similar model generalization performance as nonlinear kernel. If you want to use a certain kernel, pass the argument `kernel='kernelname'` to the classifer (customer kernels are a possbility as well but I don't get into detail.) `LinearSVC` uses OvR by default while the other two use OvO by default (but this can be changed by passing a parameter.\n",
    "\n",
    "### Practical considerations:\n",
    "\n",
    "1. For SVC and NuSVC, the data must be C-contiguous and float, else it will be copied as such, which is expensive. Check this with numpy `.flags` member. \n",
    "For LinearSVC, data is necessarily copied to the implementation's (liblinear) data representation, which is expensive. If the data is large, consider use sklearn's `SGDClassifer` instead.\n",
    "\n",
    "2. For SVC and NuSVC, set the parameter `cache_size` as large as possible for the memory of the machine, if the data is large.\n",
    "\n",
    "3. The `C` parameter controls regularization. Set it small to increase regularization i.e. if the data is noisy. For LinearSVC, large values of `C` can greatly increase training time. \n",
    "\n",
    "4. Normalize the data first as SVMs are not scale invariant\n",
    "\n",
    "5. Increasing C leads to a more complex model, and with LinearSVC, L1 penalty will make a sparse model.\n",
    "\n",
    "6. The training algorithms involve random steps, thus the learned parameters are not deterministic. This can be turned off if needed however with the classifier's hyperparameters.\n",
    "\n",
    "7. When classes in the training data are unbalanced, use the classifier's hyperparameters to [adjust for this](https://scikit-learn.org/stable/modules/svm.html#unbalanced-problems) (setting `class_weight='balanced'` is one way to deal with this)\n",
    "\n",
    "\n",
    "### Ways to regularize:\n",
    "\n",
    "Hyperparameters:\n",
    "\n",
    "`C`  - decrease to reduce overfitting\n",
    "\n",
    "`degree` (only when using `kernel='poly'`) - decrease to reduce overfitting\n",
    "\n",
    "`gamma` (only when using `kernel='rbf'`) - decrease to reduce overfitting\n",
    "\n",
    "\n",
    "#### SVM Regression\n",
    "\n",
    "Regression is also possible with SVM. The formulation is basically the reverse of that for classification: find a linear boundary and a (narrowest possible) margin about which, while maximizing the number of instances falling *within* the margin. Then, the linear boundary is taken as the regression mean. Here, the margin boundary is controlled by a hyperparameter `epsilon`\n"
   ]
  },
  {
   "cell_type": "markdown",
   "metadata": {},
   "source": [
    "# Decision Tree Overview\n",
    "<a id='decision'></a>\n",
    "\n",
    "Decision trees can make reliable predictions (in classification and regression) and are highly interpretable (the learned decision boundary can be visualized with a binary tree using the `sklearn.tree.plot_tree()` function, and further this visual can be exported and converted to .png format with help of the 'graphviz' package), and they do not require feature normalization or encoding. But they are extremely sensitive to perturbations of the dataset, rotations of the dataset, and outliers. In other words they have very high variance. Recall this means that slightly different training sets will result in wildly different learned functions. For this reason, they are best deployed in ensemble algorithms (to be discussed shortly). \n",
    "\n",
    "The sklearn implementation uses the CART algorithm: constructed is a binary tree whose leafs are the predictions. To make a prediction, the algorithm traverses the tree, going left or right according by the values of the instance's features, until a leaf node is encountered. \n",
    "\n",
    "The training algorithm is initialized as the head node of the tree. At each step, sought after is the feature, and value for which, which can be used to split the remaining subset of the dataset (not necessarily evenly) into more \"pure\" subsets. The purity is measured by gini impurity (or entropy if the relevant hyperparameter is set to `'entropy'`). Once the optimal split is found, the node is split into its left and right children. The algorithm continues this splitting until stopping criteria are met. Note that this is a greedy algorithm that doesn't necessarily produce the optimal tree. Unfortunately, the program of finding the optimal tree is NP-complete (complexity $O(exp(m))$).\n",
    "\n",
    "gini impurity: $1 - \\sum_{\\textrm{classes represented in subset}} (\\frac{\\textrm{# instances in class}}{\\textrm{# instances in subset}})^2 \\in [0,1)$\n",
    "\n",
    "Here is an example of a learned or \"grown\" decision tree:\n",
    "\n",
    "<img src=\"dtree-diagram.png\">\n",
    "\n",
    "Note the algorithm is smart enough not to split a node with gini=0, i.e. a pure node. Below is the corresponding decision boundary in feature space. Note that the resulting decision boundary is necessarily choppy, with orthogonal characteristic, since the the subsets are always split by a feature. Note as well that the dotted lines corresponding to level-2 are hypothetical - this tree splits the data set only twice (in general a tree of depth $n$ will split the dataset at most $n$ times. Note as well that the colors are erroneously mixed up in the diagram.\n",
    "\n",
    "<img src=\"dtree-decision-boundary.png\">\n",
    "\n",
    "Decision trees can give the probability that an instance belongs to a certain class (with the `predict_proba()` method), by traversing the tree to make the prediction, but then returning the empirical class distributions for the leaf node that's reached. \n",
    "\n",
    "Note that in the training algoritm in the phase where a node is being split, what's attempting to be minimized is the weighted average of the gini impurities of the hypothetically resulting subsets, i.e. the cose function is:\n",
    "\n",
    "$\\frac{m_{L}}{m}G_{L} + \\frac{m_{R}}{m}G_{R}$\n",
    "\n",
    "where $m_{L/R}$, $G_{L/R}$ are the cardinalities and impurities of the left and right subsets, respectively.\n",
    "\n",
    "#### Regression \n",
    "\n",
    "Note that regression works via the same algorithm and principle, however the targets now become continuous values, and the loss function above is replaced instead with the weighted average of MSEs. See the diagram below:\n",
    "\n",
    "<img src=\"dtree-regression.png\">\n",
    "\n",
    "\n",
    "### Ways to regularize:\n",
    "\n",
    "Hyperparameters: increase `min_*` and decrease `max_*` to reduce overfitting\n",
    "\n",
    "`min_samples_split` (min instances a node must have in order to be split)\n",
    "\n",
    "`min_samples_leaf` (min instances a node must have in order to be a leaf node)\n",
    "\n",
    "`max_leaf_nodes` (maximum number of leaf nodes in the tree)\n",
    "\n",
    "`max_features` (maximum number of features evaluated for splitting at each leaf node)\n",
    "\n",
    "`max_depth` (maximum number of levels allowed in the tree)\n",
    "\n",
    "\n",
    "### Practical condiderations:\n",
    "\n",
    "1. in practice gini and entropy should both be tried - just see which works better.\n",
    "\n",
    "2. training complexity is $O(nmlog(m))$ while prediction complecity is $O(log(m))$. \n",
    "\n",
    "3. sklearn training implementation is stochastic, so use `random_state` parameter for deterministic training\n",
    "\n",
    "4. sklearn implementation does not support missing values, but virtually no other data preprocessing is needed\n",
    "\n",
    "5. the tree created is likely to be biased if somes classes dominate. Balance training sets before learning. \n",
    "\n",
    "6. Trees tend to overfit when the #samples/#features ratio is too low. Building a decision tree involves finding that balance. Good ways to accomplish this are using PCA to find fewer yet more descriptive features, and starting with quite strict regularizing hyperparameters, and then visualizaing the tree to see what it's doing before decreasing the regularization. \n",
    "\n",
    "7. The number of samples needed to populate the tree doubles with each new level. Use `max_depth` to prevent overfitting. \n",
    "\n",
    "8. to prevent copying data and thus slowing down the learning, be sure the datatype of $X$ is `np.float32` (that's the only data type used internally in the sklearn implementation of decision tree)\n",
    "\n",
    "9. if the training data is sparse, convert them to `scipy.sparse.csc_matrix` before calling `fit` and `scipy.sparse.csr_matrix` before calling `predict` - training time can be orders of magnitudes faster this way.\n",
    "\n",
    "\n",
    "#### Extra notes:\n",
    "\n",
    "The CART algorithm is not the only possible algorithm to train decision trees. One algorithm called 'pruning' proceeds by constructing an overfitted tree, and then removing or \"pruning\" leaf nodes which are shown (automatically in the algorithm, not manually) to be the result of random noise in the dataset, i.e. they fail to reject the null hypothesis of some statistical test. Sklearn does not implement this by default but provides facilities to accomplish this."
   ]
  },
  {
   "cell_type": "markdown",
   "metadata": {},
   "source": [
    "# Ensemble Methods\n",
    "\n",
    "Here are discussed the ensemble methods of **bagging, pasting, boosting, and stacking**. \n",
    "\n",
    "Ensemble methods are techniques where a group of models' that are relatively weak learners (prone or adjusted to underfit) predictions are combined in some way to make an ensemble prediction. For instance the combination could be voting-based e.g. statistical mode aka hard voting, or preference to voters (ensemble members) with more confidence (higher decision scores/probabilities) aka soft voting; voting with training set resampling (bagging and pasting); additive (boosting); or blended in some way that's to be learned (stacking).\n",
    "\n",
    "Often, the ensemble predictions are more accurate than those of even the best of the ensemble members. Typically, what the ensemble accomplishes is to reduce variance, which in turn decreases generalization error. Why should this be the case? Consider a set of $n$ weak learners, whose accuracies are only 51% each, and whose predictions are independent. If $n$ is large enough, the law of large numbers tells us that the majority of the voters (approximately 51% of them) will for a given validation/test instance choose the correct output in the case of classification (or choose some value relatively close to the correct output in the case of regression) and, hence, in the technique of hard voting, the ensemble will output the correct label. The trick is training $n$ iid weak learner ensemble members."
   ]
  },
  {
   "cell_type": "code",
   "execution_count": 4,
   "metadata": {},
   "outputs": [],
   "source": [
    "import numpy as np\n",
    "from sklearn.datasets import fetch_openml\n",
    "mnist = fetch_openml('mnist_784', version=1)\n",
    "X, y = mnist['data'], mnist['target'].astype(np.uint8)"
   ]
  },
  {
   "cell_type": "code",
   "execution_count": 5,
   "metadata": {},
   "outputs": [],
   "source": [
    "from sklearn.model_selection import train_test_split\n",
    "X_train, X_test, y_train, y_test = train_test_split(X, y, random_state=42)"
   ]
  },
  {
   "cell_type": "code",
   "execution_count": 6,
   "metadata": {},
   "outputs": [],
   "source": [
    "from sklearn.ensemble import RandomForestClassifier\n",
    "from sklearn.ensemble import VotingClassifier\n",
    "from sklearn.linear_model import LogisticRegression\n",
    "from sklearn.linear_model import SGDClassifier\n",
    "from sklearn.model_selection import cross_val_predict\n",
    "from sklearn.metrics import classification_report"
   ]
  },
  {
   "cell_type": "code",
   "execution_count": 7,
   "metadata": {},
   "outputs": [
    {
     "name": "stdout",
     "output_type": "stream",
     "text": [
      "LogisticRegression\n",
      "              precision    recall  f1-score   support\n",
      "\n",
      "           0       0.95      0.97      0.96      5189\n",
      "           1       0.95      0.97      0.96      5900\n",
      "           2       0.91      0.89      0.90      5229\n",
      "           3       0.89      0.89      0.89      5335\n",
      "           4       0.93      0.92      0.93      5237\n",
      "           5       0.88      0.85      0.87      4706\n",
      "           6       0.93      0.95      0.94      5115\n",
      "           7       0.93      0.93      0.93      5415\n",
      "           8       0.88      0.87      0.87      5168\n",
      "           9       0.88      0.90      0.89      5206\n",
      "\n",
      "    accuracy                           0.91     52500\n",
      "   macro avg       0.91      0.91      0.91     52500\n",
      "weighted avg       0.91      0.91      0.91     52500\n",
      "\n",
      "RandomForestClassifier\n",
      "              precision    recall  f1-score   support\n",
      "\n",
      "           0       0.98      0.99      0.98      5189\n",
      "           1       0.98      0.98      0.98      5900\n",
      "           2       0.95      0.96      0.96      5229\n",
      "           3       0.96      0.95      0.95      5335\n",
      "           4       0.96      0.97      0.97      5237\n",
      "           5       0.97      0.95      0.96      4706\n",
      "           6       0.97      0.98      0.98      5115\n",
      "           7       0.97      0.96      0.97      5415\n",
      "           8       0.95      0.95      0.95      5168\n",
      "           9       0.95      0.95      0.95      5206\n",
      "\n",
      "    accuracy                           0.96     52500\n",
      "   macro avg       0.96      0.96      0.96     52500\n",
      "weighted avg       0.96      0.96      0.96     52500\n",
      "\n",
      "SGDClassifier\n",
      "              precision    recall  f1-score   support\n",
      "\n",
      "           0       0.97      0.89      0.93      5189\n",
      "           1       0.96      0.95      0.95      5900\n",
      "           2       0.85      0.87      0.86      5229\n",
      "           3       0.88      0.81      0.84      5335\n",
      "           4       0.91      0.90      0.90      5237\n",
      "           5       0.75      0.82      0.78      4706\n",
      "           6       0.92      0.95      0.93      5115\n",
      "           7       0.92      0.86      0.89      5415\n",
      "           8       0.75      0.76      0.75      5168\n",
      "           9       0.78      0.86      0.82      5206\n",
      "\n",
      "    accuracy                           0.87     52500\n",
      "   macro avg       0.87      0.87      0.87     52500\n",
      "weighted avg       0.87      0.87      0.87     52500\n",
      "\n",
      "VotingClassifier\n",
      "              precision    recall  f1-score   support\n",
      "\n",
      "           0       0.94      0.98      0.96      5189\n",
      "           1       0.96      0.98      0.97      5900\n",
      "           2       0.93      0.91      0.92      5229\n",
      "           3       0.90      0.92      0.91      5335\n",
      "           4       0.94      0.94      0.94      5237\n",
      "           5       0.92      0.88      0.90      4706\n",
      "           6       0.95      0.96      0.96      5115\n",
      "           7       0.95      0.94      0.94      5415\n",
      "           8       0.91      0.90      0.90      5168\n",
      "           9       0.92      0.91      0.92      5206\n",
      "\n",
      "    accuracy                           0.93     52500\n",
      "   macro avg       0.93      0.93      0.93     52500\n",
      "weighted avg       0.93      0.93      0.93     52500\n",
      "\n",
      "VotingClassifier\n",
      "              precision    recall  f1-score   support\n",
      "\n",
      "           0       0.96      0.97      0.97      5189\n",
      "           1       0.96      0.98      0.97      5900\n",
      "           2       0.91      0.92      0.91      5229\n",
      "           3       0.92      0.88      0.90      5335\n",
      "           4       0.94      0.93      0.93      5237\n",
      "           5       0.89      0.89      0.89      4706\n",
      "           6       0.94      0.96      0.95      5115\n",
      "           7       0.94      0.93      0.94      5415\n",
      "           8       0.90      0.89      0.89      5168\n",
      "           9       0.89      0.91      0.90      5206\n",
      "\n",
      "    accuracy                           0.93     52500\n",
      "   macro avg       0.93      0.93      0.93     52500\n",
      "weighted avg       0.93      0.93      0.93     52500\n",
      "\n"
     ]
    }
   ],
   "source": [
    "lr = LogisticRegression(n_jobs=-1)\n",
    "rf = RandomForestClassifier(n_jobs=-1)\n",
    "\n",
    "# This estimator uses linear SVM by default, which doesn't natively support predict_proba() method.\n",
    "# We pass this parameter so that we can use predict_proba() which in turn lets us use soft-voting\n",
    "sgd = SGDClassifier(loss='modified_huber', n_jobs=-1)\n",
    "\n",
    "\n",
    "hard_voting_clf = VotingClassifier(estimators=[\n",
    "                                            ('lr', lr),\n",
    "                                            ('rf', rf),\n",
    "                                            ('sgd', sgd)],\n",
    "                                   voting=\"hard\",\n",
    "                                   n_jobs=-1)\n",
    "\n",
    "soft_voting_clf = VotingClassifier(estimators=[\n",
    "                                            ('lr', lr),\n",
    "                                            ('rf', rf),\n",
    "                                            ('sgd', sgd)],\n",
    "                                   voting=\"soft\",\n",
    "                                   n_jobs=-1)\n",
    "\n",
    "for classifier in (lr, rf, sgd, hard_voting_clf, soft_voting_clf):\n",
    "    y_pred = cross_val_predict(classifier, X_train, y_train, cv=3)\n",
    "    print(classifier.__class__.__name__)\n",
    "    print(classification_report(y_train, y_pred))"
   ]
  },
  {
   "cell_type": "markdown",
   "metadata": {},
   "source": [
    "We see clearly we do not have sufficient voters that the ensemble is an improvement over the best voter. "
   ]
  },
  {
   "cell_type": "code",
   "execution_count": 16,
   "metadata": {},
   "outputs": [
    {
     "name": "stdout",
     "output_type": "stream",
     "text": [
      "              precision    recall  f1-score   support\n",
      "\n",
      "           0       0.95      0.97      0.96      5189\n",
      "           1       0.95      0.97      0.96      5900\n",
      "           2       0.91      0.89      0.90      5229\n",
      "           3       0.89      0.89      0.89      5335\n",
      "           4       0.93      0.92      0.93      5237\n",
      "           5       0.88      0.85      0.87      4706\n",
      "           6       0.93      0.95      0.94      5115\n",
      "           7       0.93      0.93      0.93      5415\n",
      "           8       0.88      0.87      0.87      5168\n",
      "           9       0.88      0.90      0.89      5206\n",
      "\n",
      "    accuracy                           0.91     52500\n",
      "   macro avg       0.91      0.91      0.91     52500\n",
      "weighted avg       0.91      0.91      0.91     52500\n",
      "\n"
     ]
    }
   ],
   "source": [
    "estimators = [(f'lr{i}', LogisticRegression(n_jobs=-1)) for i in range(20)]\n",
    "voting_clf = VotingClassifier(estimators=estimators, voting=\"hard\", n_jobs=-1)\n",
    "y_pred = cross_val_predict(voting_clf, X_train, y_train, cv=3)\n",
    "print(classification_report(y_train, y_pred))"
   ]
  },
  {
   "cell_type": "markdown",
   "metadata": {},
   "source": [
    "The performance actually decreased by adding more voters?! Probably because the estimators aren't iid. Let's try again but this time try resampling the data with replacement (bagging). Also, we don't have to make a container of estimator objects, as sklearn comes with the nifty `BaggingClassifier` class.\n",
    "If we want to try pasting instead of bagging, we can pass the parameter `bootstrap=False`. We use the `max_samples` parameter to tune how many samples are drawn from `X`. We can also choose to sample features (with or without replacement) using the `max_features` and `bootstrap_features` parameters. When we use random feature sampling to make an ensemble, the method is called **random subspaces**, and when we use random feature sampling and random data sampling, the method is called **random patches**. Note that `BaggingClassifier` performs soft voting by default so long as the `base_estimator` has a `predict_proba()` method."
   ]
  },
  {
   "cell_type": "code",
   "execution_count": 23,
   "metadata": {},
   "outputs": [],
   "source": [
    "from sklearn.ensemble import BaggingClassifier"
   ]
  },
  {
   "cell_type": "code",
   "execution_count": 24,
   "metadata": {},
   "outputs": [
    {
     "name": "stdout",
     "output_type": "stream",
     "text": [
      "              precision    recall  f1-score   support\n",
      "\n",
      "           0       0.96      0.97      0.96      5189\n",
      "           1       0.96      0.97      0.96      5900\n",
      "           2       0.91      0.90      0.91      5229\n",
      "           3       0.91      0.90      0.90      5335\n",
      "           4       0.93      0.93      0.93      5237\n",
      "           5       0.90      0.86      0.88      4706\n",
      "           6       0.94      0.96      0.95      5115\n",
      "           7       0.94      0.93      0.93      5415\n",
      "           8       0.88      0.88      0.88      5168\n",
      "           9       0.90      0.91      0.90      5206\n",
      "\n",
      "    accuracy                           0.92     52500\n",
      "   macro avg       0.92      0.92      0.92     52500\n",
      "weighted avg       0.92      0.92      0.92     52500\n",
      "\n"
     ]
    }
   ],
   "source": [
    "#for `max_samples` and `max_features`, we can pass an int or a float in (0,1]. In the former case, the int number\n",
    "#of samples will be chosen, and in the later case the float proportion of samples will be chosen.\n",
    "bag_clf = BaggingClassifier(base_estimator=LogisticRegression(n_jobs=-1),\n",
    "                            n_estimators=150,\n",
    "                            max_samples=25000,\n",
    "                            max_features=0.8,\n",
    "                            bootstrap=True,\n",
    "                            bootstrap_features=True,\n",
    "                            n_jobs=-1)\n",
    "\n",
    "y_pred = cross_val_predict(bag_clf, X_train, y_train, cv=3)\n",
    "print(classification_report(y_train, y_pred))"
   ]
  },
  {
   "cell_type": "markdown",
   "metadata": {},
   "source": [
    "We see that we barely improved the performance if at all. There is a better way.\n",
    "\n",
    "## Random Forest & Extra Forest Overview\n",
    "\n",
    "Empirically it's been found that **random forests** are perhaps the most powerful off-the-shelf bagging ensemble method. It's very similar to the `BaggingClassifier`, except the ensemble members are all decision trees. Random forests induce iid behavior of the estimators by randomly sampling the data (with bootstrap) as well as choosing random subsets of the features for the trees to evaluate to decrease impurity. The implementation is also optimized. In general all the parameters of decisions trees are tunable and all the parameters that control the ensemble, those of `BaggingClassifier`, are tunable in the `RandomForestClassifier` API (likewise the `RandomForestRegressor`). (Historical note: random forests were developed in 2001 by Breiman)\n",
    "\n",
    "**Extra trees** takes the randomness one step further than random forests, by also using random thresholds for each feature when reducing impurity, rather than searching for the best threshold. Sklearn implements an `ExtraTreesClassifier` (and `ExtraTreesRegressor`) class whose API is identical to that of `RandomForestClassifier(Regressor)`. They also train much faster than random forests due to the lack of feature optimization. \n",
    "\n",
    "The sklearn implementation combines classifiers not by hard voting but by averaging their probabilistic predictions. \n",
    "\n",
    "In terms of practical usage tips, see the (internal) [section on decision trees](#decision). In particular, virtually no preprocessing of the data is needed.\n",
    "\n",
    "**One of the most important things about random forests is that in spite of being powerful and non-parametric they allow easy investigation of relevant features and prediction strength** These are integral parts of the experimental process of: frame a problem, build a model, use the model to learn about the problem, repeat. As an added bonus, since random forests use bootstrap, we *can* evaluate generalization accuracy without having to do cross validation (although we probably still want to do so). To assess this, we check this `oob_score_` member of the model object after it's been fitted. This is the **out of bag** score. Typically many of the instances $(x_i, y_i)$ will not be sampled for any given tree, and hence such instances can serve as validation instances after the tree has been trained. The OOB score is a weighted avarage of such scores over all trees in the forest.\n",
    "\n",
    "### 4 ways to evaluate feature importance using random forests:\n",
    "1. [mean decrease in impurity (MDI)](https://scikit-learn.org/stable/auto_examples/inspection/plot_permutation_importance.html#sphx-glr-auto-examples-inspection-plot-permutation-importance-py)\n",
    "2. [permutation importanance (PImp)](https://scikit-learn.org/stable/auto_examples/inspection/plot_permutation_importance.html#sphx-glr-auto-examples-inspection-plot-permutation-importance-py)\n",
    "3. drop-column importance (DImp)\n",
    "4. proximity visualization (via [multidimensional scaling of proximity (MDSP)](https://scikit-learn.org/stable/auto_examples/manifold/plot_mds.html#sphx-glr-auto-examples-manifold-plot-mds-py) or [t-distribued stochastic neighbor embedding (tSNE)](https://scikit-learn.org/stable/modules/generated/sklearn.manifold.TSNE.html), two dimensionality-reduction techniques to be discussed at length in a later section.)\n",
    "\n",
    "Technically 2 and 3 apply to any model. We will find that 3 is more more reliable than 2 but also much more expensive. 4 is interesting but not clearly explanatory (it usually involves dimensionality reduction and embedding of the features into lower-dimensional space (for visualization, imputation, and outlier detection) so while it can give information about similarity of instances, it doesn't obviously explain why they are so). 1 is the most straightforward and cheap method, but also the most suspect. **Note that 1 is impurity-based while 2 and 3 are accuracy-based, and all are suspect in the case of the existence of correlations (collinear or otherwise) between the features. Note as well, that all of the above methods are suspect in the case of a model with high generalization error. Keep in mind importance scores of MDI are on a different scale than those of PImp and DImp - in the case of PImp and DImp the importances are *not normalized* because they are given in terms of decrease in accuracy - for instance an importance score of .1, representing a 10% drop in accuracy, might be a lot**"
   ]
  },
  {
   "cell_type": "markdown",
   "metadata": {},
   "source": [
    "#### MDI\n",
    "\n",
    "Given a feature, computed is a weighted average (by # samples) of the parent-child node decrease in impurity when that feature is used to split the data, accross all nodes in the random forest. These averages are computed for all features (and then normalization occurs?), and they sum to 1. \n",
    "\n",
    "But this is not always a reliable means to conclude relative or absolute importance of the features when it comes back to examing the problem for which you're building a model in the first place. The importances are suspect because:\n",
    "\n",
    "1. They're biased to give inflated scores to (relatively) continuous and high class-cardinality categorical variables\n",
    "2. They (can potentially be) unreliable in the case where the scales of the features differ drastically. This is unfortunate due to the fact that one of the advantages of random forests is that no normalization is needed."
   ]
  },
  {
   "cell_type": "code",
   "execution_count": 103,
   "metadata": {},
   "outputs": [],
   "source": [
    "from sklearn.datasets import load_iris\n",
    "from sklearn.ensemble import RandomForestClassifier\n",
    "import numpy as np\n",
    "iris = load_iris()"
   ]
  },
  {
   "cell_type": "code",
   "execution_count": 104,
   "metadata": {},
   "outputs": [
    {
     "name": "stdout",
     "output_type": "stream",
     "text": [
      "petal length (cm) 0.46292474240525755\n",
      "petal width (cm) 0.38197665693748967\n",
      "sepal length (cm) 0.1289808400051053\n",
      "sepal width (cm) 0.026117760652147465\n"
     ]
    }
   ],
   "source": [
    "rf = RandomForestClassifier(n_jobs=-1)\n",
    "rf.fit(iris['data'], iris['target'])\n",
    "\n",
    "for score, name in sorted(zip(rf.feature_importances_, iris['feature_names']), reverse=True):\n",
    "    print(name, score)"
   ]
  },
  {
   "cell_type": "markdown",
   "metadata": {},
   "source": [
    "Now let's try this again and force some wonky things to happen."
   ]
  },
  {
   "cell_type": "code",
   "execution_count": 105,
   "metadata": {},
   "outputs": [],
   "source": [
    "from sklearn.base import clone"
   ]
  },
  {
   "cell_type": "code",
   "execution_count": 106,
   "metadata": {},
   "outputs": [
    {
     "name": "stdout",
     "output_type": "stream",
     "text": [
      "baseline generalization accuracy: 0.9466666666666667\n",
      "petal width (cm) 0.45301486966818233\n",
      "petal length (cm) 0.39739065175522087\n",
      "sepal length (cm) 0.12190327229887515\n",
      "sepal width (cm) 0.02769120627772157\n",
      "\n",
      "\n",
      "target generalization accuracy: 1.0\n",
      "target 0.47440417617179587\n",
      "petal length (cm) 0.2774971948107376\n",
      "petal width (cm) 0.20110182934262844\n",
      "sepal length (cm) 0.04298135959308381\n",
      "sepal width (cm) 0.004015440081754292\n",
      "\n",
      "\n",
      "low_noise generalization accuracy: 0.96\n",
      "low_noise 0.3769354503830275\n",
      "petal width (cm) 0.28073627452921285\n",
      "petal length (cm) 0.26985586384968624\n",
      "sepal length (cm) 0.05999364572016011\n",
      "sepal width (cm) 0.012478765517913422\n",
      "\n",
      "\n",
      "high_noise generalization accuracy: 0.9533333333333334\n",
      "petal length (cm) 0.3902573594403779\n",
      "petal width (cm) 0.3814725556801761\n",
      "high_noise 0.10617537738204132\n",
      "sepal length (cm) 0.09488691714439536\n",
      "sepal width (cm) 0.027207790353009385\n",
      "\n",
      "\n",
      "duplicate petal len generalization accuracy: 0.96\n",
      "petal width (cm) 0.35305737344565324\n",
      "duplicate petal len 0.3144568524432701\n",
      "petal length (cm) 0.25235454599677287\n",
      "sepal length (cm) 0.0632231441179989\n",
      "sepal width (cm) 0.01690808399630488\n",
      "\n",
      "\n"
     ]
    }
   ],
   "source": [
    "num_samples = iris['data'].shape[0]\n",
    "target_variable = iris['target'].astype(np.float64)\n",
    "\n",
    "# petal lenth + petal width\n",
    "low_noise_correlated_variable = iris['data'][:, 2] + iris['data'][:, 3] + (np.random.rand(num_samples) * .1)\n",
    "high_noise_correlated_variable = iris['data'][:, 2] + iris['data'][:, 3] + (np.random.rand(num_samples) * 5)\n",
    "\n",
    "target_X = np.c_[iris['data'], target_variable]\n",
    "low_noise_X = np.c_[iris['data'], low_noise_correlated_variable]\n",
    "high_noise_X = np.c_[iris['data'], high_noise_correlated_variable]\n",
    "duplicate_X = np.c_[iris['data'], iris['data'][:, 2]]\n",
    "\n",
    "datasets = {'baseline': iris['data'],\n",
    "            'target': target_X, \n",
    "            'low_noise': low_noise_X, \n",
    "            'high_noise': high_noise_X,\n",
    "            'duplicate petal len': duplicate_X}\n",
    "\n",
    "rf = RandomForestClassifier(n_jobs=-1, oob_score=True)\n",
    "feature_names = iris['feature_names']\n",
    "for name, dataset in datasets.items():\n",
    "    clf = clone(rf)\n",
    "    clf.fit(dataset, iris['target'])\n",
    "    print(name, f\"generalization accuracy: {clf.oob_score_}\")\n",
    "    feature_names.append(name)\n",
    "    for score, feature_name in sorted(zip(clf.feature_importances_, feature_names), reverse=True):\n",
    "        print(feature_name, score)\n",
    "    print(\"\\n\")\n",
    "    feature_names.remove(name)\n"
   ]
  },
  {
   "cell_type": "markdown",
   "metadata": {},
   "source": [
    "#### Review of the above results in detail\n",
    "\n",
    "\n",
    "To examine the baseline output, notice the scores imply that sepal length and width are not nearly as discriminative as those of the petal. However, while this may be true in the case of this model's predictions, it doesn't imply that sepal features are uninteresting. The below plots show the instance classes do exhibit distinctions in their sepal features, hence although from a discriminatory standpoint the petal features may be more effective, from a problem-understanding standpoint sepal features perhaps shouldn't be ignored. In other words, in the presence of petal features, sepal features are redundant when it comes to discriminating flower species - but this doesn't imply that sepal features are insignificant.\n",
    "\n",
    "To examine the dataset where target is a feature, notice the accuracy is perfect which isn't surprising, but the petal features still have some importance (target doesn't have ultimate importance score). This is both good and bad from a problem-understanding standpoint. It's good, because petal features are after all very useful and so it's a good thing their importance hasn't vanished. But it's bad, because the importance of the target feature *from the standpoint of discrimination* is biased against because it has relatively few unique values relative to the other continuous features. This shows that even though target is ultimately important, it's score might not reflect that fact. This would be terrible for a problem of real scale where we'd actually like as humans to learn how to best discriminate the classes.\n",
    "\n",
    "The noisy correlated feature datasets show the importance amongst correlated features its going to be shared in degrees related to the strength of the correlation. This complicates interpretation because maybe the correlated features should be dropped (save 1 of them), or maybe they should be combined, e.g. via PCA, into a better feature. In other words the degree of redundancy and degree of relevance/improvement of the the (added) correlated feature is unexplained.\n",
    "\n",
    "The dupliacte example falls in the realm of the correlated example (with perfect correlation), and shows that, unfortunately, completely redundant information, from both a discrimination and problem understanding standpoint, could still receive a considerable importance score."
   ]
  },
  {
   "cell_type": "code",
   "execution_count": 107,
   "metadata": {},
   "outputs": [
    {
     "data": {
      "image/png": "[encoded data removed]",
      "text/plain": [
       "<Figure size 576x432 with 1 Axes>"
      ]
     },
     "metadata": {},
     "output_type": "display_data"
    },
    {
     "data": {
      "image/png": "[encoded data removed]",
      "text/plain": [
       "<Figure size 576x432 with 1 Axes>"
      ]
     },
     "metadata": {},
     "output_type": "display_data"
    }
   ],
   "source": [
    "import matplotlib.pyplot as plt\n",
    "\n",
    "X = iris.data[:, :2]\n",
    "y = iris.target\n",
    "\n",
    "x_min, x_max = X[:, 0].min() - .5, X[:, 0].max() + .5\n",
    "y_min, y_max = X[:, 1].min() - .5, X[:, 1].max() + .5\n",
    "\n",
    "plt.figure(2, figsize=(8, 6))\n",
    "plt.clf()\n",
    "\n",
    "# Plot the training points\n",
    "plt.scatter(X[:, 0], X[:, 1], c=y, cmap=plt.cm.Set1,\n",
    "            edgecolor='k')\n",
    "plt.xlabel('Sepal length')\n",
    "plt.ylabel('Sepal width')\n",
    "\n",
    "plt.xlim(x_min, x_max)\n",
    "plt.ylim(y_min, y_max)\n",
    "plt.xticks(())\n",
    "plt.yticks(())\n",
    "plt.show()\n",
    "\n",
    "X = iris.data[:, 2:]\n",
    "y = iris.target\n",
    "\n",
    "x_min, x_max = X[:, 0].min() - .5, X[:, 0].max() + .5\n",
    "y_min, y_max = X[:, 1].min() - .5, X[:, 1].max() + .5\n",
    "\n",
    "plt.figure(2, figsize=(8, 6))\n",
    "plt.clf()\n",
    "\n",
    "# Plot the training points\n",
    "plt.scatter(X[:, 0], X[:, 1], c=y, cmap=plt.cm.Set1,\n",
    "            edgecolor='k')\n",
    "plt.xlabel('petal length')\n",
    "plt.ylabel('petal width')\n",
    "\n",
    "plt.xlim(x_min, x_max)\n",
    "plt.ylim(y_min, y_max)\n",
    "plt.xticks(())\n",
    "plt.yticks(())\n",
    "plt.show()"
   ]
  },
  {
   "cell_type": "markdown",
   "metadata": {},
   "source": [
    "Finally, we may want to assess the statistical confidence of the importance scores:"
   ]
  },
  {
   "cell_type": "code",
   "execution_count": 108,
   "metadata": {},
   "outputs": [
    {
     "data": {
      "image/png": "[encoded data removed]",
      "text/plain": [
       "<Figure size 1440x720 with 1 Axes>"
      ]
     },
     "metadata": {
      "needs_background": "light"
     },
     "output_type": "display_data"
    },
    {
     "name": "stdout",
     "output_type": "stream",
     "text": [
      "('petal length (cm)', 0.48974857101106845, 0.2764505228988463)\n",
      "('petal width (cm)', 0.42576588462427273, 0.2784267640196692)\n",
      "('sepal length (cm)', 0.06321927311615957, 0.1062552541190998)\n",
      "('sepal width (cm)', 0.021266271248499294, 0.03703588502489514)\n"
     ]
    }
   ],
   "source": [
    "# Takes a fitted random forest object and a container of feature names\n",
    "# returns the features, their importances, and the stds of which,\n",
    "# and a list of tuples (feature_name, importance, std)\n",
    "# When parameter show=True, it had the side effect of showing a \n",
    "# plt plot of feature importances\n",
    "def plot_feature_importances(rf, feature_names, show=True):\n",
    "    num_features = rf.n_features_\n",
    "    importances = rf.feature_importances_\n",
    "    stds = np.std([tree.feature_importances_ for tree in rf.estimators_], axis=0)\n",
    "    feature_names = np.array(feature_names)\n",
    "    \n",
    "    #get the indices of the sorted importances and reverse them (make them descending)\n",
    "    indices = np.argsort(importances)[::-1]\n",
    "    \n",
    "    result = [(name, score, std) \n",
    "              for name, score, std in zip(feature_names[indices], importances[indices], stds[indices])]\n",
    "    \n",
    "    if show:\n",
    "        plt.figure(figsize=(20,10))\n",
    "        plt.title(\"Feature importances\")\n",
    "        plt.bar(range(num_features), importances[indices],\n",
    "                color=\"r\", yerr=stds[indices], align=\"center\")\n",
    "        plt.xticks(range(num_features), feature_names[indices])\n",
    "        plt.xlim([-1, num_features])\n",
    "        plt.show()\n",
    "    \n",
    "    return result\n",
    "    \n",
    "    \n",
    "    \n",
    "    \n",
    "rf = RandomForestClassifier(n_jobs=-1)\n",
    "rf.fit(iris['data'], iris['target'])\n",
    "\n",
    "scores = plot_feature_importances(rf, iris['feature_names'])\n",
    "\n",
    "for score in scores:\n",
    "    print(score)"
   ]
  },
  {
   "cell_type": "markdown",
   "metadata": {},
   "source": [
    "#### PImp\n",
    "\n",
    "The idea here is to train a model, get a baseline (generalization) accuracy (or another metric) (for instance with OOB score in the case of bootstrap ensemble techniques) $acc_b$, and then, on a separate validation set, render one feature at a time, $f_i$, useless by randomly permuting its values (by useless is meant take away its predictive ability), and assess the accuracy $acc_{f_i}$ of on the thus altered validation set. Then, the importance of $f_i$ is given by $imp(f_i) = acc_b - acc_{f_i}$. Note that there is no normalization, so that typically\n",
    "$\\sum_{i = 1}^{\\textrm{num_features}} imp(f_i) \\neq 1$ \n",
    "\n",
    "One might be wondering why we \"render a feature useless\" in this way, rather than just dropping the feature altogether.  Well we could do that (in fact that's DImp), but the cost is that we have to train #features many models, whereas PImp only requires 1 trained model. One might also wonder, why don't we set the value of the feature to a constant, or to a completely random number. The intuition is, If we'd set the value to a constant, we are not rendering the feature useless, we are assuming that it is meaningful and happens to take on a fixed value; we don't choose completely random numbers because they could be out of scope of the feature with respect to the model, and further we want feature values to be drawn from the same distribution as the real feature.\n",
    "\n",
    "Here is examined the Pimp method on the same datasets as above.\n",
    "\n",
    "(Note that sklearn implements their own [permutation importance](https://scikit-learn.org/stable/modules/generated/sklearn.inspection.permutation_importance.html#sklearn.inspection.permutation_importance) function, but I implement by own below to demonstrate the basic procedure.)"
   ]
  },
  {
   "cell_type": "code",
   "execution_count": 109,
   "metadata": {},
   "outputs": [],
   "source": [
    "from sklearn.ensemble import RandomForestClassifier\n",
    "from sklearn.datasets import load_iris\n",
    "from sklearn.model_selection import train_test_split\n",
    "from sklearn.base import clone\n",
    "import numpy as np\n",
    "from sklearn.metrics import accuracy_score"
   ]
  },
  {
   "cell_type": "code",
   "execution_count": 111,
   "metadata": {},
   "outputs": [
    {
     "name": "stdout",
     "output_type": "stream",
     "text": [
      "baseline generalization accuracy: 0.9642857142857143\n",
      "petal width (cm) 0.306390977443609\n",
      "petal length (cm) 0.1484962406015038\n",
      "sepal length (cm) 0.06954887218045114\n",
      "sepal width (cm) 0.043233082706766957\n",
      "\n",
      "\n",
      "target generalization accuracy: 1.0\n",
      "target 0.07894736842105265\n",
      "sepal width (cm) 0.0\n",
      "sepal length (cm) 0.0\n",
      "petal width (cm) 0.0\n",
      "petal length (cm) 0.0\n",
      "\n",
      "\n",
      "low_noise generalization accuracy: 0.9375\n",
      "low_noise -0.009868421052631526\n",
      "sepal width (cm) -0.03618421052631582\n",
      "sepal length (cm) -0.03618421052631582\n",
      "petal width (cm) -0.03618421052631582\n",
      "petal length (cm) -0.03618421052631582\n",
      "\n",
      "\n",
      "high_noise generalization accuracy: 0.9642857142857143\n",
      "petal length (cm) 0.12218045112781961\n",
      "sepal width (cm) 0.016917293233082775\n",
      "sepal length (cm) 0.016917293233082775\n",
      "petal width (cm) 0.016917293233082775\n",
      "high_noise 0.016917293233082775\n",
      "\n",
      "\n",
      "duplicate petal len generalization accuracy: 0.9642857142857143\n",
      "petal width (cm) 0.09586466165413532\n",
      "sepal width (cm) 0.043233082706766957\n",
      "sepal length (cm) 0.043233082706766957\n",
      "petal length (cm) 0.043233082706766957\n",
      "duplicate petal len 0.043233082706766957\n",
      "\n",
      "\n"
     ]
    }
   ],
   "source": [
    "rf = RandomForestClassifier(n_jobs=-1, oob_score=True)\n",
    "iris = load_iris()\n",
    "\n",
    "num_samples = iris['data'].shape[0]\n",
    "feature_names = iris['feature_names']\n",
    "target_variable = iris['target'].astype(np.float64)\n",
    "\n",
    "# petal lenth + petal width\n",
    "low_noise_correlated_variable = iris['data'][:, 2] + iris['data'][:, 3] + (np.random.rand(num_samples) * .1)\n",
    "high_noise_correlated_variable = iris['data'][:, 2] + iris['data'][:, 3] + (np.random.rand(num_samples) * 5)\n",
    "\n",
    "target_X = np.c_[iris['data'], target_variable]\n",
    "low_noise_X = np.c_[iris['data'], low_noise_correlated_variable]\n",
    "high_noise_X = np.c_[iris['data'], high_noise_correlated_variable]\n",
    "duplicate_X = np.c_[iris['data'], iris['data'][:, 2]]\n",
    "\n",
    "datasets = {'baseline': iris['data'],\n",
    "            'target': target_X, \n",
    "            'low_noise': low_noise_X, \n",
    "            'high_noise': high_noise_X,\n",
    "            'duplicate petal len': duplicate_X}\n",
    "\n",
    "\n",
    "def get_pimp_scores(clf, X, y):    \n",
    "    importances = []\n",
    "    for i in range(clf.n_features_):\n",
    "        save = X.copy()\n",
    "        X[:, i] = np.random.permutation(X[:, i])\n",
    "        y_pred = clf.predict(X)\n",
    "        feature_importance = clf.oob_score_ - accuracy_score(y, y_pred)\n",
    "        importances.append(feature_importance)\n",
    "        X = save\n",
    "        \n",
    "    return importances\n",
    "\n",
    "\n",
    "for name in datasets.keys():\n",
    "    X_train, X_val, y_train, y_val = train_test_split(datasets[name], iris['target'])\n",
    "    clf = clone(rf)\n",
    "    clf.fit(X_train, y_train)\n",
    "    print(name, f\"generalization accuracy: {clf.oob_score_}\")\n",
    "    feature_names.append(name)\n",
    "    importances = get_pimp_scores(clf, X_val, y_val)\n",
    "    for score, feature_name in sorted(zip(importances, feature_names), reverse=True):\n",
    "        print(feature_name, score)\n",
    "    print(\"\\n\")\n",
    "    feature_names.remove(name)"
   ]
  },
  {
   "cell_type": "markdown",
   "metadata": {},
   "source": [
    "Notice the Pimp method doesn't suffer from the bias of deflated scores for relatively low cardinality features - in the `target_X` dataset, the target feature has ultimate importance score, as it should."
   ]
  },
  {
   "cell_type": "markdown",
   "metadata": {},
   "source": [
    "#### DImp\n",
    "\n",
    "The technique here is nearly identical to that of PImp, but as mentioned we have to retrain models, droping features one at a time. "
   ]
  },
  {
   "cell_type": "code",
   "execution_count": 115,
   "metadata": {},
   "outputs": [
    {
     "name": "stdout",
     "output_type": "stream",
     "text": [
      "baseline generalization accuracy: 0.9553571428571429\n",
      "petal length (cm) 0.06062030075187974\n",
      "petal width (cm) 0.03430451127819556\n",
      "sepal width (cm) 0.007988721804511378\n",
      "sepal length (cm) 0.007988721804511378\n",
      "\n",
      "\n",
      "target generalization accuracy: 1.0\n",
      "target 0.052631578947368474\n",
      "sepal width (cm) 0.0\n",
      "sepal length (cm) 0.0\n",
      "petal width (cm) 0.0\n",
      "petal length (cm) 0.0\n",
      "\n",
      "\n",
      "low_noise generalization accuracy: 0.9464285714285714\n",
      "sepal width (cm) 0.007988721804511378\n",
      "sepal length (cm) 0.007988721804511378\n",
      "petal width (cm) 0.007988721804511378\n",
      "petal length (cm) 0.007988721804511378\n",
      "low_noise 0.007988721804511378\n",
      "\n",
      "\n",
      "high_noise generalization accuracy: 0.9642857142857143\n",
      "sepal width (cm) 0.043233082706766957\n",
      "sepal length (cm) 0.043233082706766957\n",
      "petal length (cm) 0.043233082706766957\n",
      "high_noise 0.043233082706766957\n",
      "petal width (cm) 0.016917293233082775\n",
      "\n",
      "\n",
      "duplicate petal len generalization accuracy: 0.9464285714285714\n",
      "petal width (cm) -0.0009398496240601295\n",
      "sepal width (cm) -0.027255639097744422\n",
      "sepal length (cm) -0.027255639097744422\n",
      "petal length (cm) -0.027255639097744422\n",
      "duplicate petal len -0.027255639097744422\n",
      "\n",
      "\n"
     ]
    }
   ],
   "source": [
    "rf = RandomForestClassifier(n_jobs=-1, oob_score=True)\n",
    "iris = load_iris()\n",
    "\n",
    "num_samples = iris['data'].shape[0]\n",
    "feature_names = iris['feature_names']\n",
    "target_variable = iris['target'].astype(np.float64)\n",
    "\n",
    "# petal lenth + petal width\n",
    "low_noise_correlated_variable = iris['data'][:, 2] + iris['data'][:, 3] + (np.random.rand(num_samples) * .1)\n",
    "high_noise_correlated_variable = iris['data'][:, 2] + iris['data'][:, 3] + (np.random.rand(num_samples) * 5)\n",
    "\n",
    "target_X = np.c_[iris['data'], target_variable]\n",
    "low_noise_X = np.c_[iris['data'], low_noise_correlated_variable]\n",
    "high_noise_X = np.c_[iris['data'], high_noise_correlated_variable]\n",
    "duplicate_X = np.c_[iris['data'], iris['data'][:, 2]]\n",
    "\n",
    "datasets = {'baseline': iris['data'],\n",
    "            'target': target_X, \n",
    "            'low_noise': low_noise_X, \n",
    "            'high_noise': high_noise_X,\n",
    "            'duplicate petal len': duplicate_X}\n",
    "\n",
    "def get_dimp_scores(clf, X_train, X_val, y_train, y_val):    \n",
    "    importances = []\n",
    "    copy = clone(clf)\n",
    "    generalization_acc = copy.fit(X_train, y_train).oob_score_\n",
    "    for i in range(X_train.shape[1]):\n",
    "        copy = clone(clf)\n",
    "        X_train_temp = np.delete(X_train, i, 1)\n",
    "        X_val_temp = np.delete(X_val, i, 1)\n",
    "        copy.fit(X_train_temp, y_train)\n",
    "        y_pred = copy.predict(X_val_temp)\n",
    "        feature_importance = generalization_acc - accuracy_score(y_val, y_pred)\n",
    "        importances.append(feature_importance)\n",
    "        \n",
    "    return importances\n",
    "\n",
    "\n",
    "\n",
    "for name in datasets.keys():\n",
    "    X_train, X_val, y_train, y_val = train_test_split(datasets[name], iris['target'])\n",
    "    clf = clone(rf)\n",
    "    feature_names.append(name)\n",
    "    importances = get_dimp_scores(clf, X_train, X_val, y_train, y_val)\n",
    "    clf.fit(X_train, y_train)\n",
    "    print(name, f\"generalization accuracy: {clf.oob_score_}\")\n",
    "    for score, feature_name in sorted(zip(importances, feature_names), reverse=True):\n",
    "        print(feature_name, score)\n",
    "    print(\"\\n\")\n",
    "    feature_names.remove(name)"
   ]
  },
  {
   "cell_type": "markdown",
   "metadata": {},
   "source": [
    "#### MDSP \n",
    "\n",
    "The idea here is to use an emsemble not to predict instance classes but to predict the instances' *proximities* to each other. For each pair of instances $i, j$ their prxomity $p_{i,j}$ is the (perhaps normalized) amount of times the instances fall into the same leaf node. Thus, if there are $N$ instances, the $N \\times N$ proximity matrix is $P = [p_{i,j}]$. The proximities should give a measure of how similar the instances are in terms of what the forest believes their class is. Why not just take their distance via some metric-space metrics, e.g. Euclidean distance? Euclidean distance will not say what cloud of points an instance belongs to and hence it's not necessarily the right similarity measure. But if the random forest has low generalization error, then proximity should be a reasonable measure.\n",
    "\n",
    "With the proximities in hand, we perform *multi-dimensional scaling* ([MDS](https://en.wikipedia.org/wiki/Multidimensional_scaling)). MSD is an old non-linear dimensionality reduction technique, which, given similarities or dissimilarities between $N$ points, aims to embed the points in a lower-dimensional space (typically 1, 2, or 3, for visualization) while as much as possible preserving the similarities/dissimilarities (by minimizing a loss function which penalizes embeddings that change the similarities/dissimilarities). Sklearn implements its own [`manifold.MDS`](https://scikit-learn.org/stable/modules/generated/sklearn.manifold.MDS.html#sklearn.manifold.MDS) estimator and gives a nice explanation in the [user guide](https://scikit-learn.org/stable/modules/manifold.html#multidimensional-scaling).\n",
    "\n",
    "There are different formulations of MDS (and for that matter different ways of embedding points in lower-dimensional space in non-linear ways and for that matter different ways of finding instance similarity), but I show non-metric MDS here, where the general principle is to preserve the ordinality of the similarities in the embeddeding: that is if $s_{i,j}$ is the similarity of $x_i$ and $x_j$ and $d_{i,j}$ is the similarity of their embeddings (we do not have to compute this with the model used to get the original similarities), and if $s_{i,j} \\leq s_{j,k}$, then  $d_{i,j} \\leq d_{j,k}$.\n",
    "\n",
    "Note that `manifold.MDS` takes a dissimilarity matrix, larger values corresponds to more dissimilarity, but $P$ is such that larger numbers indicate more similarity. So we have to make a slight midification to what we input to `manifold.MDS`. The story is similar for the case of `manifold.TSNE`, a procedure explained in the later section of dimensionality reduction and manifold learning."
   ]
  },
  {
   "cell_type": "code",
   "execution_count": 116,
   "metadata": {},
   "outputs": [],
   "source": [
    "from sklearn.manifold import MDS\n",
    "from sklearn.manifold import TSNE\n",
    "import matplotlib.pyplot as plt"
   ]
  },
  {
   "cell_type": "code",
   "execution_count": 117,
   "metadata": {},
   "outputs": [
    {
     "data": {
      "image/png": "[encoded data removed]",
      "text/plain": [
       "<Figure size 720x720 with 1 Axes>"
      ]
     },
     "metadata": {
      "needs_background": "light"
     },
     "output_type": "display_data"
    }
   ],
   "source": [
    "rf = RandomForestClassifier(n_jobs=-1)\n",
    "X = iris['data']\n",
    "y = iris['target']\n",
    "\n",
    "def _get_proximity(leaf_indices, instance_i, instance_j):\n",
    "    proximity = 0\n",
    "    num_estimators = leaf_indices.shape[1]\n",
    "    for estimator_index in range(num_estimators):\n",
    "        if leaf_indices[instance_i, estimator_index] == leaf_indices[instance_j, estimator_index]:\n",
    "            proximity +=1\n",
    "    return proximity\n",
    "\n",
    "def _get_proximity_matrix(rf, X, normalize=True):\n",
    "    num_instances = X.shape[0]\n",
    "    proximity_matrix = np.zeros((num_instances, num_instances))\n",
    "    leaf_indices = rf.apply(X)\n",
    "    num_trees = leaf_indices.shape[1]\n",
    "    for instance_i in range(num_instances):\n",
    "        for instance_j in range(num_instances):\n",
    "            proximity_matrix[instance_i, instance_j] = _get_proximity(leaf_indices, instance_i, instance_j)\n",
    "            \n",
    "    if normalize:\n",
    "        return proximity_matrix / num_trees\n",
    "    return proximity_matrix\n",
    "\n",
    "def _get_dissimilarity_matrix(proximity_matrix):\n",
    "    return np.abs(proximity_matrix - proximity_matrix[0, 0])\n",
    "\n",
    "#takes a fitted RandomForestClassifier\n",
    "def visualize_proximity(rf, X, y, target_names, n_components=2, method='mds'):\n",
    "    proximity_matrix = _get_proximity_matrix(rf, X)\n",
    "    dissimilarity_matrix = _get_dissimilarity_matrix(proximity_matrix)\n",
    "    if method == 'mds':\n",
    "        mds = MDS(n_components=n_components, \n",
    "                  metric=False, \n",
    "                  n_jobs=-1, \n",
    "                  max_iter=3000, \n",
    "                  dissimilarity=\"precomputed\", \n",
    "                  eps=1e-10)\n",
    "        embeddings = mds.fit_transform(dissimilarity_matrix)\n",
    "    elif method == 'tsne':\n",
    "        tsne = TSNE(n_components=n_components,\n",
    "                    metric=\"precomputed\")\n",
    "        embeddings = tsne.fit_transform(dissimilarity_matrix)\n",
    "\n",
    "    #rescale & rotate the data here?\n",
    "    fig, ax = plt.subplots(figsize=(10,10))\n",
    "    scatter = ax.scatter(embeddings[:, 0], embeddings[:, 1], c=y)\n",
    "    title = \"MDS of Random Forest Proximity\" if method == \"mds\" else \"tSNE of Random Forest Proximity\"\n",
    "    plt.title(title)\n",
    "    legend = ax.legend(scatter.legend_elements()[0], target_names)\n",
    "    plt.show()\n",
    "    \n",
    "rf.fit(X, y)\n",
    "visualize_proximity(rf, X, y, target_names=iris['target_names'], method='tsne')"
   ]
  },
  {
   "cell_type": "markdown",
   "metadata": {},
   "source": [
    "## Boosting\n",
    "\n",
    "I only discuss gradient boosting, although there are other techniques e.g. adaboost. Sklearn implements its own [`GradientBoostingClassifier`](https://scikit-learn.org/stable/modules/generated/sklearn.ensemble.GradientBoostingClassifier.html) but here is reviewed mostly the [XGBoost library](https://xgboost.readthedocs.io/en/latest/index.html). On a high level both libraries implement gradient boosting, but it's noted that XGBoost is faster and has better results, handles missing values better, and is more memory efficient, supports GPU computation and distributed frameworks, and can be parallelized. This may change in the future. XGBoost is tree-based, and, to quote its website, it \"solves data science problems in a fast and accurate way ... and can solve problems beyond billions of examples [on a distributed framework].\" (Note: It may soon or already be eclipsed however by [LightGBM](https://lightgbm.readthedocs.io/en/latest/), an open source gradient boosting implementation released by Microsoft.)\n",
    "\n",
    "**Gradient boosting (in particular when implemented by a high quality library like XGBoost) is said to be perhaps\n",
    "the strongest prediction technique in data science when it comes to structured i.e. tabular data.**\n",
    "\n",
    "The idea is to train ensemble members $h_i$ *sequentially*, each learning how to predict the errors or residuals of the previous member (except $h_1$ which is trained directly on the data). Once $n$ (a hyperparameter) of which have been trained, then predictions are made via summing the members, i.e. $\\textrm{y_pred} = \\sum_{i = 1}^{n} h_i(x)$. This is a grossly oversimplified explanation of what's happening under the hood and only one of the ways this idea can be implemented (measures are taken to de-correlate the members, prevent overfitting, optimize training time and space complexity and model generalization, etc.), but it'll do. \n",
    "\n",
    "<img src=\"grad-boost-diagram.png\">"
   ]
  },
  {
   "cell_type": "code",
   "execution_count": 234,
   "metadata": {},
   "outputs": [],
   "source": [
    "import xgboost as xgb\n",
    "from sklearn.datasets import load_iris\n",
    "from sklearn.model_selection import cross_val_predict\n",
    "from sklearn.metrics import classification_report\n",
    "from sklearn.model_selection import train_test_split\n",
    "from sklearn.ensemble import RandomForestClassifier\n",
    "from sklearn.model_selection import GridSearchCV\n",
    "from sklearn.metrics import accuracy_score\n",
    "import numpy as np"
   ]
  },
  {
   "cell_type": "markdown",
   "metadata": {},
   "source": [
    "Here is a basic example to show the effectiveness of gradient boosting."
   ]
  },
  {
   "cell_type": "code",
   "execution_count": 130,
   "metadata": {},
   "outputs": [
    {
     "name": "stdout",
     "output_type": "stream",
     "text": [
      "XGB report\n",
      "              precision    recall  f1-score   support\n",
      "\n",
      "           0       1.00      1.00      1.00        36\n",
      "           1       0.95      0.95      0.95        40\n",
      "           2       0.94      0.94      0.94        36\n",
      "\n",
      "    accuracy                           0.96       112\n",
      "   macro avg       0.96      0.96      0.96       112\n",
      "weighted avg       0.96      0.96      0.96       112\n",
      "\n",
      "RF report\n",
      "              precision    recall  f1-score   support\n",
      "\n",
      "           0       1.00      1.00      1.00        36\n",
      "           1       0.95      0.95      0.95        40\n",
      "           2       0.94      0.94      0.94        36\n",
      "\n",
      "    accuracy                           0.96       112\n",
      "   macro avg       0.96      0.96      0.96       112\n",
      "weighted avg       0.96      0.96      0.96       112\n",
      "\n"
     ]
    }
   ],
   "source": [
    "#This is an XGBoost classifier wrapped in an sklearn model \n",
    "xgb_clf = xgb.XGBClassifier()\n",
    "\n",
    "rf_clf = RandomForestClassifier()\n",
    "iris = load_iris()\n",
    "X = iris['data']\n",
    "y = iris['target']\n",
    "X_train, X_test, y_train, y_test = train_test_split(X, y)\n",
    "y_pred_xgb = cross_val_predict(xgb_clf, X_train, y_train)\n",
    "y_pred_rf = cross_val_predict(rf_clf, X_train, y_train)\n",
    "print(\"XGB report\")\n",
    "print(classification_report(y_train, y_pred_xgb))\n",
    "print(\"RF report\")\n",
    "print(classification_report(y_train, y_pred_rf))"
   ]
  },
  {
   "cell_type": "markdown",
   "metadata": {},
   "source": [
    "### Detailed XGBoost Guide\n",
    "\n",
    "Here I discuss mainly the [sklearn wrapper API](https://xgboost.readthedocs.io/en/latest/python/python_api.html#module-xgboost.sklearn) but note that APIs for other frameworks and languages exist as well, and even when using Python one doesn't have to use the sklearn wrapper API since XGBoost implements a [standalone framework](https://xgboost.readthedocs.io/en/latest/python/python_api.html#). I stick to the [`XGBClassifier`](https://xgboost.readthedocs.io/en/latest/python/python_api.html#xgboost.XGBClassifier) for simplicity of showing how xgb works basically, but note that there is much more, for instance an `XGBRegressor`. \n",
    "\n",
    "As usual, the thing at focus here is practical model building: considerations concerning how to train, test, and debug models, tune hyperparameters, mitigate overfitting, etc..\n",
    "\n",
    "#### Key Parameters:\n",
    "\n",
    "The first level (aka general) parameters (format `param_name=default_val`) are:\n",
    "\n",
    "1. `booster='gbtree'` $\\in$ ('gbtree', 'dart', 'gblinear')\n",
    "\n",
    "2. `n_jobs=1` (-1 to use all available CPUs). \n",
    "\n",
    "Depending on the choice of `booster` there will be different families of second level parameters. **I focus on the tree booster** (technically 'dart' is tree-based as well).\n",
    "\n",
    "The next level (aka booster) parameters are used to balance variance and bias (here is summarized only booster parameters for`booster='gbtree'`):\n",
    "\n",
    "1. `learning_rate=0.3`  $\\in (0,1]$ controls the shrinkage in contribution from each boosting round (decrease to reduce overfitting)\n",
    "\n",
    "**Note: when decreasing `learning_rate`, one usually has to compensate by increasing `n_estimators`. Strike a balance.**\n",
    "\n",
    "2. `n_estimators=100` $\\in \\{1, 2, 3, ...\\}$ number of boosting rounds (decrease to reduce overfitting)\n",
    "\n",
    "3. `max_depth=6` $\\in \\{1, 2, 3, ...\\}$ max tree depth (decrease to reduce overfitting)\n",
    "\n",
    "**Note: aggressive memory consumption when training a deep tree** \n",
    "\n",
    "4. `min_child_weight=1.0` $\\in [0, \\infty)$ min number of instance weight needed in a child in order to split a leaf (increase to reduce overfitting)\n",
    "\n",
    "5. `gamma=0.0` $\\in [0, \\infty)$ min loss reduction needed in order to split a leaf node (increase to reduce overfitting)\n",
    "\n",
    "6. `subsample=1.0` $\\in (0, 1]$ proportion of training data to sample at each boosting step (decrease to reduce overfitting)\n",
    "\n",
    "7. `colsample_bytree=1.0` $\\in (0, 1]$ proportion of feature columns to sample at each boosting step (decrease to reduce overfitting)\n",
    "\n",
    "**Note: There's also `colsample_bylevel` and `colsample_bynode` and they follow the same rules. Note that they are cumulative when more than one of these parameters are passed**\n",
    "\n",
    "There are other parameters to control model complexity and characteristics, but they are omitted here for brevity as the essential such parameters are above. \n",
    "\n",
    "The next level (aka learning task) parameters specify the learning in terms of objective function and evaluation metric(s) for validation. Each choice for `objective` has its own default `eval_metric`. These are many and its recommended to refer to the [documentation](https://xgboost.readthedocs.io/en/latest/parameter.html#learning-task-parameters) for description of choices. Note that the sklearn wrapper default argument for `XGBClassifier` is `objective='binary:logisitc'`\n",
    "\n",
    "**Note: When doing multiclass classification we may set `objective='multi:softmax'` (or `multi:softprob` if we wish to predict probabilities) as well as the `num_classes` variable. XGBoost the uses OvR. But if we don't set these parameters and there are more than two classes, XGBoost sklearn wrapper is smart enough to figure out the number of classes and use softmax and OVR.**\n",
    "\n",
    "The next level controls the training complexity in terms of computational time and space: \n",
    "\n",
    "`tree_method='auto'` $\\in$ ('auto', 'exact', 'approx', 'hist', 'gpu_hist') (later 3 supported for distributed training) the feature & threshold selection algorithm used to grow the tree (to split a leaf). If the default is chosen xgboost will choose 'exact' or 'approx' according by the dataset size. It is recommended to try 'hist' (histogram optimized greedy algorithm) for large datasets, and 'gpu_hist' if available. \n",
    "\n",
    "`max_bin=256` (only to be used if `tree_method='*hist'`) max number of bins in which to histogram continuous features. Increasing improves optimality of splits at the cost of computational time. \n",
    "\n",
    "The last level controls properites of the data:\n",
    "\n",
    "1. For unbalanced problems (deficient in the positive class) it's recommended to use the `scale_pos_weight` (default 1.0) parameter. A good first value to check would be num(negative class) / num (positive class)\n",
    "\n",
    "2. `missing=np.nan` signifies the value of missing data. \n",
    "\n",
    "3. `interaction_constraints` list of lists e.g. [[0, 1], [2, 3 ,4]]. Each inner list is a group of feature indices that are allowed to interact. Use this if from domain knowledge or some other reason you know that certain features should not interact and you want to restrict the model from learning such interactions. If the above argument were passed, then a tree with a node using feature 0 to split the dataset may then only use feature 1 (or feature 0 again) to split descendant nodes, and vice versa; likewise a tree with a node using feature 2 to split the data may only use features 2, 3, or 4 to split descendant nodes. In both cases the ascendant nodes would comply with the constraints as well. If a tree had a node using feature 5 to split, then neither feature 0, 1, 2, 3 nor 4 could be used to split a descendant (and of course none of the ascendants would use feature 0, 1, 2, 3 or 4). Keep in mind that this implies [[0, 1], [1, 2]] would be the same as [[0, 1, 2]].\n"
   ]
  },
  {
   "cell_type": "code",
   "execution_count": 161,
   "metadata": {},
   "outputs": [
    {
     "name": "stdout",
     "output_type": "stream",
     "text": [
      "0.9924358974358974\n",
      "{'colsample_bytree': 0.1, 'learning_rate': 0.2, 'max_depth': 4, 'n_estimators': 100, 'subsample': 0.1}\n",
      "1.0\n"
     ]
    }
   ],
   "source": [
    "xgb_clf = xgb.XGBClassifier(n_jobs=-1)\n",
    "iris = load_iris()\n",
    "X_train, X_test, y_train, y_test = train_test_split(iris['data'], iris['target'], random_state=42)\n",
    "\n",
    "param_grid = {\n",
    "    'learning_rate' : np.linspace(0.2, 0.9, 10),\n",
    "    'n_estimators' : [75, 100, 125],\n",
    "    'max_depth' : [4, 5, 6, 7],\n",
    "    'subsample' : np.linspace(0.1, 1, 5),\n",
    "    'colsample_bytree' : np.linspace(0.1, 1, 5)}\n",
    "\n",
    "# If we weren't using grid search we would type\n",
    "#\n",
    "# clf.set_params(**params)\n",
    "#\n",
    "# where params of course wouldn't be a grid but a dict of single parameter values.\n",
    "# Alternatively one could do\n",
    "#\n",
    "# clf = xgb.XGBClassifier(**params)\n",
    "#\n",
    "# but don't forget the kwargs unpacking operator **\n",
    "clf = GridSearchCV(xgb_clf, param_grid=param_grid, scoring='roc_auc_ovr', cv=3, n_jobs=-1)\n",
    "clf.fit(X_train, y_train)\n",
    "\n",
    "print(clf.best_score_)\n",
    "print(clf.best_params_)\n",
    "\n",
    "y_pred = clf.predict(X_test)\n",
    "print(accuracy_score(y_test, y_pred))"
   ]
  },
  {
   "cell_type": "markdown",
   "metadata": {},
   "source": [
    "XGBoost also takes care of [early stopping](https://xgboost.readthedocs.io/en/latest/python/python_api.html#xgboost.XGBRegressor.fit). All we have to do is pass the below parameters to the `fit` method. Note that the returned estimator is not the one associated with the best iteration, but the one associated with the final iteration when the training was terminated by early stopping. I show how to use this technique below, although I don't think it plays nice with `GridSearchCV`."
   ]
  },
  {
   "cell_type": "code",
   "execution_count": 235,
   "metadata": {},
   "outputs": [
    {
     "name": "stdout",
     "output_type": "stream",
     "text": [
      "[0]\tvalidation_0-merror:0.02632\n",
      "Will train until validation_0-merror hasn't improved in 15 rounds.\n",
      "[1]\tvalidation_0-merror:0.02632\n",
      "[2]\tvalidation_0-merror:0.00000\n",
      "[3]\tvalidation_0-merror:0.00000\n",
      "[4]\tvalidation_0-merror:0.00000\n",
      "[5]\tvalidation_0-merror:0.00000\n",
      "[6]\tvalidation_0-merror:0.00000\n",
      "[7]\tvalidation_0-merror:0.00000\n",
      "[8]\tvalidation_0-merror:0.00000\n",
      "[9]\tvalidation_0-merror:0.00000\n",
      "[10]\tvalidation_0-merror:0.00000\n",
      "[11]\tvalidation_0-merror:0.00000\n",
      "[12]\tvalidation_0-merror:0.00000\n",
      "[13]\tvalidation_0-merror:0.00000\n",
      "[14]\tvalidation_0-merror:0.00000\n",
      "[15]\tvalidation_0-merror:0.00000\n",
      "[16]\tvalidation_0-merror:0.00000\n",
      "[17]\tvalidation_0-merror:0.00000\n",
      "Stopping. Best iteration:\n",
      "[2]\tvalidation_0-merror:0.00000\n",
      "\n"
     ]
    },
    {
     "data": {
      "text/plain": [
       "GridSearchCV(cv=3,\n",
       "             estimator=XGBClassifier(base_score=None, booster=None,\n",
       "                                     colsample_bylevel=None,\n",
       "                                     colsample_bynode=None,\n",
       "                                     colsample_bytree=None, gamma=None,\n",
       "                                     gpu_id=None, importance_type='gain',\n",
       "                                     interaction_constraints=None,\n",
       "                                     learning_rate=None, max_delta_step=None,\n",
       "                                     max_depth=None, min_child_weight=None,\n",
       "                                     missing=nan, monotone_constraints=None,\n",
       "                                     n_estimators=100, n_jobs...\n",
       "                                     scale_pos_weight=None, subsample=None,\n",
       "                                     tree_method=None, validate_parameters=None,\n",
       "                                     verbosity=None),\n",
       "             n_jobs=-1,\n",
       "             param_grid={'colsample_bytree': array([0.1, 0.2, 0.3, 0.4, 0.5, 0.6, 0.7, 0.8, 0.9, 1. ]),\n",
       "                         'learning_rate': array([0.1, 0.2, 0.3, 0.4, 0.5, 0.6, 0.7, 0.8, 0.9, 1. ]),\n",
       "                         'max_depth': [3, 4, 5, 6],\n",
       "                         'subsample': array([0.1, 0.2, 0.3, 0.4, 0.5, 0.6, 0.7, 0.8, 0.9, 1. ])},\n",
       "             scoring='roc_auc_ovr')"
      ]
     },
     "execution_count": 235,
     "metadata": {},
     "output_type": "execute_result"
    }
   ],
   "source": [
    "xgb_clf = xgb.XGBClassifier()\n",
    "iris = load_iris()\n",
    "\n",
    "# I explain below why I call these validation and not test.\n",
    "# Assume that I've already set aside a test set\n",
    "X_train, X_val, y_train, y_val = train_test_split(iris['data'], iris['target'], random_state=42)\n",
    "\n",
    "param_grid = {\n",
    "    'learning_rate' : np.linspace(0.1, 1.0, 10),\n",
    "    'max_depth' : [3, 4, 5, 6],\n",
    "    'subsample' : np.linspace(0.1, 1, 10),\n",
    "    'colsample_bytree' : np.linspace(0.1, 1, 10)}\n",
    "\n",
    "#eval_metric in this case could be 'merror' or 'mlogloss' (others might cause errors)\n",
    "fit_params = {\n",
    "    'early_stopping_rounds' : 15,\n",
    "    'eval_metric' : 'merror',\n",
    "    'eval_set' : [[X_val, y_val]]}\n",
    "\n",
    "clf = GridSearchCV(xgb_clf, param_grid, n_jobs=-1, cv=3, scoring='roc_auc_ovr')\n",
    "\n",
    "# While the grid search is cross validating over the training data,\n",
    "# each time the fit method of xgb_clf is called XGBoost automatically performs\n",
    "# early stopping, using the validation data to assess model generalization.\n",
    "# The eval_metric has to improve at least once every early_stopping_rounds rounds in order for\n",
    "# training to proceed (for another sequential weak learner to be added)\n",
    "clf.fit(X_train, y_train, **fit_params)"
   ]
  },
  {
   "cell_type": "code",
   "execution_count": 245,
   "metadata": {},
   "outputs": [
    {
     "name": "stdout",
     "output_type": "stream",
     "text": [
      "{'colsample_bytree': 0.5, 'learning_rate': 0.8, 'max_depth': 4, 'subsample': 1.0}\n",
      "0.9924287749287748\n"
     ]
    }
   ],
   "source": [
    "print(clf.best_params_)\n",
    "print(clf.best_score_)"
   ]
  },
  {
   "cell_type": "markdown",
   "metadata": {},
   "source": [
    "The above output shows that after 3 trees are grown (3 boosting rounds) the multiclass-error rate drops to 0 and so obviousy no improvement can be made thereafter on the validation set - early stopping halts the algorithm after 18th iteration. \n",
    "\n",
    "**Note:** After training is complete predictions are made using the fully grown booster, in this case with 18 trees, rather than the model using the best number of trees. If we want such a tree, we have to retrain a model using `n_estimators=trained_model.best_iteration` (note if we train the model with `GridSearchCV` we need to use `trained_model.best_estimator_.best_iteration`). Early stopping is useful for the experimental process of model building in terms of saving time and finding the most powerful model. In an application where we have to refresh the model every $x$ hours we wouldn't want to use early stopping and then have to retrain if the data is large - we should have already figured out a decent ballpark for `n_estimators` earlier, using early stopping (we can use grid search when we refresh our model, centering the grid around the thus a priori known `best_iteration`)"
   ]
  },
  {
   "cell_type": "markdown",
   "metadata": {},
   "source": [
    "One has to dig into Stack Overflow to figure out how to do stuff like use the `early_stopping_rounds` parameter of the `XGBClassifier`'s `.fit()` method when using `GridSearchCV`, and further how to `sklearn.model_selection.KFold` it and stuff like that. **I'm not sure that the above code implements early stopping with grid search, as from the output it seems that early stoping was only performed once. My guess would be that some bespoke code needs to be written to accomplish this as I couldn't find anything on the web.** See below for my (simplest working case) implementation."
   ]
  },
  {
   "cell_type": "code",
   "execution_count": 270,
   "metadata": {},
   "outputs": [],
   "source": [
    "from sklearn.model_selection import ParameterGrid\n",
    "from sklearn.model_selection import StratifiedKFold\n",
    "from sklearn.base import clone\n",
    "from sklearn.metrics import accuracy_score"
   ]
  },
  {
   "cell_type": "code",
   "execution_count": 290,
   "metadata": {},
   "outputs": [],
   "source": [
    "MAX_ITERATION = 2000\n",
    "\n",
    "def get_best_early_stopping_grid_search_params(model, \n",
    "                                               X, \n",
    "                                               y, \n",
    "                                               param_grid, \n",
    "                                               cv=5,\n",
    "                                               **fit_params):\n",
    "    best_index = 0\n",
    "    best_score = 0\n",
    "    std_best_score = 0\n",
    "    params = list(ParameterGrid(param_grid))\n",
    "    best_iterations = []\n",
    "    for i in range(len(params)):\n",
    "        scores = []\n",
    "        splitter = StratifiedKFold(n_splits=cv, shuffle=True)\n",
    "        base_model = clone(model)\n",
    "        retrain_model = clone(model)\n",
    "        base_model.set_params(n_estimators = MAX_ITERATION, **(params[i]))\n",
    "        for train_indices, test_indices in splitter.split(X, y):\n",
    "            base_model.fit(X[train_indices], y[train_indices], verbose=False, **fit_params)\n",
    "            best_iteration = base_model.best_iteration\n",
    "            best_iterations.append(best_iteration)\n",
    "            retrain_model.set_params(n_estimators=best_iteration, **(params[i]))\n",
    "            retrain_model.fit(X[train_indices], y[train_indices], verbose=False)\n",
    "            y_pred = retrain_model.predict(X[test_indices])\n",
    "            score = accuracy_score(y[test_indices], y_pred)\n",
    "            scores.append(score)\n",
    "        avg_score = np.mean(scores)\n",
    "        std_score = np.std(scores)\n",
    "        if avg_score > best_score:\n",
    "            best_score = avg_score\n",
    "            std_best_score = std_score\n",
    "            best_index = i\n",
    "            \n",
    "    result = {'best_params': params[best_index], \n",
    "              'best_n_estimators' : best_iterations[best_index],\n",
    "              'best_score' : best_score, \n",
    "              'std_best_score' : std_best_score}\n",
    "    return result\n",
    "        "
   ]
  },
  {
   "cell_type": "code",
   "execution_count": 293,
   "metadata": {},
   "outputs": [
    {
     "name": "stdout",
     "output_type": "stream",
     "text": [
      "best_params {'colsample_bytree': 0.4, 'learning_rate': 0.6, 'max_depth': 4, 'subsample': 0.1}\n",
      "best_n_estimators 38\n",
      "best_score 0.9644381223328592\n",
      "std_best_score 0.012070101528077675\n"
     ]
    }
   ],
   "source": [
    "xgb_clf = xgb.XGBClassifier()\n",
    "iris = load_iris()\n",
    "\n",
    "X_train, X_val, y_train, y_val = train_test_split(iris['data'], iris['target'], random_state=42)\n",
    "\n",
    "param_grid = {\n",
    "    'learning_rate' : np.linspace(0.1, 1.0, 10),\n",
    "    'max_depth' : [3, 4, 5, 6],\n",
    "    'subsample' : np.linspace(0.1, 1, 10),\n",
    "    'colsample_bytree' : np.linspace(0.1, 1, 10)}\n",
    "\n",
    "fit_params = {\n",
    "    'early_stopping_rounds' : 15,\n",
    "    'eval_metric' : 'merror',\n",
    "    'eval_set' : [[X_val, y_val]]}\n",
    "\n",
    "results = get_best_early_stopping_grid_search_params(xgb_clf,\n",
    "                                                     X_train,\n",
    "                                                     y_train,\n",
    "                                                     param_grid=param_grid,\n",
    "                                                     cv=3,\n",
    "                                                     **fit_params)\n",
    "\n",
    "for key in results.keys():\n",
    "    print(key, results[key])"
   ]
  },
  {
   "cell_type": "markdown",
   "metadata": {},
   "source": [
    "XGBoost also implements utilities for [model persistance](https://xgboost.readthedocs.io/en/latest/tutorials/saving_model.html#) (as does [sklearn](https://scikit-learn.org/stable/modules/model_persistence.html)), as does the [xgboost sklearn API](https://xgboost.readthedocs.io/en/latest/python/python_api.html#xgboost.XGBClassifier.save_model)"
   ]
  },
  {
   "cell_type": "code",
   "execution_count": 298,
   "metadata": {},
   "outputs": [
    {
     "name": "stdout",
     "output_type": "stream",
     "text": [
      "1.0\n",
      "True\n"
     ]
    }
   ],
   "source": [
    "clf = xgb.XGBClassifier(n_jobs=-1)\n",
    "\n",
    "params = {'max_depth': 4,\n",
    "          'n_estimators': 38,\n",
    "          'learning_rate': 0.6,\n",
    "          'subsample': 0.1,\n",
    "          'colsample_bytree': 0.4}\n",
    "\n",
    "clf.set_params(**params)\n",
    "\n",
    "clf.fit(X_train, y_train)\n",
    "y_pred = clf.predict(X_test)\n",
    "print(accuracy_score(y_test, y_pred))\n",
    "\n",
    "clf.save_model('model0')\n",
    "\n",
    "clf1 = xgb.XGBClassifier()\n",
    "clf1.load_model('model0')\n",
    "\n",
    "y_pred_1 = clf.predict(X_test)\n",
    "print(np.all(y_pred == y_pred_1))"
   ]
  },
  {
   "cell_type": "markdown",
   "metadata": {},
   "source": [
    "## Stacking\n",
    "\n",
    "The basic idea here it so combine a simultaneously-trained ensemble's predictions not in a hard-coded way like voting, but by feeding them into another model (called a \"blender\") as its *training* data (the training targets for this model being the original targets). The idea can be extended to more than one blending layer. The advantage here over boosting is that the models can be trained in parallel with no communication between them. But it's possible that you will need an exponential amount of models to match the power of boosting, and this will require more data. On the other hand stacking is somewhat heuristic and there's more research supporting the use of boosting.\n",
    "\n",
    "### Training the ensemble\n",
    "<img src=\"stack-training-1.png\">\n",
    "\n",
    "### Training the blender\n",
    "<img src=\"stack-training-2.png\">\n",
    "\n",
    "### Making predictions\n",
    "<img src=\"stack-predicting.png\">"
   ]
  },
  {
   "cell_type": "code",
   "execution_count": null,
   "metadata": {},
   "outputs": [],
   "source": []
  }
 ],
 "metadata": {
  "kernelspec": {
   "display_name": "ds",
   "language": "python",
   "name": "ds"
  },
  "language_info": {
   "codemirror_mode": {
    "name": "ipython",
    "version": 3
   },
   "file_extension": ".py",
   "mimetype": "text/x-python",
   "name": "python",
   "nbconvert_exporter": "python",
   "pygments_lexer": "ipython3",
   "version": "3.8.3"
  }
 },
 "nbformat": 4,
 "nbformat_minor": 4
}
